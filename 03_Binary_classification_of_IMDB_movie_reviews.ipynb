{
 "cells": [
  {
   "cell_type": "markdown",
   "metadata": {},
   "source": [
    "### Binary classification of IMDB movie reviews"
   ]
  },
  {
   "cell_type": "code",
   "execution_count": 35,
   "metadata": {},
   "outputs": [],
   "source": [
    "from keras import models\n",
    "from keras import layers\n",
    "import numpy as np\n",
    "import matplotlib.pyplot as plt"
   ]
  },
  {
   "cell_type": "code",
   "execution_count": 10,
   "metadata": {},
   "outputs": [],
   "source": [
    "# Download the IMDB dataset (only keep the 1000 most frequent words)\n",
    "\n",
    "from keras.datasets import imdb\n",
    "(train_data, train_labels), (test_data, test_labels) = imdb.load_data(num_words=1000)"
   ]
  },
  {
   "cell_type": "code",
   "execution_count": 76,
   "metadata": {},
   "outputs": [
    {
     "name": "stdout",
     "output_type": "stream",
     "text": [
      "[1, 13, 244, 6, 87, 337, 7, 628, 2, 5, 28, 285, 15, 240, 93, 23, 288, 549, 18, 2, 673, 4, 241, 534, 2, 2, 20, 38, 54, 13, 258, 46, 44, 14, 13, 2, 2, 12, 5, 5, 51, 9, 14, 45, 6, 762, 7, 2, 2, 328, 5, 428, 2, 15, 26, 2, 5, 2, 2, 5, 2, 279, 13, 92, 124, 803, 52, 21, 279, 14, 9, 43, 6, 762, 7, 595, 15, 16, 2, 23, 4, 2, 467, 4, 403, 7, 628, 2, 8, 97, 6, 171, 2, 99, 387, 72, 97, 12, 788, 15, 13, 161, 459, 44, 4, 2, 2, 173, 21, 69, 8, 401, 2, 4, 481, 88, 61, 2, 238, 28, 32, 11, 32, 14, 9, 6, 545, 2, 766, 5, 203, 73, 28, 43, 77, 317, 11, 4, 2, 953, 270, 17, 6, 2, 13, 545, 386, 25, 92, 2, 129, 278, 23, 14, 241, 46, 7, 158]\n",
      "0\n"
     ]
    }
   ],
   "source": [
    "# Show the list of word indices of sample #100\n",
    "print train_data[100]\n",
    "\n",
    "# Show the classification label of sample #100 (0:negative, 1:positive)\n",
    "print train_labels[100]\n"
   ]
  },
  {
   "cell_type": "code",
   "execution_count": 18,
   "metadata": {},
   "outputs": [
    {
     "name": "stdout",
     "output_type": "stream",
     "text": [
      "Downloading data from https://s3.amazonaws.com/text-datasets/imdb_word_index.json\n",
      "1646592/1641221 [==============================] - 27s 17us/step\n",
      "1654784/1641221 [==============================] - 27s 16us/step\n"
     ]
    }
   ],
   "source": [
    "# How to decode the word indices back to words\n",
    "word_index = imdb.get_word_index()"
   ]
  },
  {
   "cell_type": "code",
   "execution_count": 74,
   "metadata": {},
   "outputs": [],
   "source": [
    "# Get the words for sample #100\n",
    "reverse_word_index = dict([(value, key) for (key, value) in word_index.items()])\n",
    "decoded_review = ' '.join([reverse_word_index.get(i - 3, '?') for i in train_data[100]])"
   ]
  },
  {
   "cell_type": "code",
   "execution_count": 75,
   "metadata": {},
   "outputs": [
    {
     "name": "stdout",
     "output_type": "stream",
     "text": [
      "? i am a great fan of david ? and have everything that he's made on dvd except for ? room the 2 hour ? ? movie so when i found out about this i ? ? it and and what is this it's a bunch of ? ? black and white ? that are ? and ? ? and ? maybe i don't know what's good but maybe this is just a bunch of crap that was ? on the ? under the name of david ? to make a few ? too let me make it clear that i didn't care about the ? ? part but had to keep ? the sound because my ? might have all in all this is a highly ? release and may well have just been left in the ? box set as a ? i highly recommend you don't ? your money on this 2 out of 10\n"
     ]
    }
   ],
   "source": [
    "# Display the words of data sample #100\n",
    "print decoded_review"
   ]
  },
  {
   "cell_type": "code",
   "execution_count": 44,
   "metadata": {},
   "outputs": [],
   "source": [
    "# Create a function to vectorize the data (we need an array of size 1000 where a word index\n",
    "# appearing in the data will be represented by 1, and 0 otherwise).\n",
    "def vectorize_sequences(sequences, dimension=1000):\n",
    "    results = np.zeros((len(sequences), dimension))\n",
    "    for i, sequence in enumerate(sequences):\n",
    "        results[i, sequence] = 1\n",
    "    return results"
   ]
  },
  {
   "cell_type": "code",
   "execution_count": 77,
   "metadata": {},
   "outputs": [],
   "source": [
    "# Vectorize the train and test data samples\n",
    "x_train = vectorize_sequences(train_data)\n",
    "x_test = vectorize_sequences(test_data)\n",
    "\n",
    "# Vectorize the labels of train and test samples\n",
    "y_train = np.asarray(train_labels).astype('float32')\n",
    "y_test = np.asarray(test_labels).astype('float32')"
   ]
  },
  {
   "cell_type": "code",
   "execution_count": 79,
   "metadata": {},
   "outputs": [],
   "source": [
    "# Define the neural network: 2 hidden layers of 16 units, relu activation, sigmoid output\n",
    "\n",
    "model = models.Sequential()\n",
    "model.add(layers.Dense(16, activation='relu', input_shape=(1000,)))\n",
    "model.add(layers.Dense(16, activation='relu'))\n",
    "model.add(layers.Dense(1, activation='sigmoid'))\n",
    "\n",
    "model.compile(optimizer='rmsprop',loss='binary_crossentropy',metrics=['accuracy'])"
   ]
  },
  {
   "cell_type": "code",
   "execution_count": 80,
   "metadata": {},
   "outputs": [],
   "source": [
    "# From the 25000 samples available for training, remove 5000 to use for validation\n",
    "\n",
    "x_val = x_train[:5000]\n",
    "partial_x_train = x_train[5000:]\n",
    "\n",
    "y_val = y_train[:5000]\n",
    "partial_y_train = y_train[5000:]"
   ]
  },
  {
   "cell_type": "code",
   "execution_count": 82,
   "metadata": {},
   "outputs": [
    {
     "name": "stdout",
     "output_type": "stream",
     "text": [
      "Train on 20000 samples, validate on 5000 samples\n",
      "Epoch 1/20\n",
      "20000/20000 [==============================] - 0s 15us/step - loss: 0.1079 - acc: 0.9642 - val_loss: 0.5426 - val_acc: 0.8288\n",
      "Epoch 2/20\n",
      "20000/20000 [==============================] - 0s 15us/step - loss: 0.1034 - acc: 0.9673 - val_loss: 0.5374 - val_acc: 0.8330\n",
      "Epoch 3/20\n",
      "20000/20000 [==============================] - 0s 15us/step - loss: 0.1034 - acc: 0.9664 - val_loss: 0.5466 - val_acc: 0.8284\n",
      "Epoch 4/20\n",
      "20000/20000 [==============================] - 0s 15us/step - loss: 0.0973 - acc: 0.9697 - val_loss: 0.5597 - val_acc: 0.8284\n",
      "Epoch 5/20\n",
      "20000/20000 [==============================] - 0s 16us/step - loss: 0.0926 - acc: 0.9709 - val_loss: 0.5760 - val_acc: 0.8274\n",
      "Epoch 6/20\n",
      "20000/20000 [==============================] - 0s 15us/step - loss: 0.0910 - acc: 0.9719 - val_loss: 0.5602 - val_acc: 0.8340\n",
      "Epoch 7/20\n",
      "20000/20000 [==============================] - 0s 15us/step - loss: 0.0884 - acc: 0.9722 - val_loss: 0.5694 - val_acc: 0.8322\n",
      "Epoch 8/20\n",
      "20000/20000 [==============================] - 0s 17us/step - loss: 0.0831 - acc: 0.9754 - val_loss: 0.5814 - val_acc: 0.8302\n",
      "Epoch 9/20\n",
      "20000/20000 [==============================] - 0s 15us/step - loss: 0.0801 - acc: 0.9766 - val_loss: 0.6186 - val_acc: 0.8276\n",
      "Epoch 10/20\n",
      "20000/20000 [==============================] - 0s 17us/step - loss: 0.0786 - acc: 0.9771 - val_loss: 0.6049 - val_acc: 0.8316\n",
      "Epoch 11/20\n",
      "20000/20000 [==============================] - 0s 15us/step - loss: 0.0749 - acc: 0.9782 - val_loss: 0.6236 - val_acc: 0.8298\n",
      "Epoch 12/20\n",
      "20000/20000 [==============================] - 0s 15us/step - loss: 0.0712 - acc: 0.9804 - val_loss: 0.6301 - val_acc: 0.8320\n",
      "Epoch 13/20\n",
      "20000/20000 [==============================] - 0s 20us/step - loss: 0.0708 - acc: 0.9796 - val_loss: 0.6555 - val_acc: 0.8290\n",
      "Epoch 14/20\n",
      "20000/20000 [==============================] - 0s 15us/step - loss: 0.0707 - acc: 0.9790 - val_loss: 0.6386 - val_acc: 0.8312\n",
      "Epoch 15/20\n",
      "20000/20000 [==============================] - 0s 16us/step - loss: 0.0645 - acc: 0.9827 - val_loss: 0.6601 - val_acc: 0.8268\n",
      "Epoch 16/20\n",
      "20000/20000 [==============================] - 0s 15us/step - loss: 0.0646 - acc: 0.9819 - val_loss: 0.6736 - val_acc: 0.8274\n",
      "Epoch 17/20\n",
      "20000/20000 [==============================] - 0s 15us/step - loss: 0.0609 - acc: 0.9829 - val_loss: 0.6817 - val_acc: 0.8278\n",
      "Epoch 18/20\n",
      "20000/20000 [==============================] - 0s 20us/step - loss: 0.0567 - acc: 0.9856 - val_loss: 0.7201 - val_acc: 0.8254\n",
      "Epoch 19/20\n",
      "20000/20000 [==============================] - 0s 21us/step - loss: 0.0579 - acc: 0.9846 - val_loss: 0.7356 - val_acc: 0.8232\n",
      "Epoch 20/20\n",
      "20000/20000 [==============================] - 0s 16us/step - loss: 0.0515 - acc: 0.9888 - val_loss: 0.7013 - val_acc: 0.8294\n"
     ]
    }
   ],
   "source": [
    "# Train the network for 20 epochs, using a batch size of 512 samples\n",
    "history = model.fit(partial_x_train, partial_y_train, epochs=20, batch_size=512, validation_data=(x_val, y_val))"
   ]
  },
  {
   "cell_type": "code",
   "execution_count": 66,
   "metadata": {},
   "outputs": [
    {
     "data": {
      "text/plain": [
       "['acc', 'loss', 'val_acc', 'val_loss']"
      ]
     },
     "execution_count": 66,
     "metadata": {},
     "output_type": "execute_result"
    }
   ],
   "source": [
    "# The history object keeps all the training information\n",
    "history_dict = history.history\n",
    "history_dict.keys()"
   ]
  },
  {
   "cell_type": "code",
   "execution_count": 83,
   "metadata": {},
   "outputs": [
    {
     "data": {
      "text/plain": [
       "<matplotlib.legend.Legend at 0x132a481d0>"
      ]
     },
     "execution_count": 83,
     "metadata": {},
     "output_type": "execute_result"
    },
    {
     "data": {
      "image/png": "[encoded data removed]",
      "text/plain": [
       "<Figure size 432x288 with 1 Axes>"
      ]
     },
     "metadata": {
      "needs_background": "light"
     },
     "output_type": "display_data"
    }
   ],
   "source": [
    "# Plot the training and validation loss curves (note that we overfit the training data)\n",
    "\n",
    "history_dict = history.history\n",
    "loss_values = history_dict['loss']\n",
    "val_loss_values = history_dict['val_loss']\n",
    "epochs = range(1, len(loss_values) + 1)\n",
    "\n",
    "plt.plot(epochs, loss_values, 'b', label='Training loss')\n",
    "plt.plot(epochs, val_loss_values, 'r', label='Validation loss')\n",
    "plt.title('Training and validation loss')\n",
    "plt.xlabel('Epochs')\n",
    "plt.ylabel('Loss')\n",
    "plt.legend()\n",
    "\n",
    "\n"
   ]
  },
  {
   "cell_type": "code",
   "execution_count": 84,
   "metadata": {},
   "outputs": [
    {
     "data": {
      "image/png": "[encoded data removed]",
      "text/plain": [
       "<Figure size 432x288 with 1 Axes>"
      ]
     },
     "metadata": {
      "needs_background": "light"
     },
     "output_type": "display_data"
    }
   ],
   "source": [
    "# Plot the training and validation accuracy curves (note that we overfit the training data)\n",
    "\n",
    "plt.clf()\n",
    "acc_values = history_dict['acc'] \n",
    "val_acc_values = history_dict['val_acc']\n",
    "plt.plot(epochs, acc_values, 'b', label='Training acc')\n",
    "plt.plot(epochs, val_acc_values, 'r', label='Validation acc')\n",
    "plt.title('Training and validation accuracy')\n",
    "plt.xlabel('Epochs')\n",
    "plt.ylabel('Loss')\n",
    "plt.legend()\n",
    "plt.show()\n"
   ]
  },
  {
   "cell_type": "code",
   "execution_count": 89,
   "metadata": {},
   "outputs": [
    {
     "name": "stdout",
     "output_type": "stream",
     "text": [
      "25000/25000 [==============================] - 1s 28us/step\n",
      "[0.6970028579521179, 0.82416]\n"
     ]
    }
   ],
   "source": [
    "# Apply the trained model on the test data (we get an accuracy of 82%)\n",
    "results = model.evaluate(x_test, y_test)\n",
    "print results"
   ]
  },
  {
   "cell_type": "code",
   "execution_count": 93,
   "metadata": {},
   "outputs": [
    {
     "data": {
      "text/plain": [
       "array([[0.47024083],\n",
       "       [0.99996495],\n",
       "       [0.18939587],\n",
       "       ...,\n",
       "       [0.02172613],\n",
       "       [0.00404838],\n",
       "       [0.09561685]], dtype=float32)"
      ]
     },
     "execution_count": 93,
     "metadata": {},
     "output_type": "execute_result"
    }
   ],
   "source": [
    "# Use the trained model to predict the labels of test data (the output is the probability of\n",
    "# the review being positive)\n",
    "model.predict(x_test)"
   ]
  },
  {
   "cell_type": "code",
   "execution_count": null,
   "metadata": {},
   "outputs": [],
   "source": []
  },
  {
   "cell_type": "code",
   "execution_count": 134,
   "metadata": {},
   "outputs": [
    {
     "data": {
      "text/plain": [
       "3"
      ]
     },
     "execution_count": 134,
     "metadata": {},
     "output_type": "execute_result"
    }
   ],
   "source": [
    "a = [8,16,32]\n",
    "a[0]\n",
    "len(a)"
   ]
  },
  {
   "cell_type": "markdown",
   "metadata": {},
   "source": [
    "#### Experimenting with different network architectures and comparing performance"
   ]
  },
  {
   "cell_type": "code",
   "execution_count": 138,
   "metadata": {},
   "outputs": [],
   "source": [
    "def create_IMDB_model(units_list):\n",
    "    \n",
    "    model = models.Sequential()\n",
    "    \n",
    "    for layers_nbr in range(len(units_list)):\n",
    "        \n",
    "        if layers_nbr == 0:\n",
    "            model.add(layers.Dense(units_list[0], activation='relu', input_shape=(1000,)))\n",
    "        else:\n",
    "            model.add(layers.Dense(units_list[layers_nbr], activation='relu'))\n",
    "      \n",
    "    model.add(layers.Dense(1, activation='sigmoid'))\n",
    "    model.compile(optimizer='rmsprop',loss='binary_crossentropy',metrics=['accuracy'])\n",
    "    \n",
    "    return model\n",
    "    \n",
    "  "
   ]
  },
  {
   "cell_type": "code",
   "execution_count": null,
   "metadata": {},
   "outputs": [],
   "source": []
  },
  {
   "cell_type": "code",
   "execution_count": 139,
   "metadata": {},
   "outputs": [
    {
     "name": "stdout",
     "output_type": "stream",
     "text": [
      "Train on 20000 samples, validate on 5000 samples\n",
      "Epoch 1/25\n",
      "20000/20000 [==============================] - 2s 96us/step - loss: 0.5444 - acc: 0.7454 - val_loss: 0.4272 - val_acc: 0.8252\n",
      "Epoch 2/25\n",
      "20000/20000 [==============================] - 0s 18us/step - loss: 0.3830 - acc: 0.8459 - val_loss: 0.3687 - val_acc: 0.8470\n",
      "Epoch 3/25\n",
      "20000/20000 [==============================] - 0s 16us/step - loss: 0.3370 - acc: 0.8645 - val_loss: 0.3775 - val_acc: 0.8404\n",
      "Epoch 4/25\n",
      "20000/20000 [==============================] - 0s 17us/step - loss: 0.3192 - acc: 0.8675 - val_loss: 0.3462 - val_acc: 0.8566\n",
      "Epoch 5/25\n",
      "20000/20000 [==============================] - 0s 16us/step - loss: 0.3100 - acc: 0.8729 - val_loss: 0.3369 - val_acc: 0.8616\n",
      "Epoch 6/25\n",
      "20000/20000 [==============================] - 0s 17us/step - loss: 0.3007 - acc: 0.8758 - val_loss: 0.3482 - val_acc: 0.8568\n",
      "Epoch 7/25\n",
      "20000/20000 [==============================] - 0s 17us/step - loss: 0.3000 - acc: 0.8766 - val_loss: 0.3477 - val_acc: 0.8568\n",
      "Epoch 8/25\n",
      "20000/20000 [==============================] - 0s 17us/step - loss: 0.2956 - acc: 0.8775 - val_loss: 0.3659 - val_acc: 0.8462\n",
      "Epoch 9/25\n",
      "20000/20000 [==============================] - 0s 18us/step - loss: 0.2952 - acc: 0.8798 - val_loss: 0.3554 - val_acc: 0.8522\n",
      "Epoch 10/25\n",
      "20000/20000 [==============================] - 0s 20us/step - loss: 0.2898 - acc: 0.8796 - val_loss: 0.3413 - val_acc: 0.8582\n",
      "Epoch 11/25\n",
      "20000/20000 [==============================] - 0s 21us/step - loss: 0.2858 - acc: 0.8824 - val_loss: 0.3466 - val_acc: 0.8552\n",
      "Epoch 12/25\n",
      "20000/20000 [==============================] - 0s 21us/step - loss: 0.2856 - acc: 0.8822 - val_loss: 0.3943 - val_acc: 0.8364\n",
      "Epoch 13/25\n",
      "20000/20000 [==============================] - 0s 22us/step - loss: 0.2836 - acc: 0.8827 - val_loss: 0.4084 - val_acc: 0.8260\n",
      "Epoch 14/25\n",
      "20000/20000 [==============================] - 1s 27us/step - loss: 0.2792 - acc: 0.8855 - val_loss: 0.3463 - val_acc: 0.8588\n",
      "Epoch 15/25\n",
      "20000/20000 [==============================] - 0s 24us/step - loss: 0.2760 - acc: 0.8857 - val_loss: 0.3486 - val_acc: 0.8550\n",
      "Epoch 16/25\n",
      "20000/20000 [==============================] - 0s 21us/step - loss: 0.2730 - acc: 0.8856 - val_loss: 0.3913 - val_acc: 0.8398\n",
      "Epoch 17/25\n",
      "20000/20000 [==============================] - 0s 20us/step - loss: 0.2694 - acc: 0.8884 - val_loss: 0.3621 - val_acc: 0.8502\n",
      "Epoch 18/25\n",
      "20000/20000 [==============================] - 0s 18us/step - loss: 0.2660 - acc: 0.8897 - val_loss: 0.4054 - val_acc: 0.8332\n",
      "Epoch 19/25\n",
      "20000/20000 [==============================] - 0s 21us/step - loss: 0.2621 - acc: 0.8918 - val_loss: 0.3495 - val_acc: 0.8560\n",
      "Epoch 20/25\n",
      "20000/20000 [==============================] - 1s 26us/step - loss: 0.2575 - acc: 0.8950 - val_loss: 0.3544 - val_acc: 0.8552\n",
      "Epoch 21/25\n",
      "20000/20000 [==============================] - 0s 21us/step - loss: 0.2523 - acc: 0.8971 - val_loss: 0.3519 - val_acc: 0.8554\n",
      "Epoch 22/25\n",
      "20000/20000 [==============================] - 1s 27us/step - loss: 0.2486 - acc: 0.8991 - val_loss: 0.3868 - val_acc: 0.8398\n",
      "Epoch 23/25\n",
      "20000/20000 [==============================] - 0s 22us/step - loss: 0.2430 - acc: 0.9009 - val_loss: 0.3715 - val_acc: 0.8464\n",
      "Epoch 24/25\n",
      "20000/20000 [==============================] - 0s 21us/step - loss: 0.2395 - acc: 0.9017 - val_loss: 0.3619 - val_acc: 0.8510\n",
      "Epoch 25/25\n",
      "20000/20000 [==============================] - 0s 20us/step - loss: 0.2351 - acc: 0.9058 - val_loss: 0.3720 - val_acc: 0.8474\n"
     ]
    }
   ],
   "source": [
    "# Model 1: 2 hidden layers: 16 and 16\n",
    "model1 = create_IMDB_model([16, 16])\n",
    "history1 = model1.fit(partial_x_train, partial_y_train, epochs=25, batch_size=512, validation_data=(x_val, y_val))"
   ]
  },
  {
   "cell_type": "code",
   "execution_count": 140,
   "metadata": {},
   "outputs": [
    {
     "name": "stdout",
     "output_type": "stream",
     "text": [
      "Train on 20000 samples, validate on 5000 samples\n",
      "Epoch 1/25\n",
      "20000/20000 [==============================] - 2s 77us/step - loss: 0.5651 - acc: 0.7205 - val_loss: 0.4674 - val_acc: 0.7894\n",
      "Epoch 2/25\n",
      "20000/20000 [==============================] - 0s 17us/step - loss: 0.3971 - acc: 0.8403 - val_loss: 0.4158 - val_acc: 0.8170\n",
      "Epoch 3/25\n",
      "20000/20000 [==============================] - 0s 17us/step - loss: 0.3431 - acc: 0.8581 - val_loss: 0.3634 - val_acc: 0.8462\n",
      "Epoch 4/25\n",
      "20000/20000 [==============================] - 0s 18us/step - loss: 0.3205 - acc: 0.8649 - val_loss: 0.4114 - val_acc: 0.8262\n",
      "Epoch 5/25\n",
      "20000/20000 [==============================] - 0s 17us/step - loss: 0.3104 - acc: 0.8725 - val_loss: 0.3417 - val_acc: 0.8562\n",
      "Epoch 6/25\n",
      "20000/20000 [==============================] - 0s 17us/step - loss: 0.3050 - acc: 0.8741 - val_loss: 0.3614 - val_acc: 0.8486\n",
      "Epoch 7/25\n",
      "20000/20000 [==============================] - 0s 17us/step - loss: 0.2975 - acc: 0.8780 - val_loss: 0.3509 - val_acc: 0.8564\n",
      "Epoch 8/25\n",
      "20000/20000 [==============================] - 0s 17us/step - loss: 0.2919 - acc: 0.8796 - val_loss: 0.3646 - val_acc: 0.8486\n",
      "Epoch 9/25\n",
      "20000/20000 [==============================] - 0s 17us/step - loss: 0.2856 - acc: 0.8813 - val_loss: 0.3428 - val_acc: 0.8564\n",
      "Epoch 10/25\n",
      "20000/20000 [==============================] - 0s 25us/step - loss: 0.2828 - acc: 0.8832 - val_loss: 0.4289 - val_acc: 0.8216\n",
      "Epoch 11/25\n",
      "20000/20000 [==============================] - 0s 24us/step - loss: 0.2771 - acc: 0.8854 - val_loss: 0.3460 - val_acc: 0.8582\n",
      "Epoch 12/25\n",
      "20000/20000 [==============================] - 0s 18us/step - loss: 0.2734 - acc: 0.8872 - val_loss: 0.3477 - val_acc: 0.8574\n",
      "Epoch 13/25\n",
      "20000/20000 [==============================] - 0s 25us/step - loss: 0.2647 - acc: 0.8921 - val_loss: 0.3728 - val_acc: 0.8472\n",
      "Epoch 14/25\n",
      "20000/20000 [==============================] - 0s 22us/step - loss: 0.2606 - acc: 0.8935 - val_loss: 0.3603 - val_acc: 0.8524\n",
      "Epoch 15/25\n",
      "20000/20000 [==============================] - 0s 18us/step - loss: 0.2548 - acc: 0.8950 - val_loss: 0.3882 - val_acc: 0.8468\n",
      "Epoch 16/25\n",
      "20000/20000 [==============================] - 0s 18us/step - loss: 0.2477 - acc: 0.9002 - val_loss: 0.4391 - val_acc: 0.8224\n",
      "Epoch 17/25\n",
      "20000/20000 [==============================] - 0s 22us/step - loss: 0.2419 - acc: 0.9001 - val_loss: 0.3991 - val_acc: 0.8426\n",
      "Epoch 18/25\n",
      "20000/20000 [==============================] - 0s 22us/step - loss: 0.2362 - acc: 0.9050 - val_loss: 0.3843 - val_acc: 0.8462\n",
      "Epoch 19/25\n",
      "20000/20000 [==============================] - 0s 18us/step - loss: 0.2282 - acc: 0.9079 - val_loss: 0.3794 - val_acc: 0.8484\n",
      "Epoch 20/25\n",
      "20000/20000 [==============================] - 0s 19us/step - loss: 0.2241 - acc: 0.9086 - val_loss: 0.3747 - val_acc: 0.8514\n",
      "Epoch 21/25\n",
      "20000/20000 [==============================] - 0s 19us/step - loss: 0.2148 - acc: 0.9150 - val_loss: 0.3824 - val_acc: 0.8514\n",
      "Epoch 22/25\n",
      "20000/20000 [==============================] - 0s 18us/step - loss: 0.2086 - acc: 0.9159 - val_loss: 0.4017 - val_acc: 0.8466\n",
      "Epoch 23/25\n",
      "20000/20000 [==============================] - 0s 24us/step - loss: 0.2038 - acc: 0.9198 - val_loss: 0.4479 - val_acc: 0.8300\n",
      "Epoch 24/25\n",
      "20000/20000 [==============================] - 0s 20us/step - loss: 0.2001 - acc: 0.9195 - val_loss: 0.3945 - val_acc: 0.8476\n",
      "Epoch 25/25\n",
      "20000/20000 [==============================] - 0s 17us/step - loss: 0.1913 - acc: 0.9249 - val_loss: 0.4041 - val_acc: 0.8470\n"
     ]
    }
   ],
   "source": [
    "# Model 2: 2 hidden layers: 16 and 32\n",
    "model2 = create_IMDB_model([16, 32])\n",
    "history2 = model2.fit(partial_x_train, partial_y_train, epochs=25, batch_size=512, validation_data=(x_val, y_val))"
   ]
  },
  {
   "cell_type": "code",
   "execution_count": 141,
   "metadata": {},
   "outputs": [
    {
     "name": "stdout",
     "output_type": "stream",
     "text": [
      "Train on 20000 samples, validate on 5000 samples\n",
      "Epoch 1/25\n",
      "20000/20000 [==============================] - 2s 84us/step - loss: 0.6447 - acc: 0.6182 - val_loss: 0.6164 - val_acc: 0.6572\n",
      "Epoch 2/25\n",
      "20000/20000 [==============================] - 0s 15us/step - loss: 0.5582 - acc: 0.7573 - val_loss: 0.5074 - val_acc: 0.8092\n",
      "Epoch 3/25\n",
      "20000/20000 [==============================] - 0s 15us/step - loss: 0.4266 - acc: 0.8397 - val_loss: 0.3945 - val_acc: 0.8388\n",
      "Epoch 4/25\n",
      "20000/20000 [==============================] - 0s 15us/step - loss: 0.3558 - acc: 0.8573 - val_loss: 0.3677 - val_acc: 0.8454\n",
      "Epoch 5/25\n",
      "20000/20000 [==============================] - 0s 15us/step - loss: 0.3289 - acc: 0.8646 - val_loss: 0.3486 - val_acc: 0.8554\n",
      "Epoch 6/25\n",
      "20000/20000 [==============================] - 0s 16us/step - loss: 0.3150 - acc: 0.8706 - val_loss: 0.3791 - val_acc: 0.8350\n",
      "Epoch 7/25\n",
      "20000/20000 [==============================] - 1s 30us/step - loss: 0.3055 - acc: 0.8727 - val_loss: 0.3413 - val_acc: 0.8566\n",
      "Epoch 8/25\n",
      "20000/20000 [==============================] - 0s 20us/step - loss: 0.3006 - acc: 0.8761 - val_loss: 0.3374 - val_acc: 0.8608\n",
      "Epoch 9/25\n",
      "20000/20000 [==============================] - 0s 17us/step - loss: 0.2948 - acc: 0.8791 - val_loss: 0.3411 - val_acc: 0.8608\n",
      "Epoch 10/25\n",
      "20000/20000 [==============================] - 0s 16us/step - loss: 0.2904 - acc: 0.8817 - val_loss: 0.3455 - val_acc: 0.8586\n",
      "Epoch 11/25\n",
      "20000/20000 [==============================] - 0s 15us/step - loss: 0.2866 - acc: 0.8842 - val_loss: 0.3403 - val_acc: 0.8622\n",
      "Epoch 12/25\n",
      "20000/20000 [==============================] - 0s 17us/step - loss: 0.2820 - acc: 0.8848 - val_loss: 0.3912 - val_acc: 0.8350\n",
      "Epoch 13/25\n",
      "20000/20000 [==============================] - 1s 26us/step - loss: 0.2813 - acc: 0.8849 - val_loss: 0.3601 - val_acc: 0.8512\n",
      "Epoch 14/25\n",
      "20000/20000 [==============================] - 0s 25us/step - loss: 0.2755 - acc: 0.8881 - val_loss: 0.3451 - val_acc: 0.8586\n",
      "Epoch 15/25\n",
      "20000/20000 [==============================] - 0s 16us/step - loss: 0.2717 - acc: 0.8900 - val_loss: 0.3537 - val_acc: 0.8574\n",
      "Epoch 16/25\n",
      "20000/20000 [==============================] - 0s 18us/step - loss: 0.2668 - acc: 0.8924 - val_loss: 0.3592 - val_acc: 0.8562\n",
      "Epoch 17/25\n",
      "20000/20000 [==============================] - 0s 24us/step - loss: 0.2641 - acc: 0.8925 - val_loss: 0.3514 - val_acc: 0.8550\n",
      "Epoch 18/25\n",
      "20000/20000 [==============================] - 0s 22us/step - loss: 0.2607 - acc: 0.8952 - val_loss: 0.3711 - val_acc: 0.8500\n",
      "Epoch 19/25\n",
      "20000/20000 [==============================] - 0s 16us/step - loss: 0.2580 - acc: 0.8954 - val_loss: 0.3620 - val_acc: 0.8534\n",
      "Epoch 20/25\n",
      "20000/20000 [==============================] - 0s 16us/step - loss: 0.2541 - acc: 0.8968 - val_loss: 0.3663 - val_acc: 0.8508\n",
      "Epoch 21/25\n",
      "20000/20000 [==============================] - 0s 17us/step - loss: 0.2504 - acc: 0.8995 - val_loss: 0.3654 - val_acc: 0.8510\n",
      "Epoch 22/25\n",
      "20000/20000 [==============================] - 0s 16us/step - loss: 0.2455 - acc: 0.8999 - val_loss: 0.3949 - val_acc: 0.8424\n",
      "Epoch 23/25\n",
      "20000/20000 [==============================] - 0s 23us/step - loss: 0.2438 - acc: 0.9012 - val_loss: 0.3767 - val_acc: 0.8476\n",
      "Epoch 24/25\n",
      "20000/20000 [==============================] - 0s 21us/step - loss: 0.2385 - acc: 0.9050 - val_loss: 0.3708 - val_acc: 0.8530\n",
      "Epoch 25/25\n",
      "20000/20000 [==============================] - 0s 16us/step - loss: 0.2365 - acc: 0.9059 - val_loss: 0.3944 - val_acc: 0.8430\n"
     ]
    }
   ],
   "source": [
    "# Model 3: 2 hidden layers: 8 and 16\n",
    "model3 = create_IMDB_model([8, 16])\n",
    "history3 = model3.fit(partial_x_train, partial_y_train, epochs=25, batch_size=512, validation_data=(x_val, y_val))"
   ]
  },
  {
   "cell_type": "code",
   "execution_count": 142,
   "metadata": {},
   "outputs": [
    {
     "name": "stdout",
     "output_type": "stream",
     "text": [
      "Train on 20000 samples, validate on 5000 samples\n",
      "Epoch 1/25\n",
      "20000/20000 [==============================] - 2s 100us/step - loss: 0.6044 - acc: 0.6985 - val_loss: 0.5022 - val_acc: 0.7786\n",
      "Epoch 2/25\n",
      "20000/20000 [==============================] - 0s 16us/step - loss: 0.4189 - acc: 0.8312 - val_loss: 0.3861 - val_acc: 0.8362\n",
      "Epoch 3/25\n",
      "20000/20000 [==============================] - 0s 15us/step - loss: 0.3516 - acc: 0.8553 - val_loss: 0.3627 - val_acc: 0.8464\n",
      "Epoch 4/25\n",
      "20000/20000 [==============================] - 0s 16us/step - loss: 0.3278 - acc: 0.8649 - val_loss: 0.3678 - val_acc: 0.8464\n",
      "Epoch 5/25\n",
      "20000/20000 [==============================] - 0s 17us/step - loss: 0.3134 - acc: 0.8713 - val_loss: 0.3428 - val_acc: 0.8574\n",
      "Epoch 6/25\n",
      "20000/20000 [==============================] - 0s 17us/step - loss: 0.3076 - acc: 0.8720 - val_loss: 0.3427 - val_acc: 0.8560\n",
      "Epoch 7/25\n",
      "20000/20000 [==============================] - 0s 17us/step - loss: 0.3036 - acc: 0.8736 - val_loss: 0.3938 - val_acc: 0.8316\n",
      "Epoch 8/25\n",
      "20000/20000 [==============================] - 0s 18us/step - loss: 0.3009 - acc: 0.8760 - val_loss: 0.3433 - val_acc: 0.8550\n",
      "Epoch 9/25\n",
      "20000/20000 [==============================] - 0s 17us/step - loss: 0.2975 - acc: 0.8764 - val_loss: 0.3414 - val_acc: 0.8600\n",
      "Epoch 10/25\n",
      "20000/20000 [==============================] - 0s 17us/step - loss: 0.2942 - acc: 0.8791 - val_loss: 0.4252 - val_acc: 0.8240\n",
      "Epoch 11/25\n",
      "20000/20000 [==============================] - 0s 16us/step - loss: 0.2929 - acc: 0.8785 - val_loss: 0.3438 - val_acc: 0.8552\n",
      "Epoch 12/25\n",
      "20000/20000 [==============================] - 0s 17us/step - loss: 0.2891 - acc: 0.8804 - val_loss: 0.3436 - val_acc: 0.8546\n",
      "Epoch 13/25\n",
      "20000/20000 [==============================] - 0s 20us/step - loss: 0.2887 - acc: 0.8790 - val_loss: 0.3762 - val_acc: 0.8448\n",
      "Epoch 14/25\n",
      "20000/20000 [==============================] - 0s 17us/step - loss: 0.2869 - acc: 0.8811 - val_loss: 0.3501 - val_acc: 0.8546\n",
      "Epoch 15/25\n",
      "20000/20000 [==============================] - 0s 23us/step - loss: 0.2852 - acc: 0.8812 - val_loss: 0.4016 - val_acc: 0.8310\n",
      "Epoch 16/25\n",
      "20000/20000 [==============================] - 0s 22us/step - loss: 0.2817 - acc: 0.8811 - val_loss: 0.3424 - val_acc: 0.8584\n",
      "Epoch 17/25\n",
      "20000/20000 [==============================] - 0s 18us/step - loss: 0.2811 - acc: 0.8822 - val_loss: 0.3436 - val_acc: 0.8580\n",
      "Epoch 18/25\n",
      "20000/20000 [==============================] - 0s 16us/step - loss: 0.2781 - acc: 0.8833 - val_loss: 0.3516 - val_acc: 0.8534\n",
      "Epoch 19/25\n",
      "20000/20000 [==============================] - 0s 16us/step - loss: 0.2727 - acc: 0.8852 - val_loss: 0.3433 - val_acc: 0.8584\n",
      "Epoch 20/25\n",
      "20000/20000 [==============================] - 0s 16us/step - loss: 0.2708 - acc: 0.8840 - val_loss: 0.3465 - val_acc: 0.8566\n",
      "Epoch 21/25\n",
      "20000/20000 [==============================] - 0s 16us/step - loss: 0.2704 - acc: 0.8863 - val_loss: 0.3427 - val_acc: 0.8576\n",
      "Epoch 22/25\n",
      "20000/20000 [==============================] - 0s 19us/step - loss: 0.2674 - acc: 0.8857 - val_loss: 0.3469 - val_acc: 0.8588\n",
      "Epoch 23/25\n",
      "20000/20000 [==============================] - 0s 22us/step - loss: 0.2634 - acc: 0.8873 - val_loss: 0.3706 - val_acc: 0.8498\n",
      "Epoch 24/25\n",
      "20000/20000 [==============================] - 0s 21us/step - loss: 0.2621 - acc: 0.8889 - val_loss: 0.3902 - val_acc: 0.8422\n",
      "Epoch 25/25\n",
      "20000/20000 [==============================] - 0s 20us/step - loss: 0.2570 - acc: 0.8898 - val_loss: 0.3850 - val_acc: 0.8466\n"
     ]
    }
   ],
   "source": [
    "# Model 4: 3 hidden layers: 8, 16 and 32\n",
    "model4 = create_IMDB_model([8, 16, 32])\n",
    "history4 = model4.fit(partial_x_train, partial_y_train, epochs=25, batch_size=512, validation_data=(x_val, y_val))"
   ]
  },
  {
   "cell_type": "code",
   "execution_count": 143,
   "metadata": {},
   "outputs": [
    {
     "name": "stdout",
     "output_type": "stream",
     "text": [
      "Train on 20000 samples, validate on 5000 samples\n",
      "Epoch 1/25\n",
      "20000/20000 [==============================] - 2s 82us/step - loss: 0.5697 - acc: 0.7176 - val_loss: 0.4652 - val_acc: 0.7940\n",
      "Epoch 2/25\n",
      "20000/20000 [==============================] - 0s 16us/step - loss: 0.3958 - acc: 0.8377 - val_loss: 0.3800 - val_acc: 0.8376\n",
      "Epoch 3/25\n",
      "20000/20000 [==============================] - 0s 16us/step - loss: 0.3402 - acc: 0.8594 - val_loss: 0.3461 - val_acc: 0.8544\n",
      "Epoch 4/25\n",
      "20000/20000 [==============================] - 0s 19us/step - loss: 0.3190 - acc: 0.8677 - val_loss: 0.3423 - val_acc: 0.8554\n",
      "Epoch 5/25\n",
      "20000/20000 [==============================] - 0s 16us/step - loss: 0.3088 - acc: 0.8723 - val_loss: 0.3849 - val_acc: 0.8346\n",
      "Epoch 6/25\n",
      "20000/20000 [==============================] - 0s 17us/step - loss: 0.3014 - acc: 0.8737 - val_loss: 0.3551 - val_acc: 0.8536\n",
      "Epoch 7/25\n",
      "20000/20000 [==============================] - 0s 17us/step - loss: 0.2949 - acc: 0.8787 - val_loss: 0.3574 - val_acc: 0.8528\n",
      "Epoch 8/25\n",
      "20000/20000 [==============================] - 0s 17us/step - loss: 0.2909 - acc: 0.8815 - val_loss: 0.3637 - val_acc: 0.8512\n",
      "Epoch 9/25\n",
      "20000/20000 [==============================] - 0s 17us/step - loss: 0.2863 - acc: 0.8821 - val_loss: 0.3500 - val_acc: 0.8564\n",
      "Epoch 10/25\n",
      "20000/20000 [==============================] - 0s 17us/step - loss: 0.2774 - acc: 0.8854 - val_loss: 0.4115 - val_acc: 0.8242\n",
      "Epoch 11/25\n",
      "20000/20000 [==============================] - 0s 17us/step - loss: 0.2707 - acc: 0.8894 - val_loss: 0.3548 - val_acc: 0.8552\n",
      "Epoch 12/25\n",
      "20000/20000 [==============================] - 0s 17us/step - loss: 0.2681 - acc: 0.8894 - val_loss: 0.3605 - val_acc: 0.8532\n",
      "Epoch 13/25\n",
      "20000/20000 [==============================] - 0s 17us/step - loss: 0.2628 - acc: 0.8931 - val_loss: 0.3865 - val_acc: 0.8374\n",
      "Epoch 14/25\n",
      "20000/20000 [==============================] - 0s 17us/step - loss: 0.2551 - acc: 0.8953 - val_loss: 0.3609 - val_acc: 0.8550\n",
      "Epoch 15/25\n",
      "20000/20000 [==============================] - 0s 17us/step - loss: 0.2507 - acc: 0.8973 - val_loss: 0.3927 - val_acc: 0.8366\n",
      "Epoch 16/25\n",
      "20000/20000 [==============================] - 0s 17us/step - loss: 0.2416 - acc: 0.9034 - val_loss: 0.3776 - val_acc: 0.8522\n",
      "Epoch 17/25\n",
      "20000/20000 [==============================] - 0s 17us/step - loss: 0.2361 - acc: 0.9045 - val_loss: 0.3816 - val_acc: 0.8446\n",
      "Epoch 18/25\n",
      "20000/20000 [==============================] - 0s 19us/step - loss: 0.2281 - acc: 0.9102 - val_loss: 0.3808 - val_acc: 0.8474\n",
      "Epoch 19/25\n",
      "20000/20000 [==============================] - 0s 18us/step - loss: 0.2221 - acc: 0.9112 - val_loss: 0.4449 - val_acc: 0.8378\n",
      "Epoch 20/25\n",
      "20000/20000 [==============================] - 0s 18us/step - loss: 0.2135 - acc: 0.9161 - val_loss: 0.3872 - val_acc: 0.8476\n",
      "Epoch 21/25\n",
      "20000/20000 [==============================] - 0s 22us/step - loss: 0.2033 - acc: 0.9226 - val_loss: 0.4235 - val_acc: 0.8346\n",
      "Epoch 22/25\n",
      "20000/20000 [==============================] - 0s 22us/step - loss: 0.2021 - acc: 0.9206 - val_loss: 0.4170 - val_acc: 0.8482\n",
      "Epoch 23/25\n",
      "20000/20000 [==============================] - 0s 19us/step - loss: 0.1912 - acc: 0.9250 - val_loss: 0.4302 - val_acc: 0.8336\n",
      "Epoch 24/25\n",
      "20000/20000 [==============================] - 0s 23us/step - loss: 0.1851 - acc: 0.9284 - val_loss: 0.4546 - val_acc: 0.8266\n",
      "Epoch 25/25\n",
      "20000/20000 [==============================] - 0s 21us/step - loss: 0.1778 - acc: 0.9322 - val_loss: 0.4431 - val_acc: 0.8372\n"
     ]
    }
   ],
   "source": [
    "# Model 5: 3 hidden layers: 16, 16 and 16\n",
    "model5 = create_IMDB_model([16, 16, 16])\n",
    "history5 = model5.fit(partial_x_train, partial_y_train, epochs=25, batch_size=512, validation_data=(x_val, y_val))"
   ]
  },
  {
   "cell_type": "code",
   "execution_count": 163,
   "metadata": {},
   "outputs": [
    {
     "name": "stdout",
     "output_type": "stream",
     "text": [
      "Train on 20000 samples, validate on 5000 samples\n",
      "Epoch 1/25\n",
      "20000/20000 [==============================] - 2s 105us/step - loss: 0.5356 - acc: 0.7273 - val_loss: 0.4214 - val_acc: 0.8120\n",
      "Epoch 2/25\n",
      "20000/20000 [==============================] - 0s 23us/step - loss: 0.3805 - acc: 0.8367 - val_loss: 0.4454 - val_acc: 0.8080\n",
      "Epoch 3/25\n",
      "20000/20000 [==============================] - 0s 24us/step - loss: 0.3384 - acc: 0.8613 - val_loss: 0.3453 - val_acc: 0.8526\n",
      "Epoch 4/25\n",
      "20000/20000 [==============================] - 0s 24us/step - loss: 0.3100 - acc: 0.8724 - val_loss: 0.3724 - val_acc: 0.8412\n",
      "Epoch 5/25\n",
      "20000/20000 [==============================] - 0s 24us/step - loss: 0.2921 - acc: 0.8796 - val_loss: 0.3437 - val_acc: 0.8536\n",
      "Epoch 6/25\n",
      "20000/20000 [==============================] - 0s 24us/step - loss: 0.2766 - acc: 0.8838 - val_loss: 0.3646 - val_acc: 0.8434\n",
      "Epoch 7/25\n",
      "20000/20000 [==============================] - 0s 23us/step - loss: 0.2637 - acc: 0.8927 - val_loss: 0.3491 - val_acc: 0.8560\n",
      "Epoch 8/25\n",
      "20000/20000 [==============================] - 0s 24us/step - loss: 0.2421 - acc: 0.9018 - val_loss: 0.3648 - val_acc: 0.8526\n",
      "Epoch 9/25\n",
      "20000/20000 [==============================] - 0s 23us/step - loss: 0.2242 - acc: 0.9104 - val_loss: 0.3933 - val_acc: 0.8512\n",
      "Epoch 10/25\n",
      "20000/20000 [==============================] - 0s 24us/step - loss: 0.2135 - acc: 0.9150 - val_loss: 0.3819 - val_acc: 0.8514\n",
      "Epoch 11/25\n",
      "20000/20000 [==============================] - 1s 33us/step - loss: 0.1849 - acc: 0.9283 - val_loss: 0.4122 - val_acc: 0.8438\n",
      "Epoch 12/25\n",
      "20000/20000 [==============================] - 1s 30us/step - loss: 0.1674 - acc: 0.9369 - val_loss: 0.4602 - val_acc: 0.8428\n",
      "Epoch 13/25\n",
      "20000/20000 [==============================] - 0s 23us/step - loss: 0.1528 - acc: 0.9430 - val_loss: 0.4313 - val_acc: 0.8422\n",
      "Epoch 14/25\n",
      "20000/20000 [==============================] - 0s 23us/step - loss: 0.1313 - acc: 0.9524 - val_loss: 0.5111 - val_acc: 0.8262\n",
      "Epoch 15/25\n",
      "20000/20000 [==============================] - 0s 24us/step - loss: 0.1155 - acc: 0.9601 - val_loss: 0.5402 - val_acc: 0.8462\n",
      "Epoch 16/25\n",
      "20000/20000 [==============================] - 1s 30us/step - loss: 0.1036 - acc: 0.9631 - val_loss: 0.5506 - val_acc: 0.8404\n",
      "Epoch 17/25\n",
      "20000/20000 [==============================] - 0s 23us/step - loss: 0.0747 - acc: 0.9765 - val_loss: 0.6550 - val_acc: 0.8374\n",
      "Epoch 18/25\n",
      "20000/20000 [==============================] - 0s 24us/step - loss: 0.0755 - acc: 0.9747 - val_loss: 0.7030 - val_acc: 0.8296\n",
      "Epoch 19/25\n",
      "20000/20000 [==============================] - 0s 23us/step - loss: 0.0657 - acc: 0.9806 - val_loss: 0.7766 - val_acc: 0.8378\n",
      "Epoch 20/25\n",
      "20000/20000 [==============================] - 0s 24us/step - loss: 0.0550 - acc: 0.9847 - val_loss: 0.8135 - val_acc: 0.8270\n",
      "Epoch 21/25\n",
      "20000/20000 [==============================] - 0s 24us/step - loss: 0.0545 - acc: 0.9863 - val_loss: 0.8640 - val_acc: 0.8306\n",
      "Epoch 22/25\n",
      "20000/20000 [==============================] - 1s 30us/step - loss: 0.0496 - acc: 0.9874 - val_loss: 0.8677 - val_acc: 0.8338\n",
      "Epoch 23/25\n",
      "20000/20000 [==============================] - 1s 30us/step - loss: 0.0469 - acc: 0.9904 - val_loss: 0.7976 - val_acc: 0.8198\n",
      "Epoch 24/25\n",
      "20000/20000 [==============================] - 0s 24us/step - loss: 0.0098 - acc: 0.9982 - val_loss: 1.0463 - val_acc: 0.8334\n",
      "Epoch 25/25\n",
      "20000/20000 [==============================] - 1s 27us/step - loss: 0.0505 - acc: 0.9897 - val_loss: 1.0524 - val_acc: 0.8340\n"
     ]
    }
   ],
   "source": [
    "# Model 6:\n",
    "model6 = create_IMDB_model([32, 32, 64, 256])\n",
    "history6 = model6.fit(partial_x_train, partial_y_train, epochs=25, batch_size=512, validation_data=(x_val, y_val))"
   ]
  },
  {
   "cell_type": "code",
   "execution_count": 164,
   "metadata": {},
   "outputs": [
    {
     "data": {
      "text/plain": [
       "<matplotlib.legend.Legend at 0x12db177d0>"
      ]
     },
     "execution_count": 164,
     "metadata": {},
     "output_type": "execute_result"
    },
    {
     "data": {
      "image/png": "[encoded data removed]",
      "text/plain": [
       "<Figure size 432x288 with 1 Axes>"
      ]
     },
     "metadata": {
      "needs_background": "light"
     },
     "output_type": "display_data"
    }
   ],
   "source": [
    "# Plot the training accuracy\n",
    "\n",
    "epochs = range(1, len(history1.history['acc']) + 1)\n",
    "\n",
    "plt.plot(epochs, history1.history['acc'], 'b', label='16/16')\n",
    "plt.plot(epochs, history2.history['acc'], 'r', label='16/32')\n",
    "plt.plot(epochs, history3.history['acc'], 'g', label='8/16')\n",
    "plt.plot(epochs, history4.history['acc'], 'm', label='8/16/32')\n",
    "plt.plot(epochs, history5.history['acc'], 'y', label='16/16/16')\n",
    "plt.plot(epochs, history6.history['acc'], 'c', label='8/16/32/64')\n",
    "plt.title('Training accuracy')\n",
    "plt.xlabel('Epochs')\n",
    "plt.ylabel('Training accuracy')\n",
    "plt.legend()"
   ]
  },
  {
   "cell_type": "code",
   "execution_count": 165,
   "metadata": {},
   "outputs": [
    {
     "data": {
      "text/plain": [
       "<matplotlib.legend.Legend at 0x12dbc0c10>"
      ]
     },
     "execution_count": 165,
     "metadata": {},
     "output_type": "execute_result"
    },
    {
     "data": {
      "image/png": "[encoded data removed]",
      "text/plain": [
       "<Figure size 432x288 with 1 Axes>"
      ]
     },
     "metadata": {
      "needs_background": "light"
     },
     "output_type": "display_data"
    }
   ],
   "source": [
    "# Plot the validation accuracy\n",
    "\n",
    "epochs = range(1, len(history1.history['val_acc']) + 1)\n",
    "\n",
    "plt.plot(epochs, history1.history['val_acc'], 'b', label='16/16')\n",
    "plt.plot(epochs, history2.history['val_acc'], 'r', label='16/32')\n",
    "plt.plot(epochs, history3.history['val_acc'], 'g', label='8/16')\n",
    "plt.plot(epochs, history4.history['val_acc'], 'm', label='8/16/32')\n",
    "plt.plot(epochs, history5.history['val_acc'], 'y', label='16/16/16')\n",
    "plt.plot(epochs, history6.history['val_acc'], 'c', label='8/16/32/64')\n",
    "plt.title('Validation accuracy')\n",
    "plt.xlabel('Epochs')\n",
    "plt.ylabel('Validation accuracy')\n",
    "plt.legend()"
   ]
  },
  {
   "cell_type": "code",
   "execution_count": null,
   "metadata": {},
   "outputs": [],
   "source": []
  },
  {
   "cell_type": "code",
   "execution_count": null,
   "metadata": {},
   "outputs": [],
   "source": []
  },
  {
   "cell_type": "code",
   "execution_count": null,
   "metadata": {},
   "outputs": [],
   "source": []
  },
  {
   "cell_type": "code",
   "execution_count": null,
   "metadata": {},
   "outputs": [],
   "source": []
  },
  {
   "cell_type": "code",
   "execution_count": null,
   "metadata": {},
   "outputs": [],
   "source": []
  },
  {
   "cell_type": "code",
   "execution_count": null,
   "metadata": {},
   "outputs": [],
   "source": []
  }
 ],
 "metadata": {
  "kernelspec": {
   "display_name": "Python 2",
   "language": "python",
   "name": "python2"
  },
  "language_info": {
   "codemirror_mode": {
    "name": "ipython",
    "version": 2
   },
   "file_extension": ".py",
   "mimetype": "text/x-python",
   "name": "python",
   "nbconvert_exporter": "python",
   "pygments_lexer": "ipython2",
   "version": "2.7.10"
  }
 },
 "nbformat": 4,
 "nbformat_minor": 2
}
