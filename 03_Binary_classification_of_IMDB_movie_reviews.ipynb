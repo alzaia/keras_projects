{
 "cells": [
  {
   "cell_type": "markdown",
   "metadata": {},
   "source": [
    "### Binary classification of IMDB movie reviews"
   ]
  },
  {
   "cell_type": "code",
   "execution_count": 35,
   "metadata": {},
   "outputs": [],
   "source": [
    "from keras import models\n",
    "from keras import layers\n",
    "import numpy as np\n",
    "import matplotlib.pyplot as plt"
   ]
  },
  {
   "cell_type": "code",
   "execution_count": 10,
   "metadata": {},
   "outputs": [],
   "source": [
    "# Download the IMDB dataset (only keep the 1000 most frequent words)\n",
    "\n",
    "from keras.datasets import imdb\n",
    "(train_data, train_labels), (test_data, test_labels) = imdb.load_data(num_words=1000)"
   ]
  },
  {
   "cell_type": "code",
   "execution_count": 76,
   "metadata": {},
   "outputs": [
    {
     "name": "stdout",
     "output_type": "stream",
     "text": [
      "[1, 13, 244, 6, 87, 337, 7, 628, 2, 5, 28, 285, 15, 240, 93, 23, 288, 549, 18, 2, 673, 4, 241, 534, 2, 2, 20, 38, 54, 13, 258, 46, 44, 14, 13, 2, 2, 12, 5, 5, 51, 9, 14, 45, 6, 762, 7, 2, 2, 328, 5, 428, 2, 15, 26, 2, 5, 2, 2, 5, 2, 279, 13, 92, 124, 803, 52, 21, 279, 14, 9, 43, 6, 762, 7, 595, 15, 16, 2, 23, 4, 2, 467, 4, 403, 7, 628, 2, 8, 97, 6, 171, 2, 99, 387, 72, 97, 12, 788, 15, 13, 161, 459, 44, 4, 2, 2, 173, 21, 69, 8, 401, 2, 4, 481, 88, 61, 2, 238, 28, 32, 11, 32, 14, 9, 6, 545, 2, 766, 5, 203, 73, 28, 43, 77, 317, 11, 4, 2, 953, 270, 17, 6, 2, 13, 545, 386, 25, 92, 2, 129, 278, 23, 14, 241, 46, 7, 158]\n",
      "0\n"
     ]
    }
   ],
   "source": [
    "# Show the list of word indices of sample #100\n",
    "print train_data[100]\n",
    "\n",
    "# Show the classification label of sample #100 (0:negative, 1:positive)\n",
    "print train_labels[100]\n"
   ]
  },
  {
   "cell_type": "code",
   "execution_count": 18,
   "metadata": {},
   "outputs": [
    {
     "name": "stdout",
     "output_type": "stream",
     "text": [
      "Downloading data from https://s3.amazonaws.com/text-datasets/imdb_word_index.json\n",
      "1646592/1641221 [==============================] - 27s 17us/step\n",
      "1654784/1641221 [==============================] - 27s 16us/step\n"
     ]
    }
   ],
   "source": [
    "# How to decode the word indices back to words\n",
    "word_index = imdb.get_word_index()"
   ]
  },
  {
   "cell_type": "code",
   "execution_count": 74,
   "metadata": {},
   "outputs": [],
   "source": [
    "# Get the words for sample #100\n",
    "reverse_word_index = dict([(value, key) for (key, value) in word_index.items()])\n",
    "decoded_review = ' '.join([reverse_word_index.get(i - 3, '?') for i in train_data[100]])"
   ]
  },
  {
   "cell_type": "code",
   "execution_count": 75,
   "metadata": {},
   "outputs": [
    {
     "name": "stdout",
     "output_type": "stream",
     "text": [
      "? i am a great fan of david ? and have everything that he's made on dvd except for ? room the 2 hour ? ? movie so when i found out about this i ? ? it and and what is this it's a bunch of ? ? black and white ? that are ? and ? ? and ? maybe i don't know what's good but maybe this is just a bunch of crap that was ? on the ? under the name of david ? to make a few ? too let me make it clear that i didn't care about the ? ? part but had to keep ? the sound because my ? might have all in all this is a highly ? release and may well have just been left in the ? box set as a ? i highly recommend you don't ? your money on this 2 out of 10\n"
     ]
    }
   ],
   "source": [
    "# Display the words of data sample #100\n",
    "print decoded_review"
   ]
  },
  {
   "cell_type": "code",
   "execution_count": 44,
   "metadata": {},
   "outputs": [],
   "source": [
    "# Create a function to vectorize the data (we need an array of size 1000 where a word index\n",
    "# appearing in the data will be represented by 1, and 0 otherwise).\n",
    "def vectorize_sequences(sequences, dimension=1000):\n",
    "    results = np.zeros((len(sequences), dimension))\n",
    "    for i, sequence in enumerate(sequences):\n",
    "        results[i, sequence] = 1\n",
    "    return results"
   ]
  },
  {
   "cell_type": "code",
   "execution_count": 77,
   "metadata": {},
   "outputs": [],
   "source": [
    "# Vectorize the train and test data samples\n",
    "x_train = vectorize_sequences(train_data)\n",
    "x_test = vectorize_sequences(test_data)\n",
    "\n",
    "# Vectorize the labels of train and test samples\n",
    "y_train = np.asarray(train_labels).astype('float32')\n",
    "y_test = np.asarray(test_labels).astype('float32')"
   ]
  },
  {
   "cell_type": "code",
   "execution_count": 79,
   "metadata": {},
   "outputs": [],
   "source": [
    "# Define the neural network: 2 hidden layers of 16 units, relu activation, sigmoid output\n",
    "\n",
    "model = models.Sequential()\n",
    "model.add(layers.Dense(16, activation='relu', input_shape=(1000,)))\n",
    "model.add(layers.Dense(16, activation='relu'))\n",
    "model.add(layers.Dense(1, activation='sigmoid'))\n",
    "\n",
    "model.compile(optimizer='rmsprop',loss='binary_crossentropy',metrics=['accuracy'])"
   ]
  },
  {
   "cell_type": "code",
   "execution_count": 80,
   "metadata": {},
   "outputs": [],
   "source": [
    "# From the 25000 samples available for training, remove 5000 to use for validation\n",
    "\n",
    "x_val = x_train[:5000]\n",
    "partial_x_train = x_train[5000:]\n",
    "\n",
    "y_val = y_train[:5000]\n",
    "partial_y_train = y_train[5000:]"
   ]
  },
  {
   "cell_type": "code",
   "execution_count": 82,
   "metadata": {},
   "outputs": [
    {
     "name": "stdout",
     "output_type": "stream",
     "text": [
      "Train on 20000 samples, validate on 5000 samples\n",
      "Epoch 1/20\n",
      "20000/20000 [==============================] - 0s 15us/step - loss: 0.1079 - acc: 0.9642 - val_loss: 0.5426 - val_acc: 0.8288\n",
      "Epoch 2/20\n",
      "20000/20000 [==============================] - 0s 15us/step - loss: 0.1034 - acc: 0.9673 - val_loss: 0.5374 - val_acc: 0.8330\n",
      "Epoch 3/20\n",
      "20000/20000 [==============================] - 0s 15us/step - loss: 0.1034 - acc: 0.9664 - val_loss: 0.5466 - val_acc: 0.8284\n",
      "Epoch 4/20\n",
      "20000/20000 [==============================] - 0s 15us/step - loss: 0.0973 - acc: 0.9697 - val_loss: 0.5597 - val_acc: 0.8284\n",
      "Epoch 5/20\n",
      "20000/20000 [==============================] - 0s 16us/step - loss: 0.0926 - acc: 0.9709 - val_loss: 0.5760 - val_acc: 0.8274\n",
      "Epoch 6/20\n",
      "20000/20000 [==============================] - 0s 15us/step - loss: 0.0910 - acc: 0.9719 - val_loss: 0.5602 - val_acc: 0.8340\n",
      "Epoch 7/20\n",
      "20000/20000 [==============================] - 0s 15us/step - loss: 0.0884 - acc: 0.9722 - val_loss: 0.5694 - val_acc: 0.8322\n",
      "Epoch 8/20\n",
      "20000/20000 [==============================] - 0s 17us/step - loss: 0.0831 - acc: 0.9754 - val_loss: 0.5814 - val_acc: 0.8302\n",
      "Epoch 9/20\n",
      "20000/20000 [==============================] - 0s 15us/step - loss: 0.0801 - acc: 0.9766 - val_loss: 0.6186 - val_acc: 0.8276\n",
      "Epoch 10/20\n",
      "20000/20000 [==============================] - 0s 17us/step - loss: 0.0786 - acc: 0.9771 - val_loss: 0.6049 - val_acc: 0.8316\n",
      "Epoch 11/20\n",
      "20000/20000 [==============================] - 0s 15us/step - loss: 0.0749 - acc: 0.9782 - val_loss: 0.6236 - val_acc: 0.8298\n",
      "Epoch 12/20\n",
      "20000/20000 [==============================] - 0s 15us/step - loss: 0.0712 - acc: 0.9804 - val_loss: 0.6301 - val_acc: 0.8320\n",
      "Epoch 13/20\n",
      "20000/20000 [==============================] - 0s 20us/step - loss: 0.0708 - acc: 0.9796 - val_loss: 0.6555 - val_acc: 0.8290\n",
      "Epoch 14/20\n",
      "20000/20000 [==============================] - 0s 15us/step - loss: 0.0707 - acc: 0.9790 - val_loss: 0.6386 - val_acc: 0.8312\n",
      "Epoch 15/20\n",
      "20000/20000 [==============================] - 0s 16us/step - loss: 0.0645 - acc: 0.9827 - val_loss: 0.6601 - val_acc: 0.8268\n",
      "Epoch 16/20\n",
      "20000/20000 [==============================] - 0s 15us/step - loss: 0.0646 - acc: 0.9819 - val_loss: 0.6736 - val_acc: 0.8274\n",
      "Epoch 17/20\n",
      "20000/20000 [==============================] - 0s 15us/step - loss: 0.0609 - acc: 0.9829 - val_loss: 0.6817 - val_acc: 0.8278\n",
      "Epoch 18/20\n",
      "20000/20000 [==============================] - 0s 20us/step - loss: 0.0567 - acc: 0.9856 - val_loss: 0.7201 - val_acc: 0.8254\n",
      "Epoch 19/20\n",
      "20000/20000 [==============================] - 0s 21us/step - loss: 0.0579 - acc: 0.9846 - val_loss: 0.7356 - val_acc: 0.8232\n",
      "Epoch 20/20\n",
      "20000/20000 [==============================] - 0s 16us/step - loss: 0.0515 - acc: 0.9888 - val_loss: 0.7013 - val_acc: 0.8294\n"
     ]
    }
   ],
   "source": [
    "# Train the network for 20 epochs, using a batch size of 512 samples\n",
    "history = model.fit(partial_x_train, partial_y_train, epochs=20, batch_size=512, validation_data=(x_val, y_val))"
   ]
  },
  {
   "cell_type": "code",
   "execution_count": 66,
   "metadata": {},
   "outputs": [
    {
     "data": {
      "text/plain": [
       "['acc', 'loss', 'val_acc', 'val_loss']"
      ]
     },
     "execution_count": 66,
     "metadata": {},
     "output_type": "execute_result"
    }
   ],
   "source": [
    "# The history object keeps all the training information\n",
    "history_dict = history.history\n",
    "history_dict.keys()"
   ]
  },
  {
   "cell_type": "code",
   "execution_count": 83,
   "metadata": {},
   "outputs": [
    {
     "data": {
      "text/plain": [
       "<matplotlib.legend.Legend at 0x132a481d0>"
      ]
     },
     "execution_count": 83,
     "metadata": {},
     "output_type": "execute_result"
    },
    {
     "data": {
      "image/png": "[encoded data removed]",
      "text/plain": [
       "<Figure size 432x288 with 1 Axes>"
      ]
     },
     "metadata": {
      "needs_background": "light"
     },
     "output_type": "display_data"
    }
   ],
   "source": [
    "# Plot the training and validation loss curves (note that we overfit the training data)\n",
    "\n",
    "history_dict = history.history\n",
    "loss_values = history_dict['loss']\n",
    "val_loss_values = history_dict['val_loss']\n",
    "epochs = range(1, len(loss_values) + 1)\n",
    "\n",
    "plt.plot(epochs, loss_values, 'b', label='Training loss')\n",
    "plt.plot(epochs, val_loss_values, 'r', label='Validation loss')\n",
    "plt.title('Training and validation loss')\n",
    "plt.xlabel('Epochs')\n",
    "plt.ylabel('Loss')\n",
    "plt.legend()\n",
    "\n",
    "\n"
   ]
  },
  {
   "cell_type": "code",
   "execution_count": 84,
   "metadata": {},
   "outputs": [
    {
     "data": {
      "image/png": "[encoded data removed]",
      "text/plain": [
       "<Figure size 432x288 with 1 Axes>"
      ]
     },
     "metadata": {
      "needs_background": "light"
     },
     "output_type": "display_data"
    }
   ],
   "source": [
    "# Plot the training and validation accuracy curves (note that we overfit the training data)\n",
    "\n",
    "plt.clf()\n",
    "acc_values = history_dict['acc'] \n",
    "val_acc_values = history_dict['val_acc']\n",
    "plt.plot(epochs, acc_values, 'b', label='Training acc')\n",
    "plt.plot(epochs, val_acc_values, 'r', label='Validation acc')\n",
    "plt.title('Training and validation accuracy')\n",
    "plt.xlabel('Epochs')\n",
    "plt.ylabel('Loss')\n",
    "plt.legend()\n",
    "plt.show()\n"
   ]
  },
  {
   "cell_type": "code",
   "execution_count": 89,
   "metadata": {},
   "outputs": [
    {
     "name": "stdout",
     "output_type": "stream",
     "text": [
      "25000/25000 [==============================] - 1s 28us/step\n",
      "[0.6970028579521179, 0.82416]\n"
     ]
    }
   ],
   "source": [
    "# Apply the trained model on the test data (we get an accuracy of 82%)\n",
    "results = model.evaluate(x_test, y_test)\n",
    "print results"
   ]
  },
  {
   "cell_type": "code",
   "execution_count": 93,
   "metadata": {},
   "outputs": [
    {
     "data": {
      "text/plain": [
       "array([[0.47024083],\n",
       "       [0.99996495],\n",
       "       [0.18939587],\n",
       "       ...,\n",
       "       [0.02172613],\n",
       "       [0.00404838],\n",
       "       [0.09561685]], dtype=float32)"
      ]
     },
     "execution_count": 93,
     "metadata": {},
     "output_type": "execute_result"
    }
   ],
   "source": [
    "# Use the trained model to predict the labels of test data (the output is the probability of\n",
    "# the review being positive)\n",
    "model.predict(x_test)"
   ]
  },
  {
   "cell_type": "markdown",
   "metadata": {},
   "source": [
    "#### Experimenting with different network architectures and comparing performance"
   ]
  },
  {
   "cell_type": "code",
   "execution_count": 106,
   "metadata": {},
   "outputs": [
    {
     "name": "stdout",
     "output_type": "stream",
     "text": [
      "Train on 20000 samples, validate on 5000 samples\n",
      "Epoch 1/25\n",
      "20000/20000 [==============================] - 1s 53us/step - loss: 0.5640 - acc: 0.7227 - val_loss: 0.4718 - val_acc: 0.7792\n",
      "Epoch 2/25\n",
      "20000/20000 [==============================] - 0s 16us/step - loss: 0.3942 - acc: 0.8337 - val_loss: 0.4086 - val_acc: 0.8180\n",
      "Epoch 3/25\n",
      "20000/20000 [==============================] - 0s 16us/step - loss: 0.3418 - acc: 0.8592 - val_loss: 0.3488 - val_acc: 0.8532\n",
      "Epoch 4/25\n",
      "20000/20000 [==============================] - 0s 16us/step - loss: 0.3178 - acc: 0.8706 - val_loss: 0.3893 - val_acc: 0.8386\n",
      "Epoch 5/25\n",
      "20000/20000 [==============================] - 0s 16us/step - loss: 0.3062 - acc: 0.8736 - val_loss: 0.3397 - val_acc: 0.8584\n",
      "Epoch 6/25\n",
      "20000/20000 [==============================] - 0s 16us/step - loss: 0.2990 - acc: 0.8772 - val_loss: 0.3441 - val_acc: 0.8574\n",
      "Epoch 7/25\n",
      "20000/20000 [==============================] - 0s 21us/step - loss: 0.2935 - acc: 0.8795 - val_loss: 0.3896 - val_acc: 0.8328\n",
      "Epoch 8/25\n",
      "20000/20000 [==============================] - 0s 21us/step - loss: 0.2889 - acc: 0.8809 - val_loss: 0.3876 - val_acc: 0.8402\n",
      "Epoch 9/25\n",
      "20000/20000 [==============================] - 0s 17us/step - loss: 0.2830 - acc: 0.8831 - val_loss: 0.3480 - val_acc: 0.8568\n",
      "Epoch 10/25\n",
      "20000/20000 [==============================] - 0s 15us/step - loss: 0.2809 - acc: 0.8831 - val_loss: 0.3478 - val_acc: 0.8580\n",
      "Epoch 11/25\n",
      "20000/20000 [==============================] - 0s 15us/step - loss: 0.2753 - acc: 0.8869 - val_loss: 0.3807 - val_acc: 0.8472\n",
      "Epoch 12/25\n",
      "20000/20000 [==============================] - 0s 21us/step - loss: 0.2720 - acc: 0.8870 - val_loss: 0.3663 - val_acc: 0.8526\n",
      "Epoch 13/25\n",
      "20000/20000 [==============================] - 0s 17us/step - loss: 0.2676 - acc: 0.8896 - val_loss: 0.3717 - val_acc: 0.8490\n",
      "Epoch 14/25\n",
      "20000/20000 [==============================] - 0s 15us/step - loss: 0.2654 - acc: 0.8908 - val_loss: 0.3661 - val_acc: 0.8566\n",
      "Epoch 15/25\n",
      "20000/20000 [==============================] - 0s 21us/step - loss: 0.2615 - acc: 0.8929 - val_loss: 0.3923 - val_acc: 0.8478\n",
      "Epoch 16/25\n",
      "20000/20000 [==============================] - 0s 21us/step - loss: 0.2570 - acc: 0.8953 - val_loss: 0.3814 - val_acc: 0.8398\n",
      "Epoch 17/25\n",
      "20000/20000 [==============================] - 0s 15us/step - loss: 0.2518 - acc: 0.8959 - val_loss: 0.3565 - val_acc: 0.8612\n",
      "Epoch 18/25\n",
      "20000/20000 [==============================] - 0s 16us/step - loss: 0.2471 - acc: 0.8991 - val_loss: 0.3727 - val_acc: 0.8502\n",
      "Epoch 19/25\n",
      "20000/20000 [==============================] - 0s 18us/step - loss: 0.2440 - acc: 0.9013 - val_loss: 0.3717 - val_acc: 0.8504\n",
      "Epoch 20/25\n",
      "20000/20000 [==============================] - 0s 18us/step - loss: 0.2398 - acc: 0.9024 - val_loss: 0.3624 - val_acc: 0.8598\n",
      "Epoch 21/25\n",
      "20000/20000 [==============================] - 0s 16us/step - loss: 0.2332 - acc: 0.9050 - val_loss: 0.3676 - val_acc: 0.8576\n",
      "Epoch 22/25\n",
      "20000/20000 [==============================] - 0s 20us/step - loss: 0.2280 - acc: 0.9067 - val_loss: 0.3903 - val_acc: 0.8492\n",
      "Epoch 23/25\n",
      "20000/20000 [==============================] - 0s 20us/step - loss: 0.2221 - acc: 0.9089 - val_loss: 0.4037 - val_acc: 0.8404\n",
      "Epoch 24/25\n",
      "20000/20000 [==============================] - 0s 16us/step - loss: 0.2197 - acc: 0.9098 - val_loss: 0.3812 - val_acc: 0.8498\n",
      "Epoch 25/25\n",
      "20000/20000 [==============================] - 0s 15us/step - loss: 0.2137 - acc: 0.9139 - val_loss: 0.3892 - val_acc: 0.8458\n"
     ]
    }
   ],
   "source": [
    "# Model 1: 2 hidden layers: 16 and 16\n",
    "model1 = models.Sequential()\n",
    "model1.add(layers.Dense(16, activation='relu', input_shape=(1000,)))\n",
    "model1.add(layers.Dense(16, activation='relu'))\n",
    "model1.add(layers.Dense(1, activation='sigmoid'))\n",
    "model1.compile(optimizer='rmsprop',loss='binary_crossentropy',metrics=['accuracy'])\n",
    "history1 = model1.fit(partial_x_train, partial_y_train, epochs=25, batch_size=512, validation_data=(x_val, y_val))"
   ]
  },
  {
   "cell_type": "code",
   "execution_count": 107,
   "metadata": {},
   "outputs": [
    {
     "name": "stdout",
     "output_type": "stream",
     "text": [
      "Train on 20000 samples, validate on 5000 samples\n",
      "Epoch 1/25\n",
      "20000/20000 [==============================] - 1s 54us/step - loss: 0.5502 - acc: 0.7389 - val_loss: 0.4658 - val_acc: 0.7932\n",
      "Epoch 2/25\n",
      "20000/20000 [==============================] - 0s 15us/step - loss: 0.3883 - acc: 0.8417 - val_loss: 0.3720 - val_acc: 0.8400\n",
      "Epoch 3/25\n",
      "20000/20000 [==============================] - 0s 16us/step - loss: 0.3370 - acc: 0.8614 - val_loss: 0.3424 - val_acc: 0.8576\n",
      "Epoch 4/25\n",
      "20000/20000 [==============================] - 0s 23us/step - loss: 0.3197 - acc: 0.8683 - val_loss: 0.3767 - val_acc: 0.8406\n",
      "Epoch 5/25\n",
      "20000/20000 [==============================] - 0s 20us/step - loss: 0.3098 - acc: 0.8713 - val_loss: 0.4109 - val_acc: 0.8268\n",
      "Epoch 6/25\n",
      "20000/20000 [==============================] - 0s 15us/step - loss: 0.3060 - acc: 0.8736 - val_loss: 0.3419 - val_acc: 0.8596\n",
      "Epoch 7/25\n",
      "20000/20000 [==============================] - 0s 16us/step - loss: 0.3014 - acc: 0.8746 - val_loss: 0.3587 - val_acc: 0.8494\n",
      "Epoch 8/25\n",
      "20000/20000 [==============================] - 0s 19us/step - loss: 0.2981 - acc: 0.8767 - val_loss: 0.3797 - val_acc: 0.8436\n",
      "Epoch 9/25\n",
      "20000/20000 [==============================] - 0s 22us/step - loss: 0.2972 - acc: 0.8772 - val_loss: 0.3469 - val_acc: 0.8596\n",
      "Epoch 10/25\n",
      "20000/20000 [==============================] - 0s 19us/step - loss: 0.2963 - acc: 0.8775 - val_loss: 0.3896 - val_acc: 0.8380\n",
      "Epoch 11/25\n",
      "20000/20000 [==============================] - 0s 15us/step - loss: 0.2947 - acc: 0.8789 - val_loss: 0.3449 - val_acc: 0.8582\n",
      "Epoch 12/25\n",
      "20000/20000 [==============================] - 0s 16us/step - loss: 0.2908 - acc: 0.8798 - val_loss: 0.3724 - val_acc: 0.8436\n",
      "Epoch 13/25\n",
      "20000/20000 [==============================] - 0s 24us/step - loss: 0.2901 - acc: 0.8790 - val_loss: 0.3649 - val_acc: 0.8472\n",
      "Epoch 14/25\n",
      "20000/20000 [==============================] - 0s 20us/step - loss: 0.2866 - acc: 0.8836 - val_loss: 0.3577 - val_acc: 0.8532\n",
      "Epoch 15/25\n",
      "20000/20000 [==============================] - 0s 16us/step - loss: 0.2857 - acc: 0.8819 - val_loss: 0.3450 - val_acc: 0.8590\n",
      "Epoch 16/25\n",
      "20000/20000 [==============================] - 0s 15us/step - loss: 0.2816 - acc: 0.8845 - val_loss: 0.3850 - val_acc: 0.8424\n",
      "Epoch 17/25\n",
      "20000/20000 [==============================] - 0s 15us/step - loss: 0.2806 - acc: 0.8828 - val_loss: 0.3785 - val_acc: 0.8400\n",
      "Epoch 18/25\n",
      "20000/20000 [==============================] - 0s 16us/step - loss: 0.2772 - acc: 0.8863 - val_loss: 0.3830 - val_acc: 0.8436\n",
      "Epoch 19/25\n",
      "20000/20000 [==============================] - 0s 16us/step - loss: 0.2755 - acc: 0.8857 - val_loss: 0.3504 - val_acc: 0.8542\n",
      "Epoch 20/25\n",
      "20000/20000 [==============================] - 0s 16us/step - loss: 0.2712 - acc: 0.8879 - val_loss: 0.4124 - val_acc: 0.8242\n",
      "Epoch 21/25\n",
      "20000/20000 [==============================] - 0s 16us/step - loss: 0.2675 - acc: 0.8882 - val_loss: 0.4036 - val_acc: 0.8354\n",
      "Epoch 22/25\n",
      "20000/20000 [==============================] - 0s 22us/step - loss: 0.2653 - acc: 0.8900 - val_loss: 0.3502 - val_acc: 0.8546\n",
      "Epoch 23/25\n",
      "20000/20000 [==============================] - 0s 21us/step - loss: 0.2592 - acc: 0.8934 - val_loss: 0.3491 - val_acc: 0.8604\n",
      "Epoch 24/25\n",
      "20000/20000 [==============================] - 0s 17us/step - loss: 0.2553 - acc: 0.8951 - val_loss: 0.3543 - val_acc: 0.8586\n",
      "Epoch 25/25\n",
      "20000/20000 [==============================] - 0s 17us/step - loss: 0.2513 - acc: 0.8962 - val_loss: 0.3958 - val_acc: 0.8424\n"
     ]
    }
   ],
   "source": [
    "# Model 2: 2 hidden layers: 16 and 32\n",
    "model2 = models.Sequential()\n",
    "model2.add(layers.Dense(16, activation='relu', input_shape=(1000,)))\n",
    "model2.add(layers.Dense(32, activation='relu'))\n",
    "model2.add(layers.Dense(1, activation='sigmoid'))\n",
    "model2.compile(optimizer='rmsprop',loss='binary_crossentropy',metrics=['accuracy'])\n",
    "history2 = model2.fit(partial_x_train, partial_y_train, epochs=25, batch_size=512, validation_data=(x_val, y_val))"
   ]
  },
  {
   "cell_type": "code",
   "execution_count": 108,
   "metadata": {},
   "outputs": [
    {
     "name": "stdout",
     "output_type": "stream",
     "text": [
      "Train on 20000 samples, validate on 5000 samples\n",
      "Epoch 1/25\n",
      "20000/20000 [==============================] - 1s 55us/step - loss: 0.6122 - acc: 0.6757 - val_loss: 0.5136 - val_acc: 0.7766\n",
      "Epoch 2/25\n",
      "20000/20000 [==============================] - 0s 15us/step - loss: 0.4443 - acc: 0.8225 - val_loss: 0.4174 - val_acc: 0.8240\n",
      "Epoch 3/25\n",
      "20000/20000 [==============================] - 0s 15us/step - loss: 0.3699 - acc: 0.8511 - val_loss: 0.3647 - val_acc: 0.8518\n",
      "Epoch 4/25\n",
      "20000/20000 [==============================] - 0s 15us/step - loss: 0.3359 - acc: 0.8643 - val_loss: 0.3475 - val_acc: 0.8560\n",
      "Epoch 5/25\n",
      "20000/20000 [==============================] - 0s 15us/step - loss: 0.3183 - acc: 0.8684 - val_loss: 0.3433 - val_acc: 0.8568\n",
      "Epoch 6/25\n",
      "20000/20000 [==============================] - 0s 14us/step - loss: 0.3086 - acc: 0.8723 - val_loss: 0.3974 - val_acc: 0.8318\n",
      "Epoch 7/25\n",
      "20000/20000 [==============================] - 0s 15us/step - loss: 0.3036 - acc: 0.8743 - val_loss: 0.3588 - val_acc: 0.8480\n",
      "Epoch 8/25\n",
      "20000/20000 [==============================] - 0s 14us/step - loss: 0.2982 - acc: 0.8766 - val_loss: 0.3400 - val_acc: 0.8608\n",
      "Epoch 9/25\n",
      "20000/20000 [==============================] - 0s 14us/step - loss: 0.2965 - acc: 0.8782 - val_loss: 0.3725 - val_acc: 0.8424\n",
      "Epoch 10/25\n",
      "20000/20000 [==============================] - 0s 15us/step - loss: 0.2932 - acc: 0.8785 - val_loss: 0.3530 - val_acc: 0.8530\n",
      "Epoch 11/25\n",
      "20000/20000 [==============================] - 0s 14us/step - loss: 0.2913 - acc: 0.8791 - val_loss: 0.3472 - val_acc: 0.8592\n",
      "Epoch 12/25\n",
      "20000/20000 [==============================] - 0s 15us/step - loss: 0.2891 - acc: 0.8816 - val_loss: 0.3466 - val_acc: 0.8576\n",
      "Epoch 13/25\n",
      "20000/20000 [==============================] - 0s 15us/step - loss: 0.2875 - acc: 0.8821 - val_loss: 0.3513 - val_acc: 0.8594\n",
      "Epoch 14/25\n",
      "20000/20000 [==============================] - 0s 15us/step - loss: 0.2854 - acc: 0.8824 - val_loss: 0.3635 - val_acc: 0.8514\n",
      "Epoch 15/25\n",
      "20000/20000 [==============================] - 0s 14us/step - loss: 0.2846 - acc: 0.8836 - val_loss: 0.3623 - val_acc: 0.8536\n",
      "Epoch 16/25\n",
      "20000/20000 [==============================] - 0s 15us/step - loss: 0.2812 - acc: 0.8858 - val_loss: 0.3539 - val_acc: 0.8582\n",
      "Epoch 17/25\n",
      "20000/20000 [==============================] - 0s 20us/step - loss: 0.2795 - acc: 0.8859 - val_loss: 0.4174 - val_acc: 0.8310\n",
      "Epoch 18/25\n",
      "20000/20000 [==============================] - 0s 14us/step - loss: 0.2786 - acc: 0.8854 - val_loss: 0.3548 - val_acc: 0.8604\n",
      "Epoch 19/25\n",
      "20000/20000 [==============================] - 0s 15us/step - loss: 0.2778 - acc: 0.8853 - val_loss: 0.3608 - val_acc: 0.8552\n",
      "Epoch 20/25\n",
      "20000/20000 [==============================] - 0s 19us/step - loss: 0.2745 - acc: 0.8876 - val_loss: 0.3991 - val_acc: 0.8372\n",
      "Epoch 21/25\n",
      "20000/20000 [==============================] - 0s 21us/step - loss: 0.2730 - acc: 0.8887 - val_loss: 0.3558 - val_acc: 0.8594\n",
      "Epoch 22/25\n",
      "20000/20000 [==============================] - 0s 16us/step - loss: 0.2706 - acc: 0.8892 - val_loss: 0.3607 - val_acc: 0.8578\n",
      "Epoch 23/25\n",
      "20000/20000 [==============================] - 0s 16us/step - loss: 0.2684 - acc: 0.8895 - val_loss: 0.3689 - val_acc: 0.8528\n",
      "Epoch 24/25\n",
      "20000/20000 [==============================] - 0s 15us/step - loss: 0.2646 - acc: 0.8912 - val_loss: 0.3605 - val_acc: 0.8600\n",
      "Epoch 25/25\n",
      "20000/20000 [==============================] - 0s 20us/step - loss: 0.2635 - acc: 0.8918 - val_loss: 0.3931 - val_acc: 0.8386\n"
     ]
    }
   ],
   "source": [
    "# Model 3: 2 hidden layers: 8 and 16\n",
    "model3 = models.Sequential()\n",
    "model3.add(layers.Dense(8, activation='relu', input_shape=(1000,)))\n",
    "model3.add(layers.Dense(16, activation='relu'))\n",
    "model3.add(layers.Dense(1, activation='sigmoid'))\n",
    "model3.compile(optimizer='rmsprop',loss='binary_crossentropy',metrics=['accuracy'])\n",
    "history3 = model3.fit(partial_x_train, partial_y_train, epochs=25, batch_size=512, validation_data=(x_val, y_val))"
   ]
  },
  {
   "cell_type": "code",
   "execution_count": 109,
   "metadata": {},
   "outputs": [
    {
     "name": "stdout",
     "output_type": "stream",
     "text": [
      "Train on 20000 samples, validate on 5000 samples\n",
      "Epoch 1/25\n",
      "20000/20000 [==============================] - 1s 58us/step - loss: 0.5974 - acc: 0.6848 - val_loss: 0.4765 - val_acc: 0.7944\n",
      "Epoch 2/25\n",
      "20000/20000 [==============================] - 0s 16us/step - loss: 0.4166 - acc: 0.8256 - val_loss: 0.3979 - val_acc: 0.8246\n",
      "Epoch 3/25\n",
      "20000/20000 [==============================] - 0s 15us/step - loss: 0.3499 - acc: 0.8545 - val_loss: 0.3725 - val_acc: 0.8416\n",
      "Epoch 4/25\n",
      "20000/20000 [==============================] - 0s 20us/step - loss: 0.3273 - acc: 0.8632 - val_loss: 0.4150 - val_acc: 0.8186\n",
      "Epoch 5/25\n",
      "20000/20000 [==============================] - 0s 21us/step - loss: 0.3116 - acc: 0.8711 - val_loss: 0.3628 - val_acc: 0.8518\n",
      "Epoch 6/25\n",
      "20000/20000 [==============================] - 0s 18us/step - loss: 0.3026 - acc: 0.8755 - val_loss: 0.3529 - val_acc: 0.8520\n",
      "Epoch 7/25\n",
      "20000/20000 [==============================] - 0s 15us/step - loss: 0.2972 - acc: 0.8782 - val_loss: 0.4198 - val_acc: 0.8238\n",
      "Epoch 8/25\n",
      "20000/20000 [==============================] - 0s 16us/step - loss: 0.2860 - acc: 0.8840 - val_loss: 0.3958 - val_acc: 0.8384\n",
      "Epoch 9/25\n",
      "20000/20000 [==============================] - 0s 16us/step - loss: 0.2839 - acc: 0.8833 - val_loss: 0.3997 - val_acc: 0.8274\n",
      "Epoch 10/25\n",
      "20000/20000 [==============================] - 0s 15us/step - loss: 0.2773 - acc: 0.8859 - val_loss: 0.4594 - val_acc: 0.8222\n",
      "Epoch 11/25\n",
      "20000/20000 [==============================] - 0s 20us/step - loss: 0.2746 - acc: 0.8864 - val_loss: 0.3658 - val_acc: 0.8478\n",
      "Epoch 12/25\n",
      "20000/20000 [==============================] - 0s 21us/step - loss: 0.2660 - acc: 0.8918 - val_loss: 0.3678 - val_acc: 0.8532\n",
      "Epoch 13/25\n",
      "20000/20000 [==============================] - 0s 18us/step - loss: 0.2610 - acc: 0.8939 - val_loss: 0.3677 - val_acc: 0.8500\n",
      "Epoch 14/25\n",
      "20000/20000 [==============================] - 0s 19us/step - loss: 0.2566 - acc: 0.8939 - val_loss: 0.3924 - val_acc: 0.8482\n",
      "Epoch 15/25\n",
      "20000/20000 [==============================] - 0s 18us/step - loss: 0.2521 - acc: 0.8950 - val_loss: 0.3736 - val_acc: 0.8534\n",
      "Epoch 16/25\n",
      "20000/20000 [==============================] - 1s 26us/step - loss: 0.2472 - acc: 0.9009 - val_loss: 0.3997 - val_acc: 0.8310\n",
      "Epoch 17/25\n",
      "20000/20000 [==============================] - 0s 20us/step - loss: 0.2412 - acc: 0.9017 - val_loss: 0.4149 - val_acc: 0.8290\n",
      "Epoch 18/25\n",
      "20000/20000 [==============================] - 0s 15us/step - loss: 0.2364 - acc: 0.9044 - val_loss: 0.4068 - val_acc: 0.8358\n",
      "Epoch 19/25\n",
      "20000/20000 [==============================] - 0s 16us/step - loss: 0.2322 - acc: 0.9072 - val_loss: 0.4003 - val_acc: 0.8454\n",
      "Epoch 20/25\n",
      "20000/20000 [==============================] - 0s 15us/step - loss: 0.2274 - acc: 0.9079 - val_loss: 0.4583 - val_acc: 0.8330\n",
      "Epoch 21/25\n",
      "20000/20000 [==============================] - 0s 16us/step - loss: 0.2230 - acc: 0.9099 - val_loss: 0.4484 - val_acc: 0.8434\n",
      "Epoch 22/25\n",
      "20000/20000 [==============================] - 0s 22us/step - loss: 0.2205 - acc: 0.9099 - val_loss: 0.4413 - val_acc: 0.8276\n",
      "Epoch 23/25\n",
      "20000/20000 [==============================] - 0s 17us/step - loss: 0.2120 - acc: 0.9149 - val_loss: 0.4344 - val_acc: 0.8414\n",
      "Epoch 24/25\n",
      "20000/20000 [==============================] - 0s 15us/step - loss: 0.2113 - acc: 0.9147 - val_loss: 0.4188 - val_acc: 0.8420\n",
      "Epoch 25/25\n",
      "20000/20000 [==============================] - 0s 16us/step - loss: 0.2056 - acc: 0.9175 - val_loss: 0.4428 - val_acc: 0.8420\n"
     ]
    }
   ],
   "source": [
    "# Model 4: 3 hidden layers: 8, 16 and 32\n",
    "model4 = models.Sequential()\n",
    "model4.add(layers.Dense(8, activation='relu', input_shape=(1000,)))\n",
    "model4.add(layers.Dense(16, activation='relu'))\n",
    "model4.add(layers.Dense(32, activation='relu'))\n",
    "model4.add(layers.Dense(1, activation='sigmoid'))\n",
    "model4.compile(optimizer='rmsprop',loss='binary_crossentropy',metrics=['accuracy'])\n",
    "history4 = model4.fit(partial_x_train, partial_y_train, epochs=25, batch_size=512, validation_data=(x_val, y_val))"
   ]
  },
  {
   "cell_type": "code",
   "execution_count": 110,
   "metadata": {},
   "outputs": [
    {
     "name": "stdout",
     "output_type": "stream",
     "text": [
      "Train on 20000 samples, validate on 5000 samples\n",
      "Epoch 1/25\n",
      "20000/20000 [==============================] - 1s 65us/step - loss: 0.5758 - acc: 0.7228 - val_loss: 0.4539 - val_acc: 0.8152\n",
      "Epoch 2/25\n",
      "20000/20000 [==============================] - 0s 16us/step - loss: 0.4008 - acc: 0.8369 - val_loss: 0.4392 - val_acc: 0.8062\n",
      "Epoch 3/25\n",
      "20000/20000 [==============================] - 0s 17us/step - loss: 0.3467 - acc: 0.8564 - val_loss: 0.3715 - val_acc: 0.8396\n",
      "Epoch 4/25\n",
      "20000/20000 [==============================] - 0s 17us/step - loss: 0.3242 - acc: 0.8666 - val_loss: 0.3787 - val_acc: 0.8386\n",
      "Epoch 5/25\n",
      "20000/20000 [==============================] - 0s 16us/step - loss: 0.3147 - acc: 0.8708 - val_loss: 0.4154 - val_acc: 0.8256\n",
      "Epoch 6/25\n",
      "20000/20000 [==============================] - 0s 16us/step - loss: 0.3100 - acc: 0.8733 - val_loss: 0.3542 - val_acc: 0.8516\n",
      "Epoch 7/25\n",
      "20000/20000 [==============================] - 0s 17us/step - loss: 0.3022 - acc: 0.8759 - val_loss: 0.3436 - val_acc: 0.8546\n",
      "Epoch 8/25\n",
      "20000/20000 [==============================] - 0s 16us/step - loss: 0.2969 - acc: 0.8795 - val_loss: 0.3698 - val_acc: 0.8456\n",
      "Epoch 9/25\n",
      "20000/20000 [==============================] - 0s 16us/step - loss: 0.2969 - acc: 0.8774 - val_loss: 0.3544 - val_acc: 0.8544\n",
      "Epoch 10/25\n",
      "20000/20000 [==============================] - 0s 16us/step - loss: 0.2936 - acc: 0.8795 - val_loss: 0.3438 - val_acc: 0.8600\n",
      "Epoch 11/25\n",
      "20000/20000 [==============================] - 0s 16us/step - loss: 0.2888 - acc: 0.8800 - val_loss: 0.3626 - val_acc: 0.8504\n",
      "Epoch 12/25\n",
      "20000/20000 [==============================] - 0s 17us/step - loss: 0.2857 - acc: 0.8828 - val_loss: 0.3442 - val_acc: 0.8590\n",
      "Epoch 13/25\n",
      "20000/20000 [==============================] - 0s 17us/step - loss: 0.2848 - acc: 0.8827 - val_loss: 0.3470 - val_acc: 0.8574\n",
      "Epoch 14/25\n",
      "20000/20000 [==============================] - 0s 16us/step - loss: 0.2796 - acc: 0.8854 - val_loss: 0.3525 - val_acc: 0.8576\n",
      "Epoch 15/25\n",
      "20000/20000 [==============================] - 0s 17us/step - loss: 0.2765 - acc: 0.8865 - val_loss: 0.3711 - val_acc: 0.8418\n",
      "Epoch 16/25\n",
      "20000/20000 [==============================] - 0s 17us/step - loss: 0.2747 - acc: 0.8864 - val_loss: 0.3557 - val_acc: 0.8546\n",
      "Epoch 17/25\n",
      "20000/20000 [==============================] - 0s 22us/step - loss: 0.2694 - acc: 0.8879 - val_loss: 0.3647 - val_acc: 0.8526\n",
      "Epoch 18/25\n",
      "20000/20000 [==============================] - 0s 23us/step - loss: 0.2639 - acc: 0.8906 - val_loss: 0.3555 - val_acc: 0.8544\n",
      "Epoch 19/25\n",
      "20000/20000 [==============================] - 0s 17us/step - loss: 0.2583 - acc: 0.8942 - val_loss: 0.3599 - val_acc: 0.8528\n",
      "Epoch 20/25\n",
      "20000/20000 [==============================] - 0s 20us/step - loss: 0.2570 - acc: 0.8950 - val_loss: 0.4011 - val_acc: 0.8400\n",
      "Epoch 21/25\n",
      "20000/20000 [==============================] - 0s 22us/step - loss: 0.2521 - acc: 0.8973 - val_loss: 0.3575 - val_acc: 0.8570\n",
      "Epoch 22/25\n",
      "20000/20000 [==============================] - 0s 16us/step - loss: 0.2455 - acc: 0.8998 - val_loss: 0.3955 - val_acc: 0.8432\n",
      "Epoch 23/25\n",
      "20000/20000 [==============================] - 0s 15us/step - loss: 0.2420 - acc: 0.9020 - val_loss: 0.4172 - val_acc: 0.8230\n",
      "Epoch 24/25\n",
      "20000/20000 [==============================] - 0s 19us/step - loss: 0.2369 - acc: 0.9046 - val_loss: 0.3673 - val_acc: 0.8540\n",
      "Epoch 25/25\n",
      "20000/20000 [==============================] - 0s 21us/step - loss: 0.2324 - acc: 0.9061 - val_loss: 0.4152 - val_acc: 0.8420\n"
     ]
    }
   ],
   "source": [
    "# Model 5: 3 hidden layers: 16, 16 and 16\n",
    "model5 = models.Sequential()\n",
    "model5.add(layers.Dense(16, activation='relu', input_shape=(1000,)))\n",
    "model5.add(layers.Dense(16, activation='relu'))\n",
    "model5.add(layers.Dense(16, activation='relu'))\n",
    "model5.add(layers.Dense(1, activation='sigmoid'))\n",
    "model5.compile(optimizer='rmsprop',loss='binary_crossentropy',metrics=['accuracy'])\n",
    "history5 = model5.fit(partial_x_train, partial_y_train, epochs=25, batch_size=512, validation_data=(x_val, y_val))"
   ]
  },
  {
   "cell_type": "code",
   "execution_count": 111,
   "metadata": {},
   "outputs": [
    {
     "data": {
      "text/plain": [
       "<matplotlib.legend.Legend at 0x12934e990>"
      ]
     },
     "execution_count": 111,
     "metadata": {},
     "output_type": "execute_result"
    },
    {
     "data": {
      "image/png": "[encoded data removed]",
      "text/plain": [
       "<Figure size 432x288 with 1 Axes>"
      ]
     },
     "metadata": {
      "needs_background": "light"
     },
     "output_type": "display_data"
    }
   ],
   "source": [
    "# Plot the training accuracy\n",
    "\n",
    "epochs = range(1, len(history1.history['acc']) + 1)\n",
    "\n",
    "plt.plot(epochs, history1.history['acc'], 'b', label='Model 1 (16/16)')\n",
    "plt.plot(epochs, history2.history['acc'], 'r', label='Model 2 (16/32)')\n",
    "plt.plot(epochs, history3.history['acc'], 'g', label='Model 3 (8/16)')\n",
    "plt.plot(epochs, history4.history['acc'], 'm', label='Model 4 (8/16/32)')\n",
    "plt.plot(epochs, history5.history['acc'], 'y', label='Model 5 (16/16/16)')\n",
    "plt.title('Training accuracy')\n",
    "plt.xlabel('Epochs')\n",
    "plt.ylabel('Training accuracy')\n",
    "plt.legend()"
   ]
  },
  {
   "cell_type": "code",
   "execution_count": 112,
   "metadata": {},
   "outputs": [
    {
     "data": {
      "text/plain": [
       "<matplotlib.legend.Legend at 0x129457a10>"
      ]
     },
     "execution_count": 112,
     "metadata": {},
     "output_type": "execute_result"
    },
    {
     "data": {
      "image/png": "[encoded data removed]",
      "text/plain": [
       "<Figure size 432x288 with 1 Axes>"
      ]
     },
     "metadata": {
      "needs_background": "light"
     },
     "output_type": "display_data"
    }
   ],
   "source": [
    "# Plot the validation accuracy\n",
    "\n",
    "epochs = range(1, len(history1.history['val_acc']) + 1)\n",
    "\n",
    "plt.plot(epochs, history1.history['val_acc'], 'b', label='Model 1 (16/16)')\n",
    "plt.plot(epochs, history2.history['val_acc'], 'r', label='Model 2 (16/32)')\n",
    "plt.plot(epochs, history3.history['val_acc'], 'g', label='Model 3 (8/16)')\n",
    "plt.plot(epochs, history4.history['val_acc'], 'm', label='Model 4 (8/16/32)')\n",
    "plt.plot(epochs, history5.history['val_acc'], 'y', label='Model 5 (16/16/16)')\n",
    "plt.title('Validation accuracy')\n",
    "plt.xlabel('Epochs')\n",
    "plt.ylabel('Validation accuracy')\n",
    "plt.legend()"
   ]
  },
  {
   "cell_type": "code",
   "execution_count": null,
   "metadata": {},
   "outputs": [],
   "source": []
  },
  {
   "cell_type": "code",
   "execution_count": null,
   "metadata": {},
   "outputs": [],
   "source": []
  },
  {
   "cell_type": "code",
   "execution_count": null,
   "metadata": {},
   "outputs": [],
   "source": []
  },
  {
   "cell_type": "code",
   "execution_count": null,
   "metadata": {},
   "outputs": [],
   "source": []
  },
  {
   "cell_type": "code",
   "execution_count": null,
   "metadata": {},
   "outputs": [],
   "source": []
  },
  {
   "cell_type": "code",
   "execution_count": null,
   "metadata": {},
   "outputs": [],
   "source": []
  }
 ],
 "metadata": {
  "kernelspec": {
   "display_name": "Python 2",
   "language": "python",
   "name": "python2"
  },
  "language_info": {
   "codemirror_mode": {
    "name": "ipython",
    "version": 2
   },
   "file_extension": ".py",
   "mimetype": "text/x-python",
   "name": "python",
   "nbconvert_exporter": "python",
   "pygments_lexer": "ipython2",
   "version": "2.7.10"
  }
 },
 "nbformat": 4,
 "nbformat_minor": 2
}
