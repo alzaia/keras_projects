{
 "cells": [
  {
   "cell_type": "markdown",
   "metadata": {},
   "source": [
    "### mmm"
   ]
  },
  {
   "cell_type": "code",
   "execution_count": 2,
   "metadata": {},
   "outputs": [],
   "source": [
    "from keras import models\n",
    "from keras import layers\n",
    "import numpy as np\n",
    "import matplotlib.pyplot as plt"
   ]
  },
  {
   "cell_type": "code",
   "execution_count": 2,
   "metadata": {},
   "outputs": [],
   "source": [
    "# Download the data\n",
    "from keras.datasets import boston_housing\n",
    "(train_data, train_targets), (test_data, test_targets) = boston_housing.load_data()"
   ]
  },
  {
   "cell_type": "code",
   "execution_count": 9,
   "metadata": {},
   "outputs": [
    {
     "name": "stdout",
     "output_type": "stream",
     "text": [
      "(404, 13)\n",
      "(404,)\n",
      "(102, 13)\n",
      "(102,)\n",
      "[  9.59571   0.       18.1       0.        0.693     6.404   100.\n",
      "   1.639    24.      666.       20.2     376.11     20.31   ]\n",
      "12.1\n"
     ]
    }
   ],
   "source": [
    "# Look at the dataset\n",
    "\n",
    "print train_data.shape # 404 samples, 13 features\n",
    "print train_targets.shape # 404 targets\n",
    "\n",
    "print test_data.shape # 102 samples, 13 features\n",
    "print test_targets.shape # 102 targets\n",
    "\n",
    "print train_data[10] # Each datapoint is an array with 13 entries (features)\n",
    "print train_targets[10] # Each target is the price of the house (in k$)\n"
   ]
  },
  {
   "cell_type": "code",
   "execution_count": 13,
   "metadata": {},
   "outputs": [
    {
     "name": "stdout",
     "output_type": "stream",
     "text": [
      "[ 0.63391647 -0.48361547  1.0283258  -0.25683275  1.15788777  0.19313958\n",
      "  1.11048828 -1.03628262  1.67588577  1.5652875   0.78447637  0.22689422\n",
      "  1.04466491]\n"
     ]
    }
   ],
   "source": [
    "# Perform feature wise normalization on the data\n",
    "\n",
    "mean = train_data.mean(axis=0)\n",
    "std = train_data.std(axis=0)\n",
    "\n",
    "train_data = train_data - mean\n",
    "train_data = train_data / std\n",
    "test_data = test_data - mean\n",
    "test_data = test_data / std\n",
    "\n",
    "print train_data[10]"
   ]
  },
  {
   "cell_type": "code",
   "execution_count": 12,
   "metadata": {},
   "outputs": [],
   "source": [
    "def build_model():\n",
    "    model = models.Sequential()\n",
    "    model.add(layers.Dense(64, activation='relu',input_shape=(train_data.shape[1],)))\n",
    "    model.add(layers.Dense(64, activation='relu'))\n",
    "    model.add(layers.Dense(1))\n",
    "    model.compile(optimizer='rmsprop', loss='mse', metrics=['mae'])\n",
    "    return model"
   ]
  },
  {
   "cell_type": "code",
   "execution_count": null,
   "metadata": {},
   "outputs": [],
   "source": []
  },
  {
   "cell_type": "code",
   "execution_count": null,
   "metadata": {},
   "outputs": [],
   "source": []
  },
  {
   "cell_type": "code",
   "execution_count": null,
   "metadata": {},
   "outputs": [],
   "source": []
  },
  {
   "cell_type": "code",
   "execution_count": null,
   "metadata": {},
   "outputs": [],
   "source": []
  },
  {
   "cell_type": "code",
   "execution_count": null,
   "metadata": {},
   "outputs": [],
   "source": []
  },
  {
   "cell_type": "code",
   "execution_count": null,
   "metadata": {},
   "outputs": [],
   "source": []
  },
  {
   "cell_type": "code",
   "execution_count": null,
   "metadata": {},
   "outputs": [],
   "source": []
  },
  {
   "cell_type": "code",
   "execution_count": null,
   "metadata": {},
   "outputs": [],
   "source": []
  },
  {
   "cell_type": "code",
   "execution_count": 3,
   "metadata": {},
   "outputs": [],
   "source": [
    "# We keep the 10000 most frequently occurring words\n",
    "from keras.datasets import reuters\n",
    "(train_data, train_labels), (test_data, test_labels) = reuters.load_data(num_words=10000)"
   ]
  },
  {
   "cell_type": "code",
   "execution_count": 5,
   "metadata": {},
   "outputs": [
    {
     "name": "stdout",
     "output_type": "stream",
     "text": [
      "8982\n",
      "2246\n"
     ]
    }
   ],
   "source": [
    "# Number of training and test samples\n",
    "print len(train_data)\n",
    "print len(test_data)"
   ]
  },
  {
   "cell_type": "code",
   "execution_count": 11,
   "metadata": {},
   "outputs": [
    {
     "name": "stdout",
     "output_type": "stream",
     "text": [
      "[1, 245, 273, 207, 156, 53, 74, 160, 26, 14, 46, 296, 26, 39, 74, 2979, 3554, 14, 46, 4689, 4329, 86, 61, 3499, 4795, 14, 61, 451, 4329, 17, 12]\n",
      "3\n"
     ]
    }
   ],
   "source": [
    "# Example of data\n",
    "print train_data[10]\n",
    "# Example of label (between 0 and 45)\n",
    "print train_labels[10]"
   ]
  },
  {
   "cell_type": "code",
   "execution_count": 14,
   "metadata": {},
   "outputs": [
    {
     "name": "stdout",
     "output_type": "stream",
     "text": [
      "[0. 1. 0. ... 0. 0. 0.]\n"
     ]
    }
   ],
   "source": [
    "# Vectorize the data\n",
    "def vectorize_sequences(sequences, dimension=10000):\n",
    "    results = np.zeros((len(sequences), dimension))\n",
    "    for i, sequence in enumerate(sequences):\n",
    "        results[i, sequence] = 1\n",
    "    return results\n",
    "\n",
    "x_train = vectorize_sequences(train_data)\n",
    "x_test = vectorize_sequences(test_data)\n",
    "\n",
    "print x_train[10]"
   ]
  },
  {
   "cell_type": "code",
   "execution_count": 15,
   "metadata": {},
   "outputs": [
    {
     "name": "stdout",
     "output_type": "stream",
     "text": [
      "[0. 0. 0. 1. 0. 0. 0. 0. 0. 0. 0. 0. 0. 0. 0. 0. 0. 0. 0. 0. 0. 0. 0. 0.\n",
      " 0. 0. 0. 0. 0. 0. 0. 0. 0. 0. 0. 0. 0. 0. 0. 0. 0. 0. 0. 0. 0. 0.]\n"
     ]
    }
   ],
   "source": [
    "# Vectorize the labels using categorical encoding\n",
    "from keras.utils.np_utils import to_categorical\n",
    "\n",
    "one_hot_train_labels = to_categorical(train_labels)\n",
    "one_hot_test_labels = to_categorical(test_labels)\n",
    "\n",
    "print one_hot_train_labels[10]"
   ]
  },
  {
   "cell_type": "code",
   "execution_count": 35,
   "metadata": {},
   "outputs": [],
   "source": [
    "# Build the network\n",
    "model = models.Sequential()\n",
    "model.add(layers.Dense(32, activation='relu', input_shape=(10000,)))\n",
    "model.add(layers.Dense(64, activation='relu'))\n",
    "model.add(layers.Dense(46, activation='softmax'))\n",
    "\n",
    "model.compile(optimizer='rmsprop',loss='categorical_crossentropy',metrics=['accuracy'])"
   ]
  },
  {
   "cell_type": "code",
   "execution_count": 36,
   "metadata": {},
   "outputs": [],
   "source": [
    "# Create a validation dataset\n",
    "x_val = x_train[:1000]\n",
    "partial_x_train = x_train[1000:]\n",
    "y_val = one_hot_train_labels[:1000]\n",
    "partial_y_train = one_hot_train_labels[1000:]"
   ]
  },
  {
   "cell_type": "code",
   "execution_count": 37,
   "metadata": {},
   "outputs": [
    {
     "name": "stdout",
     "output_type": "stream",
     "text": [
      "Train on 7982 samples, validate on 1000 samples\n",
      "Epoch 1/20\n",
      "7982/7982 [==============================] - 1s 137us/step - loss: 3.0510 - acc: 0.4435 - val_loss: 2.2071 - val_acc: 0.5730\n",
      "Epoch 2/20\n",
      "7982/7982 [==============================] - 1s 98us/step - loss: 1.8442 - acc: 0.6229 - val_loss: 1.5860 - val_acc: 0.6520\n",
      "Epoch 3/20\n",
      "7982/7982 [==============================] - 1s 96us/step - loss: 1.3711 - acc: 0.7072 - val_loss: 1.3343 - val_acc: 0.6950\n",
      "Epoch 4/20\n",
      "7982/7982 [==============================] - 1s 97us/step - loss: 1.1119 - acc: 0.7612 - val_loss: 1.1935 - val_acc: 0.7530\n",
      "Epoch 5/20\n",
      "7982/7982 [==============================] - 1s 95us/step - loss: 0.9273 - acc: 0.7998 - val_loss: 1.1075 - val_acc: 0.7650\n",
      "Epoch 6/20\n",
      "7982/7982 [==============================] - 1s 97us/step - loss: 0.7837 - acc: 0.8316 - val_loss: 1.0586 - val_acc: 0.7640\n",
      "Epoch 7/20\n",
      "7982/7982 [==============================] - 1s 96us/step - loss: 0.6609 - acc: 0.8601 - val_loss: 0.9961 - val_acc: 0.7900\n",
      "Epoch 8/20\n",
      "7982/7982 [==============================] - 1s 98us/step - loss: 0.5612 - acc: 0.8831 - val_loss: 0.9699 - val_acc: 0.7980\n",
      "Epoch 9/20\n",
      "7982/7982 [==============================] - 1s 104us/step - loss: 0.4751 - acc: 0.9038 - val_loss: 0.9559 - val_acc: 0.8000\n",
      "Epoch 10/20\n",
      "7982/7982 [==============================] - 1s 129us/step - loss: 0.4060 - acc: 0.9148 - val_loss: 0.9248 - val_acc: 0.8170\n",
      "Epoch 11/20\n",
      "7982/7982 [==============================] - 1s 98us/step - loss: 0.3480 - acc: 0.9258 - val_loss: 0.9277 - val_acc: 0.8070\n",
      "Epoch 12/20\n",
      "7982/7982 [==============================] - 1s 97us/step - loss: 0.2976 - acc: 0.9344 - val_loss: 0.9411 - val_acc: 0.8120\n",
      "Epoch 13/20\n",
      "7982/7982 [==============================] - 1s 107us/step - loss: 0.2597 - acc: 0.9412 - val_loss: 0.9459 - val_acc: 0.8100\n",
      "Epoch 14/20\n",
      "7982/7982 [==============================] - 1s 103us/step - loss: 0.2292 - acc: 0.9464 - val_loss: 0.9888 - val_acc: 0.8000\n",
      "Epoch 15/20\n",
      "7982/7982 [==============================] - 1s 99us/step - loss: 0.2068 - acc: 0.9489 - val_loss: 0.9777 - val_acc: 0.8050\n",
      "Epoch 16/20\n",
      "7982/7982 [==============================] - 1s 99us/step - loss: 0.1820 - acc: 0.9528 - val_loss: 0.9977 - val_acc: 0.8000\n",
      "Epoch 17/20\n",
      "7982/7982 [==============================] - 1s 99us/step - loss: 0.1669 - acc: 0.9526 - val_loss: 1.0080 - val_acc: 0.8040\n",
      "Epoch 18/20\n",
      "7982/7982 [==============================] - 1s 100us/step - loss: 0.1571 - acc: 0.9541 - val_loss: 0.9780 - val_acc: 0.8090\n",
      "Epoch 19/20\n",
      "7982/7982 [==============================] - 1s 97us/step - loss: 0.1464 - acc: 0.9555 - val_loss: 1.0759 - val_acc: 0.7970\n",
      "Epoch 20/20\n",
      "7982/7982 [==============================] - 1s 102us/step - loss: 0.1328 - acc: 0.9560 - val_loss: 1.0105 - val_acc: 0.7980\n"
     ]
    }
   ],
   "source": [
    "history = model.fit(partial_x_train,partial_y_train,epochs=20,batch_size=512,validation_data=(x_val, y_val))"
   ]
  },
  {
   "cell_type": "code",
   "execution_count": 38,
   "metadata": {},
   "outputs": [
    {
     "data": {
      "text/plain": [
       "<matplotlib.legend.Legend at 0x13a051150>"
      ]
     },
     "execution_count": 38,
     "metadata": {},
     "output_type": "execute_result"
    },
    {
     "data": {
      "image/png": "[encoded data removed]",
      "text/plain": [
       "<Figure size 432x288 with 1 Axes>"
      ]
     },
     "metadata": {
      "needs_background": "light"
     },
     "output_type": "display_data"
    }
   ],
   "source": [
    "# Plot the loss curves\n",
    "\n",
    "history_dict = history.history\n",
    "loss_values = history_dict['loss']\n",
    "val_loss_values = history_dict['val_loss']\n",
    "epochs = range(1, len(loss_values) + 1)\n",
    "\n",
    "plt.plot(epochs, loss_values, 'b', label='Training loss')\n",
    "plt.plot(epochs, val_loss_values, 'r', label='Validation loss')\n",
    "plt.title('Training and validation loss')\n",
    "plt.xlabel('Epochs')\n",
    "plt.ylabel('Loss')\n",
    "plt.legend()"
   ]
  },
  {
   "cell_type": "code",
   "execution_count": 58,
   "metadata": {},
   "outputs": [
    {
     "name": "stdout",
     "output_type": "stream",
     "text": [
      "_________________________________________________________________\n",
      "Layer (type)                 Output Shape              Param #   \n",
      "=================================================================\n",
      "dense_19 (Dense)             (None, 32)                320032    \n",
      "_________________________________________________________________\n",
      "dense_20 (Dense)             (None, 64)                2112      \n",
      "_________________________________________________________________\n",
      "dense_21 (Dense)             (None, 46)                2990      \n",
      "=================================================================\n",
      "Total params: 325,134\n",
      "Trainable params: 325,134\n",
      "Non-trainable params: 0\n",
      "_________________________________________________________________\n",
      "Train on 7982 samples, validate on 1000 samples\n",
      "Epoch 1/10\n",
      "7982/7982 [==============================] - 1s 173us/step - loss: 2.8562 - acc: 0.4935 - val_loss: 2.0167 - val_acc: 0.5780\n",
      "Epoch 2/10\n",
      "7982/7982 [==============================] - 1s 99us/step - loss: 1.6905 - acc: 0.6497 - val_loss: 1.4992 - val_acc: 0.6680\n",
      "Epoch 3/10\n",
      "7982/7982 [==============================] - 1s 101us/step - loss: 1.2919 - acc: 0.7200 - val_loss: 1.2842 - val_acc: 0.7100\n",
      "Epoch 4/10\n",
      "7982/7982 [==============================] - 1s 98us/step - loss: 1.0722 - acc: 0.7618 - val_loss: 1.1630 - val_acc: 0.7340\n",
      "Epoch 5/10\n",
      "7982/7982 [==============================] - 1s 99us/step - loss: 0.9119 - acc: 0.7985 - val_loss: 1.0819 - val_acc: 0.7550\n",
      "Epoch 6/10\n",
      "7982/7982 [==============================] - 1s 100us/step - loss: 0.7813 - acc: 0.8266 - val_loss: 1.0275 - val_acc: 0.7830\n",
      "Epoch 7/10\n",
      "7982/7982 [==============================] - 1s 100us/step - loss: 0.6663 - acc: 0.8540 - val_loss: 0.9886 - val_acc: 0.7970\n",
      "Epoch 8/10\n",
      "7982/7982 [==============================] - 1s 99us/step - loss: 0.5664 - acc: 0.8787 - val_loss: 0.9586 - val_acc: 0.7970\n",
      "Epoch 9/10\n",
      "7982/7982 [==============================] - 1s 99us/step - loss: 0.4824 - acc: 0.8979 - val_loss: 0.9438 - val_acc: 0.8070\n",
      "Epoch 10/10\n",
      "7982/7982 [==============================] - 1s 99us/step - loss: 0.4124 - acc: 0.9116 - val_loss: 0.9213 - val_acc: 0.8110\n"
     ]
    }
   ],
   "source": [
    "# Retrain for 10 epochs (to avoid overfitting)\n",
    "\n",
    "model2 = models.Sequential()\n",
    "model2.add(layers.Dense(32, activation='relu', input_shape=(10000,)))\n",
    "model2.add(layers.Dense(64, activation='relu'))\n",
    "model2.add(layers.Dense(46, activation='softmax'))\n",
    "\n",
    "model2.compile(optimizer='rmsprop',loss='categorical_crossentropy',metrics=['accuracy'])\n",
    "model2.summary()\n",
    "\n",
    "history = model2.fit(partial_x_train,partial_y_train,epochs=10,batch_size=512,validation_data=(x_val, y_val))"
   ]
  },
  {
   "cell_type": "code",
   "execution_count": 59,
   "metadata": {},
   "outputs": [
    {
     "name": "stdout",
     "output_type": "stream",
     "text": [
      "2246/2246 [==============================] - 0s 113us/step\n",
      "[1.0113608155628453, 0.7787177203387314]\n"
     ]
    }
   ],
   "source": [
    "# Evaluate on the test set (78% accuracy)\n",
    "results = model2.evaluate(x_test, one_hot_test_labels)\n",
    "print results"
   ]
  },
  {
   "cell_type": "code",
   "execution_count": 60,
   "metadata": {},
   "outputs": [
    {
     "name": "stdout",
     "output_type": "stream",
     "text": [
      "[1.26970820e-02 8.50619495e-01 4.06743522e-04 4.17042902e-04\n",
      " 2.20515095e-02 5.77846132e-02 9.28760710e-06 7.66886296e-05\n",
      " 3.30204447e-03 7.12317473e-04 3.66759347e-03 4.01854377e-05\n",
      " 1.16758565e-04 2.92187766e-03 9.80104692e-03 8.44763708e-04\n",
      " 6.95312512e-04 3.02920875e-04 1.14001108e-04 5.14515862e-03\n",
      " 7.37337582e-03 1.18371199e-05 5.50160708e-04 1.65711113e-04\n",
      " 6.93606492e-03 2.92007790e-05 2.10292019e-05 5.85945556e-04\n",
      " 2.93472526e-03 4.17947886e-04 9.64439823e-05 2.24279310e-03\n",
      " 1.30137440e-03 1.85808731e-05 6.82887912e-05 9.78965400e-05\n",
      " 2.82111214e-05 6.73049013e-04 3.53668089e-04 2.09029089e-03\n",
      " 1.41308454e-04 8.86631198e-04 9.30803246e-04 3.74862830e-05\n",
      " 8.00050930e-06 2.72717065e-04]\n",
      "1.0\n"
     ]
    }
   ],
   "source": [
    "# Generate predictions for the test set and print an example for data #10\n",
    "predictions = model.predict(x_test)\n",
    "print predictions[10]\n",
    "print np.sum(predictions[10])"
   ]
  },
  {
   "cell_type": "code",
   "execution_count": 61,
   "metadata": {},
   "outputs": [
    {
     "data": {
      "text/plain": [
       "1"
      ]
     },
     "execution_count": 61,
     "metadata": {},
     "output_type": "execute_result"
    }
   ],
   "source": [
    "# To identify the predicted class of a sample, take the highest probability\n",
    "np.argmax(predictions[10])"
   ]
  },
  {
   "cell_type": "code",
   "execution_count": null,
   "metadata": {},
   "outputs": [],
   "source": []
  }
 ],
 "metadata": {
  "kernelspec": {
   "display_name": "Python 2",
   "language": "python",
   "name": "python2"
  },
  "language_info": {
   "codemirror_mode": {
    "name": "ipython",
    "version": 2
   },
   "file_extension": ".py",
   "mimetype": "text/x-python",
   "name": "python",
   "nbconvert_exporter": "python",
   "pygments_lexer": "ipython2",
   "version": "2.7.10"
  }
 },
 "nbformat": 4,
 "nbformat_minor": 2
}
