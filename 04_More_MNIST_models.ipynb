{
 "cells": [
  {
   "cell_type": "markdown",
   "metadata": {},
   "source": [
    "### mmm "
   ]
  },
  {
   "cell_type": "code",
   "execution_count": 34,
   "metadata": {},
   "outputs": [],
   "source": [
    "import numpy as np\n",
    "\n",
    "from keras.datasets import mnist\n",
    "from keras import models\n",
    "from keras import layers\n",
    "from keras.utils import to_categorical\n",
    "import matplotlib.pyplot as plt"
   ]
  },
  {
   "cell_type": "code",
   "execution_count": 35,
   "metadata": {},
   "outputs": [],
   "source": [
    "# Download the MNIST dataset\n",
    "(train_images, train_labels), (test_images, test_labels) = mnist.load_data()"
   ]
  },
  {
   "cell_type": "code",
   "execution_count": 36,
   "metadata": {},
   "outputs": [
    {
     "name": "stdout",
     "output_type": "stream",
     "text": [
      "(60000, 28, 28)\n",
      "60000\n"
     ]
    },
    {
     "data": {
      "text/plain": [
       "array([5, 0, 4, ..., 5, 6, 8], dtype=uint8)"
      ]
     },
     "execution_count": 36,
     "metadata": {},
     "output_type": "execute_result"
    }
   ],
   "source": [
    "# The training data has 60000 samples (28x28 images)\n",
    "print train_images.shape\n",
    "# Each image has a label (0 to 9)\n",
    "print len(train_labels)\n",
    "train_labels"
   ]
  },
  {
   "cell_type": "code",
   "execution_count": 37,
   "metadata": {},
   "outputs": [
    {
     "name": "stdout",
     "output_type": "stream",
     "text": [
      "(10000, 28, 28)\n",
      "10000\n"
     ]
    },
    {
     "data": {
      "text/plain": [
       "array([7, 2, 1, ..., 4, 5, 6], dtype=uint8)"
      ]
     },
     "execution_count": 37,
     "metadata": {},
     "output_type": "execute_result"
    }
   ],
   "source": [
    "# The test data has 10000 samples (28x28 images)\n",
    "print test_images.shape\n",
    "# Each image has a label (0 to 9)\n",
    "print len(test_labels)\n",
    "test_labels"
   ]
  },
  {
   "cell_type": "code",
   "execution_count": 38,
   "metadata": {},
   "outputs": [],
   "source": [
    "# Reshape the samples (each sample has 28*28 'features') and normalize between 0-1\n",
    "train_images = train_images.reshape((60000, 28 * 28))\n",
    "train_images = train_images.astype('float32') / 255\n",
    "test_images = test_images.reshape((10000, 28 * 28))\n",
    "test_images = test_images.astype('float32') / 255\n",
    "\n",
    "train_labels = to_categorical(train_labels)\n",
    "test_labels = to_categorical(test_labels)\n",
    "\n",
    "val_images = train_images[:15000,:]\n",
    "val_labels = train_labels[:15000,:]\n",
    "\n",
    "train_images = train_images[15000:,:]\n",
    "train_labels = train_labels[15000:,:]\n"
   ]
  },
  {
   "cell_type": "code",
   "execution_count": 39,
   "metadata": {},
   "outputs": [
    {
     "name": "stdout",
     "output_type": "stream",
     "text": [
      "Train on 45000 samples, validate on 15000 samples\n",
      "Epoch 1/25\n",
      "45000/45000 [==============================] - 1s 31us/step - loss: 0.6025 - acc: 0.8321 - val_loss: 0.3447 - val_acc: 0.8985\n",
      "Epoch 2/25\n",
      "45000/45000 [==============================] - 1s 21us/step - loss: 0.2730 - acc: 0.9199 - val_loss: 0.2582 - val_acc: 0.9240\n",
      "Epoch 3/25\n",
      "45000/45000 [==============================] - 1s 21us/step - loss: 0.2254 - acc: 0.9333 - val_loss: 0.2520 - val_acc: 0.9281\n",
      "Epoch 4/25\n",
      "45000/45000 [==============================] - 1s 24us/step - loss: 0.1964 - acc: 0.9420 - val_loss: 0.2032 - val_acc: 0.9411\n",
      "Epoch 5/25\n",
      "45000/45000 [==============================] - 1s 20us/step - loss: 0.1782 - acc: 0.9465 - val_loss: 0.2044 - val_acc: 0.9402\n",
      "Epoch 6/25\n",
      "45000/45000 [==============================] - 1s 23us/step - loss: 0.1641 - acc: 0.9500 - val_loss: 0.1792 - val_acc: 0.9459\n",
      "Epoch 7/25\n",
      "45000/45000 [==============================] - 1s 25us/step - loss: 0.1512 - acc: 0.9547 - val_loss: 0.1813 - val_acc: 0.9465\n",
      "Epoch 8/25\n",
      "45000/45000 [==============================] - 1s 24us/step - loss: 0.1425 - acc: 0.9573 - val_loss: 0.1901 - val_acc: 0.9428\n",
      "Epoch 9/25\n",
      "45000/45000 [==============================] - 1s 22us/step - loss: 0.1350 - acc: 0.9593 - val_loss: 0.1747 - val_acc: 0.9487\n",
      "Epoch 10/25\n",
      "45000/45000 [==============================] - 1s 28us/step - loss: 0.1280 - acc: 0.9615 - val_loss: 0.1732 - val_acc: 0.9507\n",
      "Epoch 11/25\n",
      "45000/45000 [==============================] - 1s 28us/step - loss: 0.1215 - acc: 0.9633 - val_loss: 0.1802 - val_acc: 0.9466\n",
      "Epoch 12/25\n",
      "45000/45000 [==============================] - 1s 30us/step - loss: 0.1159 - acc: 0.9647 - val_loss: 0.1589 - val_acc: 0.9545\n",
      "Epoch 13/25\n",
      "45000/45000 [==============================] - 1s 32us/step - loss: 0.1106 - acc: 0.9663 - val_loss: 0.1624 - val_acc: 0.9531\n",
      "Epoch 14/25\n",
      "45000/45000 [==============================] - 1s 23us/step - loss: 0.1070 - acc: 0.9669 - val_loss: 0.1672 - val_acc: 0.9503\n",
      "Epoch 15/25\n",
      "45000/45000 [==============================] - 1s 20us/step - loss: 0.1017 - acc: 0.9697 - val_loss: 0.1674 - val_acc: 0.9517\n",
      "Epoch 16/25\n",
      "45000/45000 [==============================] - 1s 20us/step - loss: 0.0978 - acc: 0.9700 - val_loss: 0.1617 - val_acc: 0.9556\n",
      "Epoch 17/25\n",
      "45000/45000 [==============================] - 1s 27us/step - loss: 0.0946 - acc: 0.9717 - val_loss: 0.1594 - val_acc: 0.9560\n",
      "Epoch 18/25\n",
      "45000/45000 [==============================] - 1s 27us/step - loss: 0.0928 - acc: 0.9714 - val_loss: 0.1592 - val_acc: 0.9562\n",
      "Epoch 19/25\n",
      "45000/45000 [==============================] - 1s 30us/step - loss: 0.0893 - acc: 0.9725 - val_loss: 0.1654 - val_acc: 0.9543\n",
      "Epoch 20/25\n",
      "45000/45000 [==============================] - 1s 26us/step - loss: 0.0868 - acc: 0.9731 - val_loss: 0.1739 - val_acc: 0.9515\n",
      "Epoch 21/25\n",
      "45000/45000 [==============================] - 1s 23us/step - loss: 0.0832 - acc: 0.9740 - val_loss: 0.1826 - val_acc: 0.9479\n",
      "Epoch 22/25\n",
      "45000/45000 [==============================] - 1s 21us/step - loss: 0.0822 - acc: 0.9752 - val_loss: 0.1602 - val_acc: 0.9557\n",
      "Epoch 23/25\n",
      "45000/45000 [==============================] - 1s 21us/step - loss: 0.0796 - acc: 0.9756 - val_loss: 0.1523 - val_acc: 0.9576\n",
      "Epoch 24/25\n",
      "45000/45000 [==============================] - 1s 21us/step - loss: 0.0767 - acc: 0.9766 - val_loss: 0.1801 - val_acc: 0.9524\n",
      "Epoch 25/25\n",
      "45000/45000 [==============================] - 1s 22us/step - loss: 0.0755 - acc: 0.9771 - val_loss: 0.1753 - val_acc: 0.9530\n"
     ]
    }
   ],
   "source": [
    "# Define the network (one layer of 512 units and an output of 10 units)\n",
    "network = models.Sequential()\n",
    "network.add(layers.Dense(16, activation='relu', input_shape=(28 * 28,)))\n",
    "network.add(layers.Dense(32, activation='relu'))\n",
    "network.add(layers.Dense(64, activation='relu'))\n",
    "network.add(layers.Dense(10, activation='softmax'))\n",
    "\n",
    "network.compile(optimizer='rmsprop',loss='categorical_crossentropy',metrics=['accuracy'])\n",
    "history1 = network.fit(train_images, train_labels, epochs=25, batch_size=128, validation_data=(val_images, val_labels))"
   ]
  },
  {
   "cell_type": "code",
   "execution_count": 31,
   "metadata": {},
   "outputs": [
    {
     "name": "stdout",
     "output_type": "stream",
     "text": [
      "Train on 45000 samples, validate on 15000 samples\n",
      "Epoch 1/25\n",
      "45000/45000 [==============================] - 2s 38us/step - loss: 0.7809 - acc: 0.7478 - val_loss: 0.4719 - val_acc: 0.8563\n",
      "Epoch 2/25\n",
      "45000/45000 [==============================] - 1s 20us/step - loss: 0.3843 - acc: 0.8838 - val_loss: 0.3660 - val_acc: 0.8946\n",
      "Epoch 3/25\n",
      "45000/45000 [==============================] - 1s 20us/step - loss: 0.3235 - acc: 0.9015 - val_loss: 0.3239 - val_acc: 0.9083\n",
      "Epoch 4/25\n",
      "45000/45000 [==============================] - 1s 20us/step - loss: 0.2857 - acc: 0.9136 - val_loss: 0.3053 - val_acc: 0.9095\n",
      "Epoch 5/25\n",
      "45000/45000 [==============================] - 1s 20us/step - loss: 0.2596 - acc: 0.9207 - val_loss: 0.2805 - val_acc: 0.9160\n",
      "Epoch 6/25\n",
      "45000/45000 [==============================] - 1s 20us/step - loss: 0.2431 - acc: 0.9260 - val_loss: 0.3040 - val_acc: 0.9075\n",
      "Epoch 7/25\n",
      "45000/45000 [==============================] - 1s 20us/step - loss: 0.2306 - acc: 0.9303 - val_loss: 0.2819 - val_acc: 0.9175\n",
      "Epoch 8/25\n",
      "45000/45000 [==============================] - 1s 20us/step - loss: 0.2211 - acc: 0.9319 - val_loss: 0.2547 - val_acc: 0.9250\n",
      "Epoch 9/25\n",
      "45000/45000 [==============================] - 1s 21us/step - loss: 0.2109 - acc: 0.9367 - val_loss: 0.2608 - val_acc: 0.9237\n",
      "Epoch 10/25\n",
      "45000/45000 [==============================] - 1s 26us/step - loss: 0.2039 - acc: 0.9376 - val_loss: 0.2547 - val_acc: 0.9241\n",
      "Epoch 11/25\n",
      "45000/45000 [==============================] - 1s 20us/step - loss: 0.1979 - acc: 0.9387 - val_loss: 0.2398 - val_acc: 0.9291\n",
      "Epoch 12/25\n",
      "45000/45000 [==============================] - 1s 20us/step - loss: 0.1925 - acc: 0.9407 - val_loss: 0.2334 - val_acc: 0.9299\n",
      "Epoch 13/25\n",
      "45000/45000 [==============================] - 1s 20us/step - loss: 0.1854 - acc: 0.9429 - val_loss: 0.2539 - val_acc: 0.9259\n",
      "Epoch 14/25\n",
      "45000/45000 [==============================] - 1s 21us/step - loss: 0.1816 - acc: 0.9438 - val_loss: 0.2344 - val_acc: 0.9318\n",
      "Epoch 15/25\n",
      "45000/45000 [==============================] - 1s 20us/step - loss: 0.1779 - acc: 0.9447 - val_loss: 0.2443 - val_acc: 0.9266\n",
      "Epoch 16/25\n",
      "45000/45000 [==============================] - 1s 25us/step - loss: 0.1728 - acc: 0.9463 - val_loss: 0.2342 - val_acc: 0.9300\n",
      "Epoch 17/25\n",
      "45000/45000 [==============================] - 1s 20us/step - loss: 0.1706 - acc: 0.9476 - val_loss: 0.2168 - val_acc: 0.9353\n",
      "Epoch 18/25\n",
      "45000/45000 [==============================] - 1s 21us/step - loss: 0.1663 - acc: 0.9487 - val_loss: 0.2236 - val_acc: 0.9347\n",
      "Epoch 19/25\n",
      "45000/45000 [==============================] - 1s 25us/step - loss: 0.1627 - acc: 0.9488 - val_loss: 0.2265 - val_acc: 0.9347\n",
      "Epoch 20/25\n",
      "45000/45000 [==============================] - 1s 21us/step - loss: 0.1604 - acc: 0.9498 - val_loss: 0.2231 - val_acc: 0.9363\n",
      "Epoch 21/25\n",
      "45000/45000 [==============================] - 1s 25us/step - loss: 0.1570 - acc: 0.9512 - val_loss: 0.2163 - val_acc: 0.9363\n",
      "Epoch 22/25\n",
      "45000/45000 [==============================] - 1s 21us/step - loss: 0.1551 - acc: 0.9523 - val_loss: 0.2338 - val_acc: 0.9309\n",
      "Epoch 23/25\n",
      "45000/45000 [==============================] - 1s 20us/step - loss: 0.1534 - acc: 0.9525 - val_loss: 0.2375 - val_acc: 0.9329\n",
      "Epoch 24/25\n",
      "45000/45000 [==============================] - 1s 20us/step - loss: 0.1506 - acc: 0.9531 - val_loss: 0.2118 - val_acc: 0.9398\n",
      "Epoch 25/25\n",
      "45000/45000 [==============================] - 1s 23us/step - loss: 0.1494 - acc: 0.9543 - val_loss: 0.2195 - val_acc: 0.9376\n"
     ]
    }
   ],
   "source": [
    "network = models.Sequential()\n",
    "network.add(layers.Dense(8, activation='relu', input_shape=(28 * 28,)))\n",
    "network.add(layers.Dense(16, activation='relu'))\n",
    "network.add(layers.Dense(32, activation='relu'))\n",
    "network.add(layers.Dense(64, activation='relu'))\n",
    "network.add(layers.Dense(10, activation='softmax'))\n",
    "\n",
    "network.compile(optimizer='rmsprop',loss='categorical_crossentropy',metrics=['accuracy'])\n",
    "history2 = network.fit(train_images, train_labels, epochs=25, batch_size=128, validation_data=(val_images, val_labels))"
   ]
  },
  {
   "cell_type": "code",
   "execution_count": null,
   "metadata": {},
   "outputs": [],
   "source": []
  },
  {
   "cell_type": "code",
   "execution_count": null,
   "metadata": {},
   "outputs": [],
   "source": []
  },
  {
   "cell_type": "code",
   "execution_count": null,
   "metadata": {},
   "outputs": [],
   "source": []
  },
  {
   "cell_type": "code",
   "execution_count": null,
   "metadata": {},
   "outputs": [],
   "source": []
  },
  {
   "cell_type": "code",
   "execution_count": 33,
   "metadata": {},
   "outputs": [
    {
     "data": {
      "text/plain": [
       "<matplotlib.legend.Legend at 0x121d70f90>"
      ]
     },
     "execution_count": 33,
     "metadata": {},
     "output_type": "execute_result"
    },
    {
     "data": {
      "image/png": "[encoded data removed]",
      "text/plain": [
       "<Figure size 432x288 with 1 Axes>"
      ]
     },
     "metadata": {
      "needs_background": "light"
     },
     "output_type": "display_data"
    }
   ],
   "source": [
    "# Plot the training accuracy\n",
    "\n",
    "epochs = range(1, len(history1.history['acc']) + 1)\n",
    "\n",
    "plt.plot(epochs, history1.history['acc'], 'bv', label='16/32/64')\n",
    "plt.plot(epochs, history1.history['val_acc'], 'bx')\n",
    "\n",
    "plt.plot(epochs, history2.history['acc'], 'rv', label='8/16/32/64')\n",
    "plt.plot(epochs, history2.history['val_acc'], 'rx')\n",
    "\n",
    "plt.title('Training accuracy')\n",
    "plt.xlabel('Epochs')\n",
    "plt.ylabel('Training accuracy')\n",
    "plt.legend()"
   ]
  },
  {
   "cell_type": "code",
   "execution_count": null,
   "metadata": {},
   "outputs": [],
   "source": []
  },
  {
   "cell_type": "code",
   "execution_count": null,
   "metadata": {},
   "outputs": [],
   "source": []
  },
  {
   "cell_type": "code",
   "execution_count": null,
   "metadata": {},
   "outputs": [],
   "source": []
  },
  {
   "cell_type": "code",
   "execution_count": 48,
   "metadata": {},
   "outputs": [
    {
     "name": "stdout",
     "output_type": "stream",
     "text": [
      "10000/10000 [==============================] - 1s 52us/step\n",
      "('test_acc:', 0.9826)\n"
     ]
    }
   ],
   "source": [
    "# Evaluate the performance of the model on the test data\n",
    "test_loss, test_acc = network.evaluate(test_images, test_labels)\n",
    "print('test_acc:', test_acc)"
   ]
  },
  {
   "cell_type": "code",
   "execution_count": null,
   "metadata": {},
   "outputs": [],
   "source": []
  }
 ],
 "metadata": {
  "kernelspec": {
   "display_name": "Python 2",
   "language": "python",
   "name": "python2"
  },
  "language_info": {
   "codemirror_mode": {
    "name": "ipython",
    "version": 2
   },
   "file_extension": ".py",
   "mimetype": "text/x-python",
   "name": "python",
   "nbconvert_exporter": "python",
   "pygments_lexer": "ipython2",
   "version": "2.7.10"
  }
 },
 "nbformat": 4,
 "nbformat_minor": 2
}
