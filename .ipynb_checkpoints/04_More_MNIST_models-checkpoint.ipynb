{
 "cells": [
  {
   "cell_type": "markdown",
   "metadata": {},
   "source": [
    "### mmm "
   ]
  },
  {
   "cell_type": "code",
   "execution_count": 14,
   "metadata": {},
   "outputs": [],
   "source": [
    "import numpy as np\n",
    "\n",
    "from keras.datasets import mnist\n",
    "from keras import models\n",
    "from keras import layers\n",
    "from keras.utils import to_categorical\n",
    "import matplotlib.pyplot as plt"
   ]
  },
  {
   "cell_type": "code",
   "execution_count": 20,
   "metadata": {},
   "outputs": [],
   "source": [
    "# Download the MNIST dataset\n",
    "(train_images, train_labels), (test_images, test_labels) = mnist.load_data()"
   ]
  },
  {
   "cell_type": "code",
   "execution_count": 21,
   "metadata": {},
   "outputs": [
    {
     "name": "stdout",
     "output_type": "stream",
     "text": [
      "(60000, 28, 28)\n",
      "60000\n"
     ]
    },
    {
     "data": {
      "text/plain": [
       "array([5, 0, 4, ..., 5, 6, 8], dtype=uint8)"
      ]
     },
     "execution_count": 21,
     "metadata": {},
     "output_type": "execute_result"
    }
   ],
   "source": [
    "# The training data has 60000 samples (28x28 images)\n",
    "print train_images.shape\n",
    "# Each image has a label (0 to 9)\n",
    "print len(train_labels)\n",
    "train_labels"
   ]
  },
  {
   "cell_type": "code",
   "execution_count": 22,
   "metadata": {},
   "outputs": [
    {
     "name": "stdout",
     "output_type": "stream",
     "text": [
      "(10000, 28, 28)\n",
      "10000\n"
     ]
    },
    {
     "data": {
      "text/plain": [
       "array([7, 2, 1, ..., 4, 5, 6], dtype=uint8)"
      ]
     },
     "execution_count": 22,
     "metadata": {},
     "output_type": "execute_result"
    }
   ],
   "source": [
    "# The test data has 10000 samples (28x28 images)\n",
    "print test_images.shape\n",
    "# Each image has a label (0 to 9)\n",
    "print len(test_labels)\n",
    "test_labels"
   ]
  },
  {
   "cell_type": "code",
   "execution_count": 25,
   "metadata": {},
   "outputs": [],
   "source": [
    "# Reshape the samples (each sample has 28*28 'features') and normalize between 0-1\n",
    "train_images = train_images.reshape((60000, 28 * 28))\n",
    "train_images = train_images.astype('float32') / 255\n",
    "test_images = test_images.reshape((10000, 28 * 28))\n",
    "test_images = test_images.astype('float32') / 255\n",
    "\n",
    "train_labels = to_categorical(train_labels)\n",
    "test_labels = to_categorical(test_labels)\n",
    "\n",
    "val_images = train_images[:15000,:]\n",
    "val_labels = train_labels[:15000,:]\n",
    "\n",
    "train_images = train_images[15000:,:]\n",
    "train_labels = train_labels[15000:,:]\n"
   ]
  },
  {
   "cell_type": "code",
   "execution_count": 27,
   "metadata": {},
   "outputs": [
    {
     "name": "stdout",
     "output_type": "stream",
     "text": [
      "Train on 45000 samples, validate on 15000 samples\n",
      "Epoch 1/25\n",
      "45000/45000 [==============================] - 1s 20us/step - loss: 0.1278 - acc: 0.9614 - val_loss: 0.1698 - val_acc: 0.9515\n",
      "Epoch 2/25\n",
      "45000/45000 [==============================] - 1s 21us/step - loss: 0.1225 - acc: 0.9639 - val_loss: 0.1653 - val_acc: 0.9524\n",
      "Epoch 3/25\n",
      "45000/45000 [==============================] - 1s 20us/step - loss: 0.1154 - acc: 0.9649 - val_loss: 0.1623 - val_acc: 0.9527\n",
      "Epoch 4/25\n",
      "45000/45000 [==============================] - 1s 20us/step - loss: 0.1123 - acc: 0.9659 - val_loss: 0.1732 - val_acc: 0.9496\n",
      "Epoch 5/25\n",
      "45000/45000 [==============================] - 1s 20us/step - loss: 0.1073 - acc: 0.9677 - val_loss: 0.1589 - val_acc: 0.9549\n",
      "Epoch 6/25\n",
      "45000/45000 [==============================] - 1s 21us/step - loss: 0.1035 - acc: 0.9684 - val_loss: 0.1546 - val_acc: 0.9555\n",
      "Epoch 7/25\n",
      "45000/45000 [==============================] - 1s 21us/step - loss: 0.0996 - acc: 0.9704 - val_loss: 0.1650 - val_acc: 0.9536\n",
      "Epoch 8/25\n",
      "45000/45000 [==============================] - 1s 24us/step - loss: 0.0955 - acc: 0.9701 - val_loss: 0.1604 - val_acc: 0.9546\n",
      "Epoch 9/25\n",
      "45000/45000 [==============================] - 1s 26us/step - loss: 0.0932 - acc: 0.9710 - val_loss: 0.1552 - val_acc: 0.9539\n",
      "Epoch 10/25\n",
      "45000/45000 [==============================] - 1s 21us/step - loss: 0.0904 - acc: 0.9724 - val_loss: 0.1603 - val_acc: 0.9551\n",
      "Epoch 11/25\n",
      "45000/45000 [==============================] - 1s 21us/step - loss: 0.0871 - acc: 0.9737 - val_loss: 0.1656 - val_acc: 0.9549\n",
      "Epoch 12/25\n",
      "45000/45000 [==============================] - 1s 25us/step - loss: 0.0843 - acc: 0.9745 - val_loss: 0.1680 - val_acc: 0.9537\n",
      "Epoch 13/25\n",
      "45000/45000 [==============================] - 1s 24us/step - loss: 0.0817 - acc: 0.9750 - val_loss: 0.1663 - val_acc: 0.9553\n",
      "Epoch 14/25\n",
      "45000/45000 [==============================] - 1s 20us/step - loss: 0.0795 - acc: 0.9755 - val_loss: 0.1631 - val_acc: 0.9540\n",
      "Epoch 15/25\n",
      "45000/45000 [==============================] - 1s 21us/step - loss: 0.0774 - acc: 0.9761 - val_loss: 0.1691 - val_acc: 0.9543\n",
      "Epoch 16/25\n",
      "45000/45000 [==============================] - 1s 21us/step - loss: 0.0757 - acc: 0.9764 - val_loss: 0.1604 - val_acc: 0.9579\n",
      "Epoch 17/25\n",
      "45000/45000 [==============================] - 1s 21us/step - loss: 0.0736 - acc: 0.9772 - val_loss: 0.1533 - val_acc: 0.9588\n",
      "Epoch 18/25\n",
      "45000/45000 [==============================] - 1s 21us/step - loss: 0.0701 - acc: 0.9776 - val_loss: 0.1693 - val_acc: 0.9533\n",
      "Epoch 19/25\n",
      "45000/45000 [==============================] - 1s 21us/step - loss: 0.0702 - acc: 0.9780 - val_loss: 0.1528 - val_acc: 0.9593\n",
      "Epoch 20/25\n",
      "45000/45000 [==============================] - 1s 21us/step - loss: 0.0678 - acc: 0.9796 - val_loss: 0.1624 - val_acc: 0.9584\n",
      "Epoch 21/25\n",
      "45000/45000 [==============================] - 1s 23us/step - loss: 0.0665 - acc: 0.9792 - val_loss: 0.1631 - val_acc: 0.9587\n",
      "Epoch 22/25\n",
      "45000/45000 [==============================] - 1s 24us/step - loss: 0.0652 - acc: 0.9801 - val_loss: 0.1727 - val_acc: 0.9559\n",
      "Epoch 23/25\n",
      "45000/45000 [==============================] - 1s 21us/step - loss: 0.0632 - acc: 0.9801 - val_loss: 0.1630 - val_acc: 0.9579\n",
      "Epoch 24/25\n",
      "45000/45000 [==============================] - 1s 21us/step - loss: 0.0619 - acc: 0.9804 - val_loss: 0.1606 - val_acc: 0.9579\n",
      "Epoch 25/25\n",
      "45000/45000 [==============================] - 1s 21us/step - loss: 0.0604 - acc: 0.9808 - val_loss: 0.1615 - val_acc: 0.9582\n"
     ]
    }
   ],
   "source": [
    "# Define the network (one layer of 512 units and an output of 10 units)\n",
    "network = models.Sequential()\n",
    "network.add(layers.Dense(16, activation='relu', input_shape=(28 * 28,)))\n",
    "network.add(layers.Dense(32, activation='relu'))\n",
    "network.add(layers.Dense(64, activation='relu'))\n",
    "network.add(layers.Dense(10, activation='softmax'))\n",
    "\n",
    "network.compile(optimizer='rmsprop',loss='categorical_crossentropy',metrics=['accuracy'])\n",
    "history1 = network.fit(train_images, train_labels, epochs=25, batch_size=128, validation_data=(val_images, val_labels))"
   ]
  },
  {
   "cell_type": "code",
   "execution_count": null,
   "metadata": {},
   "outputs": [],
   "source": [
    "network = models.Sequential()\n",
    "network.add(layers.Dense(8, activation='relu', input_shape=(28 * 28,)))\n",
    "network.add(layers.Dense(16, activation='relu'))\n",
    "network.add(layers.Dense(32, activation='relu'))\n",
    "network.add(layers.Dense(64, activation='relu'))\n",
    "network.add(layers.Dense(10, activation='softmax'))\n",
    "\n",
    "network.compile(optimizer='rmsprop',loss='categorical_crossentropy',metrics=['accuracy'])\n",
    "history2 = network.fit(train_images, train_labels, epochs=25, batch_size=128, validation_data=(val_images, val_labels))"
   ]
  },
  {
   "cell_type": "code",
   "execution_count": null,
   "metadata": {},
   "outputs": [],
   "source": []
  },
  {
   "cell_type": "code",
   "execution_count": null,
   "metadata": {},
   "outputs": [],
   "source": []
  },
  {
   "cell_type": "code",
   "execution_count": null,
   "metadata": {},
   "outputs": [],
   "source": []
  },
  {
   "cell_type": "code",
   "execution_count": null,
   "metadata": {},
   "outputs": [],
   "source": []
  },
  {
   "cell_type": "code",
   "execution_count": 30,
   "metadata": {},
   "outputs": [
    {
     "data": {
      "text/plain": [
       "<matplotlib.legend.Legend at 0x121212610>"
      ]
     },
     "execution_count": 30,
     "metadata": {},
     "output_type": "execute_result"
    },
    {
     "data": {
      "image/png": "[encoded data removed]",
      "text/plain": [
       "<Figure size 432x288 with 1 Axes>"
      ]
     },
     "metadata": {
      "needs_background": "light"
     },
     "output_type": "display_data"
    }
   ],
   "source": [
    "# Plot the training accuracy\n",
    "\n",
    "epochs = range(1, len(history1.history['acc']) + 1)\n",
    "\n",
    "plt.plot(epochs, history1.history['acc'], 'bv', label='16/32/64')\n",
    "plt.plot(epochs, history1.history['val_acc'], 'bx')\n",
    "\n",
    "plt.plot(epochs, history2.history['acc'], 'bv', label='8/16/32/64')\n",
    "plt.plot(epochs, history2.history['val_acc'], 'bx')\n",
    "\n",
    "plt.title('Training accuracy')\n",
    "plt.xlabel('Epochs')\n",
    "plt.ylabel('Training accuracy')\n",
    "plt.legend()"
   ]
  },
  {
   "cell_type": "code",
   "execution_count": null,
   "metadata": {},
   "outputs": [],
   "source": []
  },
  {
   "cell_type": "code",
   "execution_count": null,
   "metadata": {},
   "outputs": [],
   "source": []
  },
  {
   "cell_type": "code",
   "execution_count": null,
   "metadata": {},
   "outputs": [],
   "source": []
  },
  {
   "cell_type": "code",
   "execution_count": 48,
   "metadata": {},
   "outputs": [
    {
     "name": "stdout",
     "output_type": "stream",
     "text": [
      "10000/10000 [==============================] - 1s 52us/step\n",
      "('test_acc:', 0.9826)\n"
     ]
    }
   ],
   "source": [
    "# Evaluate the performance of the model on the test data\n",
    "test_loss, test_acc = network.evaluate(test_images, test_labels)\n",
    "print('test_acc:', test_acc)"
   ]
  },
  {
   "cell_type": "code",
   "execution_count": null,
   "metadata": {},
   "outputs": [],
   "source": []
  }
 ],
 "metadata": {
  "kernelspec": {
   "display_name": "Python 2",
   "language": "python",
   "name": "python2"
  },
  "language_info": {
   "codemirror_mode": {
    "name": "ipython",
    "version": 2
   },
   "file_extension": ".py",
   "mimetype": "text/x-python",
   "name": "python",
   "nbconvert_exporter": "python",
   "pygments_lexer": "ipython2",
   "version": "2.7.10"
  }
 },
 "nbformat": 4,
 "nbformat_minor": 2
}
