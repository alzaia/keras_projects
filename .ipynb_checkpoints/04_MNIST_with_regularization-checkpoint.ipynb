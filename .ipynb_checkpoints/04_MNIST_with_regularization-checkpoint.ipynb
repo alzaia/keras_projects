{
 "cells": [
  {
   "cell_type": "markdown",
   "metadata": {},
   "source": [
    "### mmm "
   ]
  },
  {
   "cell_type": "code",
   "execution_count": 1,
   "metadata": {},
   "outputs": [
    {
     "name": "stderr",
     "output_type": "stream",
     "text": [
      "Using TensorFlow backend.\n"
     ]
    }
   ],
   "source": [
    "import numpy as np\n",
    "\n",
    "from keras.datasets import mnist\n",
    "from keras import models\n",
    "from keras import layers\n",
    "from keras.utils import to_categorical\n",
    "import matplotlib.pyplot as plt"
   ]
  },
  {
   "cell_type": "code",
   "execution_count": 2,
   "metadata": {},
   "outputs": [],
   "source": [
    "# Download the MNIST dataset\n",
    "(train_images, train_labels), (test_images, test_labels) = mnist.load_data()"
   ]
  },
  {
   "cell_type": "code",
   "execution_count": 3,
   "metadata": {},
   "outputs": [
    {
     "name": "stdout",
     "output_type": "stream",
     "text": [
      "(60000, 28, 28)\n",
      "60000\n"
     ]
    },
    {
     "data": {
      "text/plain": [
       "array([5, 0, 4, ..., 5, 6, 8], dtype=uint8)"
      ]
     },
     "execution_count": 3,
     "metadata": {},
     "output_type": "execute_result"
    }
   ],
   "source": [
    "# The training data has 60000 samples (28x28 images)\n",
    "print train_images.shape\n",
    "# Each image has a label (0 to 9)\n",
    "print len(train_labels)\n",
    "train_labels"
   ]
  },
  {
   "cell_type": "code",
   "execution_count": 4,
   "metadata": {},
   "outputs": [
    {
     "name": "stdout",
     "output_type": "stream",
     "text": [
      "(10000, 28, 28)\n",
      "10000\n"
     ]
    },
    {
     "data": {
      "text/plain": [
       "array([7, 2, 1, ..., 4, 5, 6], dtype=uint8)"
      ]
     },
     "execution_count": 4,
     "metadata": {},
     "output_type": "execute_result"
    }
   ],
   "source": [
    "# The test data has 10000 samples (28x28 images)\n",
    "print test_images.shape\n",
    "# Each image has a label (0 to 9)\n",
    "print len(test_labels)\n",
    "test_labels"
   ]
  },
  {
   "cell_type": "code",
   "execution_count": 5,
   "metadata": {},
   "outputs": [],
   "source": [
    "# Reshape the samples (each sample has 28*28 'features') and normalize between 0-1\n",
    "train_images = train_images.reshape((60000, 28 * 28))\n",
    "train_images = train_images.astype('float32') / 255\n",
    "test_images = test_images.reshape((10000, 28 * 28))\n",
    "test_images = test_images.astype('float32') / 255\n",
    "\n",
    "train_labels = to_categorical(train_labels)\n",
    "test_labels = to_categorical(test_labels)\n",
    "\n",
    "val_images = train_images[:15000,:]\n",
    "val_labels = train_labels[:15000,:]\n",
    "\n",
    "train_images = train_images[15000:,:]\n",
    "train_labels = train_labels[15000:,:]\n"
   ]
  },
  {
   "cell_type": "code",
   "execution_count": 26,
   "metadata": {},
   "outputs": [
    {
     "name": "stdout",
     "output_type": "stream",
     "text": [
      "Train on 45000 samples, validate on 15000 samples\n",
      "Epoch 1/25\n",
      "45000/45000 [==============================] - 4s 99us/step - loss: 0.2899 - acc: 0.9174 - val_loss: 0.1620 - val_acc: 0.9527\n",
      "Epoch 2/25\n",
      "45000/45000 [==============================] - 4s 86us/step - loss: 0.1211 - acc: 0.9648 - val_loss: 0.1225 - val_acc: 0.9644\n",
      "Epoch 3/25\n",
      "45000/45000 [==============================] - 3s 78us/step - loss: 0.0802 - acc: 0.9764 - val_loss: 0.0951 - val_acc: 0.9718\n",
      "Epoch 4/25\n",
      "45000/45000 [==============================] - 4s 81us/step - loss: 0.0571 - acc: 0.9826 - val_loss: 0.0888 - val_acc: 0.9735\n",
      "Epoch 5/25\n",
      "45000/45000 [==============================] - 4s 78us/step - loss: 0.0426 - acc: 0.9874 - val_loss: 0.0905 - val_acc: 0.9737\n",
      "Epoch 6/25\n",
      "45000/45000 [==============================] - 4s 84us/step - loss: 0.0324 - acc: 0.9906 - val_loss: 0.0788 - val_acc: 0.9771\n",
      "Epoch 7/25\n",
      "45000/45000 [==============================] - 4s 79us/step - loss: 0.0243 - acc: 0.9928 - val_loss: 0.0821 - val_acc: 0.9761\n",
      "Epoch 8/25\n",
      "45000/45000 [==============================] - 4s 86us/step - loss: 0.0184 - acc: 0.9951 - val_loss: 0.0857 - val_acc: 0.9756\n",
      "Epoch 9/25\n",
      "45000/45000 [==============================] - 4s 80us/step - loss: 0.0137 - acc: 0.9964 - val_loss: 0.0787 - val_acc: 0.9787\n",
      "Epoch 10/25\n",
      "45000/45000 [==============================] - 4s 80us/step - loss: 0.0107 - acc: 0.9971 - val_loss: 0.0841 - val_acc: 0.9797\n",
      "Epoch 11/25\n",
      "45000/45000 [==============================] - 4s 80us/step - loss: 0.0081 - acc: 0.9978 - val_loss: 0.0809 - val_acc: 0.9794\n",
      "Epoch 12/25\n",
      "45000/45000 [==============================] - 4s 80us/step - loss: 0.0060 - acc: 0.9985 - val_loss: 0.0829 - val_acc: 0.9801\n",
      "Epoch 13/25\n",
      "45000/45000 [==============================] - 4s 81us/step - loss: 0.0051 - acc: 0.9988 - val_loss: 0.0838 - val_acc: 0.9802\n",
      "Epoch 14/25\n",
      "45000/45000 [==============================] - 4s 81us/step - loss: 0.0038 - acc: 0.9989 - val_loss: 0.0906 - val_acc: 0.9789\n",
      "Epoch 15/25\n",
      "45000/45000 [==============================] - 4s 86us/step - loss: 0.0028 - acc: 0.9994 - val_loss: 0.0929 - val_acc: 0.9798\n",
      "Epoch 16/25\n",
      "45000/45000 [==============================] - 4s 93us/step - loss: 0.0021 - acc: 0.9995 - val_loss: 0.0918 - val_acc: 0.9816\n",
      "Epoch 17/25\n",
      "45000/45000 [==============================] - 4s 82us/step - loss: 0.0017 - acc: 0.9996 - val_loss: 0.1129 - val_acc: 0.9777\n",
      "Epoch 18/25\n",
      "45000/45000 [==============================] - 4s 83us/step - loss: 0.0012 - acc: 0.9997 - val_loss: 0.0989 - val_acc: 0.9799\n",
      "Epoch 19/25\n",
      "45000/45000 [==============================] - 4s 84us/step - loss: 0.0012 - acc: 0.9997 - val_loss: 0.1167 - val_acc: 0.9777\n",
      "Epoch 20/25\n",
      "45000/45000 [==============================] - 4s 87us/step - loss: 6.1055e-04 - acc: 0.9999 - val_loss: 0.1139 - val_acc: 0.9797\n",
      "Epoch 21/25\n",
      "45000/45000 [==============================] - 4s 82us/step - loss: 7.2082e-04 - acc: 0.9998 - val_loss: 0.1133 - val_acc: 0.9805\n",
      "Epoch 22/25\n",
      "45000/45000 [==============================] - 4s 83us/step - loss: 5.2452e-04 - acc: 0.9998 - val_loss: 0.1180 - val_acc: 0.9789\n",
      "Epoch 23/25\n",
      "45000/45000 [==============================] - 4s 93us/step - loss: 3.9777e-04 - acc: 0.9999 - val_loss: 0.1092 - val_acc: 0.9810\n",
      "Epoch 24/25\n",
      "45000/45000 [==============================] - 4s 80us/step - loss: 3.3600e-04 - acc: 0.9999 - val_loss: 0.1150 - val_acc: 0.9803\n",
      "Epoch 25/25\n",
      "45000/45000 [==============================] - 4s 82us/step - loss: 5.5129e-04 - acc: 0.9998 - val_loss: 0.1106 - val_acc: 0.9807\n"
     ]
    }
   ],
   "source": [
    "# Define the network (one layer of 512 units and an output of 10 units)\n",
    "network = models.Sequential()\n",
    "network.add(layers.Dense(512, activation='relu', input_shape=(28 * 28,)))\n",
    "network.add(layers.Dense(10, activation='softmax'))\n",
    "\n",
    "network.compile(optimizer='rmsprop',loss='categorical_crossentropy',metrics=['accuracy'])\n",
    "history1 = network.fit(train_images, train_labels, epochs=25, batch_size=128, validation_data=(val_images, val_labels))"
   ]
  },
  {
   "cell_type": "code",
   "execution_count": 27,
   "metadata": {},
   "outputs": [
    {
     "data": {
      "text/plain": [
       "<matplotlib.legend.Legend at 0x137996f10>"
      ]
     },
     "execution_count": 27,
     "metadata": {},
     "output_type": "execute_result"
    },
    {
     "data": {
      "image/png": "[encoded data removed]",
      "text/plain": [
       "<Figure size 432x288 with 1 Axes>"
      ]
     },
     "metadata": {
      "needs_background": "light"
     },
     "output_type": "display_data"
    }
   ],
   "source": [
    "# Plot the training loss\n",
    "\n",
    "epochs = range(1, len(history1.history['acc']) + 1)\n",
    "\n",
    "plt.plot(epochs, history1.history['loss'], 'b', linestyle='-', label='Standard')\n",
    "plt.plot(epochs, history1.history['val_loss'], 'b', linestyle='--')\n",
    "\n",
    "plt.title('Loss')\n",
    "plt.xlabel('Epochs')\n",
    "plt.ylabel('Loss')\n",
    "plt.legend()"
   ]
  },
  {
   "cell_type": "code",
   "execution_count": 19,
   "metadata": {},
   "outputs": [
    {
     "name": "stdout",
     "output_type": "stream",
     "text": [
      "Train on 45000 samples, validate on 15000 samples\n",
      "Epoch 1/25\n",
      "45000/45000 [==============================] - 4s 97us/step - loss: 0.5405 - acc: 0.9112 - val_loss: 0.3512 - val_acc: 0.9388\n",
      "Epoch 2/25\n",
      "45000/45000 [==============================] - 4s 87us/step - loss: 0.2748 - acc: 0.9523 - val_loss: 0.2834 - val_acc: 0.9405\n",
      "Epoch 3/25\n",
      "45000/45000 [==============================] - 4s 88us/step - loss: 0.2176 - acc: 0.9608 - val_loss: 0.2067 - val_acc: 0.9636\n",
      "Epoch 4/25\n",
      "45000/45000 [==============================] - 4s 88us/step - loss: 0.1912 - acc: 0.9662 - val_loss: 0.1849 - val_acc: 0.9663\n",
      "Epoch 5/25\n",
      "45000/45000 [==============================] - 4s 89us/step - loss: 0.1768 - acc: 0.9680 - val_loss: 0.1955 - val_acc: 0.9634\n",
      "Epoch 6/25\n",
      "45000/45000 [==============================] - 4s 88us/step - loss: 0.1661 - acc: 0.9711 - val_loss: 0.2058 - val_acc: 0.9576\n",
      "Epoch 7/25\n",
      "45000/45000 [==============================] - 4s 93us/step - loss: 0.1586 - acc: 0.9723 - val_loss: 0.1860 - val_acc: 0.9625\n",
      "Epoch 8/25\n",
      "45000/45000 [==============================] - 5s 100us/step - loss: 0.1528 - acc: 0.9728 - val_loss: 0.1587 - val_acc: 0.9717\n",
      "Epoch 9/25\n",
      "45000/45000 [==============================] - 4s 93us/step - loss: 0.1479 - acc: 0.9748 - val_loss: 0.1727 - val_acc: 0.9681\n",
      "Epoch 10/25\n",
      "45000/45000 [==============================] - 4s 90us/step - loss: 0.1456 - acc: 0.9750 - val_loss: 0.1579 - val_acc: 0.9711\n",
      "Epoch 11/25\n",
      "45000/45000 [==============================] - 4s 90us/step - loss: 0.1395 - acc: 0.9755 - val_loss: 0.1622 - val_acc: 0.9692\n",
      "Epoch 12/25\n",
      "45000/45000 [==============================] - 4s 92us/step - loss: 0.1370 - acc: 0.9763 - val_loss: 0.1782 - val_acc: 0.9647\n",
      "Epoch 13/25\n",
      "45000/45000 [==============================] - 5s 106us/step - loss: 0.1326 - acc: 0.9776 - val_loss: 0.1684 - val_acc: 0.9676\n",
      "Epoch 14/25\n",
      "45000/45000 [==============================] - 4s 91us/step - loss: 0.1324 - acc: 0.9772 - val_loss: 0.1548 - val_acc: 0.9727\n",
      "Epoch 15/25\n",
      "45000/45000 [==============================] - 4s 91us/step - loss: 0.1276 - acc: 0.9789 - val_loss: 0.1648 - val_acc: 0.9663\n",
      "Epoch 16/25\n",
      "45000/45000 [==============================] - 4s 91us/step - loss: 0.1267 - acc: 0.9783 - val_loss: 0.1751 - val_acc: 0.9655\n",
      "Epoch 17/25\n",
      "45000/45000 [==============================] - 4s 91us/step - loss: 0.1254 - acc: 0.9789 - val_loss: 0.1619 - val_acc: 0.9687\n",
      "Epoch 18/25\n",
      "45000/45000 [==============================] - 4s 91us/step - loss: 0.1229 - acc: 0.9796 - val_loss: 0.1468 - val_acc: 0.9725\n",
      "Epoch 19/25\n",
      "45000/45000 [==============================] - 4s 91us/step - loss: 0.1226 - acc: 0.9801 - val_loss: 0.1494 - val_acc: 0.9723\n",
      "Epoch 20/25\n",
      "45000/45000 [==============================] - 4s 91us/step - loss: 0.1206 - acc: 0.9795 - val_loss: 0.1696 - val_acc: 0.9669\n",
      "Epoch 21/25\n",
      "45000/45000 [==============================] - 4s 92us/step - loss: 0.1182 - acc: 0.9808 - val_loss: 0.1933 - val_acc: 0.9558\n",
      "Epoch 22/25\n",
      "45000/45000 [==============================] - 4s 91us/step - loss: 0.1165 - acc: 0.9813 - val_loss: 0.1514 - val_acc: 0.9710\n",
      "Epoch 23/25\n",
      "45000/45000 [==============================] - 4s 91us/step - loss: 0.1154 - acc: 0.9811 - val_loss: 0.1392 - val_acc: 0.9750\n",
      "Epoch 24/25\n",
      "45000/45000 [==============================] - 4s 91us/step - loss: 0.1129 - acc: 0.9815 - val_loss: 0.1498 - val_acc: 0.9710\n",
      "Epoch 25/25\n",
      "45000/45000 [==============================] - 4s 91us/step - loss: 0.1111 - acc: 0.9814 - val_loss: 0.1350 - val_acc: 0.9749\n"
     ]
    }
   ],
   "source": [
    "# Adding L2 regularization\n",
    "\n",
    "from keras import regularizers\n",
    "\n",
    "network = models.Sequential()\n",
    "\n",
    "network.add(layers.Dense(512, kernel_regularizer=regularizers.l2(0.001), activation='relu', input_shape=(28 * 28,)))\n",
    "network.add(layers.Dense(10, activation='softmax'))\n",
    "\n",
    "network.compile(optimizer='rmsprop',loss='categorical_crossentropy',metrics=['accuracy'])\n",
    "history2 = network.fit(train_images, train_labels, epochs=25, batch_size=128, validation_data=(val_images, val_labels))"
   ]
  },
  {
   "cell_type": "code",
   "execution_count": 22,
   "metadata": {},
   "outputs": [
    {
     "data": {
      "text/plain": [
       "<matplotlib.legend.Legend at 0x136a63e90>"
      ]
     },
     "execution_count": 22,
     "metadata": {},
     "output_type": "execute_result"
    },
    {
     "data": {
      "image/png": "[encoded data removed]",
      "text/plain": [
       "<Figure size 432x288 with 1 Axes>"
      ]
     },
     "metadata": {
      "needs_background": "light"
     },
     "output_type": "display_data"
    }
   ],
   "source": [
    "epochs = range(1, len(history1.history['acc']) + 1)\n",
    "\n",
    "plt.plot(epochs, history2.history['loss'], 'r', linestyle='-', label='L2 reg')\n",
    "plt.plot(epochs, history2.history['val_loss'], 'r', linestyle='--')\n",
    "\n",
    "plt.title('Loss')\n",
    "plt.xlabel('Epochs')\n",
    "plt.ylabel('Loss')\n",
    "plt.legend()"
   ]
  },
  {
   "cell_type": "code",
   "execution_count": 23,
   "metadata": {},
   "outputs": [
    {
     "name": "stdout",
     "output_type": "stream",
     "text": [
      "WARNING:tensorflow:From /Users/rudinakaprata/Documents/Aldo/ML_Stanford/venv_ML/lib/python2.7/site-packages/keras/backend/tensorflow_backend.py:3445: calling dropout (from tensorflow.python.ops.nn_ops) with keep_prob is deprecated and will be removed in a future version.\n",
      "Instructions for updating:\n",
      "Please use `rate` instead of `keep_prob`. Rate should be set to `rate = 1 - keep_prob`.\n",
      "Train on 45000 samples, validate on 15000 samples\n",
      "Epoch 1/25\n",
      "45000/45000 [==============================] - 4s 96us/step - loss: 0.3592 - acc: 0.8940 - val_loss: 0.1848 - val_acc: 0.9456\n",
      "Epoch 2/25\n",
      "45000/45000 [==============================] - 4s 82us/step - loss: 0.1747 - acc: 0.9490 - val_loss: 0.1383 - val_acc: 0.9587\n",
      "Epoch 3/25\n",
      "45000/45000 [==============================] - 4s 82us/step - loss: 0.1339 - acc: 0.9607 - val_loss: 0.1128 - val_acc: 0.9678\n",
      "Epoch 4/25\n",
      "45000/45000 [==============================] - 4s 82us/step - loss: 0.1121 - acc: 0.9670 - val_loss: 0.1001 - val_acc: 0.9709\n",
      "Epoch 5/25\n",
      "45000/45000 [==============================] - 4s 86us/step - loss: 0.0963 - acc: 0.9710 - val_loss: 0.0917 - val_acc: 0.9739\n",
      "Epoch 6/25\n",
      "45000/45000 [==============================] - 4s 85us/step - loss: 0.0841 - acc: 0.9747 - val_loss: 0.0934 - val_acc: 0.9737\n",
      "Epoch 7/25\n",
      "45000/45000 [==============================] - 4s 89us/step - loss: 0.0778 - acc: 0.9768 - val_loss: 0.0863 - val_acc: 0.9751\n",
      "Epoch 8/25\n",
      "45000/45000 [==============================] - 5s 102us/step - loss: 0.0714 - acc: 0.9782 - val_loss: 0.0845 - val_acc: 0.9757\n",
      "Epoch 9/25\n",
      "45000/45000 [==============================] - 4s 93us/step - loss: 0.0638 - acc: 0.9802 - val_loss: 0.0829 - val_acc: 0.9763\n",
      "Epoch 10/25\n",
      "45000/45000 [==============================] - 4s 88us/step - loss: 0.0608 - acc: 0.9820 - val_loss: 0.0771 - val_acc: 0.9791\n",
      "Epoch 11/25\n",
      "45000/45000 [==============================] - 4s 95us/step - loss: 0.0549 - acc: 0.9829 - val_loss: 0.0833 - val_acc: 0.9781\n",
      "Epoch 12/25\n",
      "45000/45000 [==============================] - 4s 95us/step - loss: 0.0523 - acc: 0.9836 - val_loss: 0.0818 - val_acc: 0.9800\n",
      "Epoch 13/25\n",
      "45000/45000 [==============================] - 4s 93us/step - loss: 0.0483 - acc: 0.9848 - val_loss: 0.0834 - val_acc: 0.9797\n",
      "Epoch 14/25\n",
      "45000/45000 [==============================] - 5s 102us/step - loss: 0.0466 - acc: 0.9853 - val_loss: 0.0809 - val_acc: 0.9799\n",
      "Epoch 15/25\n",
      "45000/45000 [==============================] - 4s 91us/step - loss: 0.0453 - acc: 0.9857 - val_loss: 0.0902 - val_acc: 0.9782\n",
      "Epoch 16/25\n",
      "45000/45000 [==============================] - 4s 89us/step - loss: 0.0411 - acc: 0.9873 - val_loss: 0.0848 - val_acc: 0.9791\n",
      "Epoch 17/25\n",
      "45000/45000 [==============================] - 4s 88us/step - loss: 0.0410 - acc: 0.9867 - val_loss: 0.0848 - val_acc: 0.9800\n",
      "Epoch 18/25\n",
      "45000/45000 [==============================] - 4s 85us/step - loss: 0.0387 - acc: 0.9882 - val_loss: 0.0869 - val_acc: 0.9805\n",
      "Epoch 19/25\n",
      "45000/45000 [==============================] - 4s 84us/step - loss: 0.0377 - acc: 0.9888 - val_loss: 0.0859 - val_acc: 0.9804\n",
      "Epoch 20/25\n",
      "45000/45000 [==============================] - 4s 88us/step - loss: 0.0320 - acc: 0.9904 - val_loss: 0.0871 - val_acc: 0.9800\n",
      "Epoch 21/25\n",
      "45000/45000 [==============================] - 4s 87us/step - loss: 0.0336 - acc: 0.9901 - val_loss: 0.0828 - val_acc: 0.9807\n",
      "Epoch 22/25\n",
      "45000/45000 [==============================] - 4s 86us/step - loss: 0.0358 - acc: 0.9893 - val_loss: 0.0825 - val_acc: 0.9812\n",
      "Epoch 23/25\n",
      "45000/45000 [==============================] - 4s 86us/step - loss: 0.0320 - acc: 0.9901 - val_loss: 0.0881 - val_acc: 0.9817\n",
      "Epoch 24/25\n",
      "45000/45000 [==============================] - 4s 91us/step - loss: 0.0294 - acc: 0.9910 - val_loss: 0.0869 - val_acc: 0.9811\n",
      "Epoch 25/25\n",
      "45000/45000 [==============================] - 4s 92us/step - loss: 0.0299 - acc: 0.9907 - val_loss: 0.0912 - val_acc: 0.9816\n"
     ]
    }
   ],
   "source": [
    "# Adding dropout\n",
    "\n",
    "network = models.Sequential()\n",
    "\n",
    "network.add(layers.Dense(512, activation='relu', input_shape=(28 * 28,)))\n",
    "network.add(layers.Dropout(0.5))\n",
    "network.add(layers.Dense(10, activation='softmax'))\n",
    "\n",
    "network.compile(optimizer='rmsprop',loss='categorical_crossentropy',metrics=['accuracy'])\n",
    "history3 = network.fit(train_images, train_labels, epochs=25, batch_size=128, validation_data=(val_images, val_labels))\n"
   ]
  },
  {
   "cell_type": "code",
   "execution_count": 24,
   "metadata": {},
   "outputs": [
    {
     "data": {
      "text/plain": [
       "<matplotlib.legend.Legend at 0x1358e6bd0>"
      ]
     },
     "execution_count": 24,
     "metadata": {},
     "output_type": "execute_result"
    },
    {
     "data": {
      "image/png": "[encoded data removed]",
      "text/plain": [
       "<Figure size 432x288 with 1 Axes>"
      ]
     },
     "metadata": {
      "needs_background": "light"
     },
     "output_type": "display_data"
    }
   ],
   "source": [
    "epochs = range(1, len(history1.history['acc']) + 1)\n",
    "\n",
    "plt.plot(epochs, history3.history['loss'], 'g', linestyle='-', label='Dropout')\n",
    "plt.plot(epochs, history3.history['val_loss'], 'g', linestyle='--')\n",
    "\n",
    "plt.title('Loss')\n",
    "plt.xlabel('Epochs')\n",
    "plt.ylabel('Loss')\n",
    "plt.legend()"
   ]
  },
  {
   "cell_type": "code",
   "execution_count": 28,
   "metadata": {},
   "outputs": [
    {
     "data": {
      "text/plain": [
       "<matplotlib.legend.Legend at 0x137a9d110>"
      ]
     },
     "execution_count": 28,
     "metadata": {},
     "output_type": "execute_result"
    },
    {
     "data": {
      "image/png": "[encoded data removed]",
      "text/plain": [
       "<Figure size 432x288 with 1 Axes>"
      ]
     },
     "metadata": {
      "needs_background": "light"
     },
     "output_type": "display_data"
    }
   ],
   "source": [
    "# Compare the 3 models\n",
    "\n",
    "epochs = range(1, len(history1.history['acc']) + 1)\n",
    "\n",
    "plt.plot(epochs, history1.history['loss'], 'b', linestyle='-', label='Standard')\n",
    "plt.plot(epochs, history1.history['val_loss'], 'b', linestyle='--')\n",
    "\n",
    "plt.plot(epochs, history2.history['loss'], 'r', linestyle='-', label='L2 Reg')\n",
    "plt.plot(epochs, history2.history['val_loss'], 'r', linestyle='--')\n",
    "\n",
    "plt.plot(epochs, history3.history['loss'], 'g', linestyle='-', label='Dropout')\n",
    "plt.plot(epochs, history3.history['val_loss'], 'g', linestyle='--')\n",
    "\n",
    "plt.title('Loss')\n",
    "plt.xlabel('Epochs')\n",
    "plt.ylabel('Loss')\n",
    "plt.legend()"
   ]
  },
  {
   "cell_type": "code",
   "execution_count": 29,
   "metadata": {},
   "outputs": [],
   "source": [
    "# Standard: overfitting\n",
    "# L2 Reg: higher loss but no overfitting\n",
    "# Dropout: loss in between and overfitting starts later"
   ]
  }
 ],
 "metadata": {
  "kernelspec": {
   "display_name": "Python 2",
   "language": "python",
   "name": "python2"
  },
  "language_info": {
   "codemirror_mode": {
    "name": "ipython",
    "version": 2
   },
   "file_extension": ".py",
   "mimetype": "text/x-python",
   "name": "python",
   "nbconvert_exporter": "python",
   "pygments_lexer": "ipython2",
   "version": "2.7.10"
  }
 },
 "nbformat": 4,
 "nbformat_minor": 2
}
