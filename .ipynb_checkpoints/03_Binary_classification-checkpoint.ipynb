{
 "cells": [
  {
   "cell_type": "markdown",
   "metadata": {},
   "source": [
    "### Binary classification of IMDB movie reviews"
   ]
  },
  {
   "cell_type": "code",
   "execution_count": 35,
   "metadata": {},
   "outputs": [],
   "source": [
    "from keras import models\n",
    "from keras import layers\n",
    "import numpy as np\n",
    "import matplotlib.pyplot as plt"
   ]
  },
  {
   "cell_type": "code",
   "execution_count": null,
   "metadata": {},
   "outputs": [],
   "source": []
  },
  {
   "cell_type": "code",
   "execution_count": 9,
   "metadata": {},
   "outputs": [],
   "source": [
    "# Define a dense (fully connected) layer than takes an input of 15 features and outputs 32 units\n",
    "layer1 = layers.Dense(32, input_shape=(15,))"
   ]
  },
  {
   "cell_type": "code",
   "execution_count": null,
   "metadata": {},
   "outputs": [],
   "source": []
  },
  {
   "cell_type": "code",
   "execution_count": 5,
   "metadata": {},
   "outputs": [],
   "source": [
    "# A network defined with Sequential\n",
    "\n",
    "model = models.Sequential()\n",
    "model.add(layers.Dense(32, activation='relu', input_shape=(784,)))\n",
    "model.add(layers.Dense(10, activation='softmax'))\n"
   ]
  },
  {
   "cell_type": "code",
   "execution_count": 6,
   "metadata": {},
   "outputs": [],
   "source": [
    "# The same model using the functional API\n",
    "\n",
    "input_tensor = layers.Input(shape=(784,))\n",
    "x = layers.Dense(32, activation='relu')(input_tensor)\n",
    "output_tensor = layers.Dense(10, activation='softmax')(x)\n",
    "model = models.Model(inputs=input_tensor, outputs=output_tensor)"
   ]
  },
  {
   "cell_type": "code",
   "execution_count": null,
   "metadata": {},
   "outputs": [],
   "source": []
  },
  {
   "cell_type": "code",
   "execution_count": 10,
   "metadata": {},
   "outputs": [],
   "source": [
    "# Download the IMDB dataset (only keep the 1000 most frequent words)\n",
    "\n",
    "from keras.datasets import imdb\n",
    "(train_data, train_labels), (test_data, test_labels) = imdb.load_data(num_words=1000)"
   ]
  },
  {
   "cell_type": "code",
   "execution_count": 76,
   "metadata": {},
   "outputs": [
    {
     "name": "stdout",
     "output_type": "stream",
     "text": [
      "[1, 13, 244, 6, 87, 337, 7, 628, 2, 5, 28, 285, 15, 240, 93, 23, 288, 549, 18, 2, 673, 4, 241, 534, 2, 2, 20, 38, 54, 13, 258, 46, 44, 14, 13, 2, 2, 12, 5, 5, 51, 9, 14, 45, 6, 762, 7, 2, 2, 328, 5, 428, 2, 15, 26, 2, 5, 2, 2, 5, 2, 279, 13, 92, 124, 803, 52, 21, 279, 14, 9, 43, 6, 762, 7, 595, 15, 16, 2, 23, 4, 2, 467, 4, 403, 7, 628, 2, 8, 97, 6, 171, 2, 99, 387, 72, 97, 12, 788, 15, 13, 161, 459, 44, 4, 2, 2, 173, 21, 69, 8, 401, 2, 4, 481, 88, 61, 2, 238, 28, 32, 11, 32, 14, 9, 6, 545, 2, 766, 5, 203, 73, 28, 43, 77, 317, 11, 4, 2, 953, 270, 17, 6, 2, 13, 545, 386, 25, 92, 2, 129, 278, 23, 14, 241, 46, 7, 158]\n",
      "0\n"
     ]
    }
   ],
   "source": [
    "# Show the list of word indices of sample #100\n",
    "print train_data[100]\n",
    "\n",
    "# Show the classification label of sample #100 (0:negative, 1:positive)\n",
    "print train_labels[100]\n"
   ]
  },
  {
   "cell_type": "code",
   "execution_count": 18,
   "metadata": {},
   "outputs": [
    {
     "name": "stdout",
     "output_type": "stream",
     "text": [
      "Downloading data from https://s3.amazonaws.com/text-datasets/imdb_word_index.json\n",
      "1646592/1641221 [==============================] - 27s 17us/step\n",
      "1654784/1641221 [==============================] - 27s 16us/step\n"
     ]
    }
   ],
   "source": [
    "# How to decode the word indices back to words\n",
    "word_index = imdb.get_word_index()"
   ]
  },
  {
   "cell_type": "code",
   "execution_count": 74,
   "metadata": {},
   "outputs": [],
   "source": [
    "# Get the words for sample #100\n",
    "reverse_word_index = dict([(value, key) for (key, value) in word_index.items()])\n",
    "decoded_review = ' '.join([reverse_word_index.get(i - 3, '?') for i in train_data[100]])"
   ]
  },
  {
   "cell_type": "code",
   "execution_count": 75,
   "metadata": {},
   "outputs": [
    {
     "name": "stdout",
     "output_type": "stream",
     "text": [
      "? i am a great fan of david ? and have everything that he's made on dvd except for ? room the 2 hour ? ? movie so when i found out about this i ? ? it and and what is this it's a bunch of ? ? black and white ? that are ? and ? ? and ? maybe i don't know what's good but maybe this is just a bunch of crap that was ? on the ? under the name of david ? to make a few ? too let me make it clear that i didn't care about the ? ? part but had to keep ? the sound because my ? might have all in all this is a highly ? release and may well have just been left in the ? box set as a ? i highly recommend you don't ? your money on this 2 out of 10\n"
     ]
    }
   ],
   "source": [
    "# Display the words of data sample #100\n",
    "print decoded_review"
   ]
  },
  {
   "cell_type": "code",
   "execution_count": 44,
   "metadata": {},
   "outputs": [],
   "source": [
    "# Create a function to vectorize the data (we need an array of size 1000 where a word index\n",
    "# appearing in the data will be represented by 1, and 0 otherwise).\n",
    "def vectorize_sequences(sequences, dimension=1000):\n",
    "    results = np.zeros((len(sequences), dimension))\n",
    "    for i, sequence in enumerate(sequences):\n",
    "        results[i, sequence] = 1\n",
    "    return results"
   ]
  },
  {
   "cell_type": "code",
   "execution_count": 77,
   "metadata": {},
   "outputs": [],
   "source": [
    "# Vectorize the train and test data samples\n",
    "x_train = vectorize_sequences(train_data)\n",
    "x_test = vectorize_sequences(test_data)\n",
    "\n",
    "# Vectorize the labels of train and test samples\n",
    "y_train = np.asarray(train_labels).astype('float32')\n",
    "y_test = np.asarray(test_labels).astype('float32')"
   ]
  },
  {
   "cell_type": "code",
   "execution_count": 79,
   "metadata": {},
   "outputs": [],
   "source": [
    "# Define the neural network: 2 hidden layers of 16 units, relu activation, sigmoid output\n",
    "\n",
    "model = models.Sequential()\n",
    "model.add(layers.Dense(16, activation='relu', input_shape=(1000,)))\n",
    "model.add(layers.Dense(16, activation='relu'))\n",
    "model.add(layers.Dense(1, activation='sigmoid'))\n",
    "\n",
    "model.compile(optimizer='rmsprop',loss='binary_crossentropy',metrics=['accuracy'])"
   ]
  },
  {
   "cell_type": "code",
   "execution_count": 80,
   "metadata": {},
   "outputs": [],
   "source": [
    "# From the 25000 samples available for training, remove 5000 to use for validation\n",
    "\n",
    "x_val = x_train[:5000]\n",
    "partial_x_train = x_train[5000:]\n",
    "\n",
    "y_val = y_train[:5000]\n",
    "partial_y_train = y_train[5000:]"
   ]
  },
  {
   "cell_type": "code",
   "execution_count": 82,
   "metadata": {},
   "outputs": [
    {
     "name": "stdout",
     "output_type": "stream",
     "text": [
      "Train on 20000 samples, validate on 5000 samples\n",
      "Epoch 1/20\n",
      "20000/20000 [==============================] - 0s 15us/step - loss: 0.1079 - acc: 0.9642 - val_loss: 0.5426 - val_acc: 0.8288\n",
      "Epoch 2/20\n",
      "20000/20000 [==============================] - 0s 15us/step - loss: 0.1034 - acc: 0.9673 - val_loss: 0.5374 - val_acc: 0.8330\n",
      "Epoch 3/20\n",
      "20000/20000 [==============================] - 0s 15us/step - loss: 0.1034 - acc: 0.9664 - val_loss: 0.5466 - val_acc: 0.8284\n",
      "Epoch 4/20\n",
      "20000/20000 [==============================] - 0s 15us/step - loss: 0.0973 - acc: 0.9697 - val_loss: 0.5597 - val_acc: 0.8284\n",
      "Epoch 5/20\n",
      "20000/20000 [==============================] - 0s 16us/step - loss: 0.0926 - acc: 0.9709 - val_loss: 0.5760 - val_acc: 0.8274\n",
      "Epoch 6/20\n",
      "20000/20000 [==============================] - 0s 15us/step - loss: 0.0910 - acc: 0.9719 - val_loss: 0.5602 - val_acc: 0.8340\n",
      "Epoch 7/20\n",
      "20000/20000 [==============================] - 0s 15us/step - loss: 0.0884 - acc: 0.9722 - val_loss: 0.5694 - val_acc: 0.8322\n",
      "Epoch 8/20\n",
      "20000/20000 [==============================] - 0s 17us/step - loss: 0.0831 - acc: 0.9754 - val_loss: 0.5814 - val_acc: 0.8302\n",
      "Epoch 9/20\n",
      "20000/20000 [==============================] - 0s 15us/step - loss: 0.0801 - acc: 0.9766 - val_loss: 0.6186 - val_acc: 0.8276\n",
      "Epoch 10/20\n",
      "20000/20000 [==============================] - 0s 17us/step - loss: 0.0786 - acc: 0.9771 - val_loss: 0.6049 - val_acc: 0.8316\n",
      "Epoch 11/20\n",
      "20000/20000 [==============================] - 0s 15us/step - loss: 0.0749 - acc: 0.9782 - val_loss: 0.6236 - val_acc: 0.8298\n",
      "Epoch 12/20\n",
      "20000/20000 [==============================] - 0s 15us/step - loss: 0.0712 - acc: 0.9804 - val_loss: 0.6301 - val_acc: 0.8320\n",
      "Epoch 13/20\n",
      "20000/20000 [==============================] - 0s 20us/step - loss: 0.0708 - acc: 0.9796 - val_loss: 0.6555 - val_acc: 0.8290\n",
      "Epoch 14/20\n",
      "20000/20000 [==============================] - 0s 15us/step - loss: 0.0707 - acc: 0.9790 - val_loss: 0.6386 - val_acc: 0.8312\n",
      "Epoch 15/20\n",
      "20000/20000 [==============================] - 0s 16us/step - loss: 0.0645 - acc: 0.9827 - val_loss: 0.6601 - val_acc: 0.8268\n",
      "Epoch 16/20\n",
      "20000/20000 [==============================] - 0s 15us/step - loss: 0.0646 - acc: 0.9819 - val_loss: 0.6736 - val_acc: 0.8274\n",
      "Epoch 17/20\n",
      "20000/20000 [==============================] - 0s 15us/step - loss: 0.0609 - acc: 0.9829 - val_loss: 0.6817 - val_acc: 0.8278\n",
      "Epoch 18/20\n",
      "20000/20000 [==============================] - 0s 20us/step - loss: 0.0567 - acc: 0.9856 - val_loss: 0.7201 - val_acc: 0.8254\n",
      "Epoch 19/20\n",
      "20000/20000 [==============================] - 0s 21us/step - loss: 0.0579 - acc: 0.9846 - val_loss: 0.7356 - val_acc: 0.8232\n",
      "Epoch 20/20\n",
      "20000/20000 [==============================] - 0s 16us/step - loss: 0.0515 - acc: 0.9888 - val_loss: 0.7013 - val_acc: 0.8294\n"
     ]
    }
   ],
   "source": [
    "# Train the network for 20 epochs, using a batch size of 512 samples\n",
    "history = model.fit(partial_x_train, partial_y_train, epochs=20, batch_size=512, validation_data=(x_val, y_val))"
   ]
  },
  {
   "cell_type": "code",
   "execution_count": 66,
   "metadata": {},
   "outputs": [
    {
     "data": {
      "text/plain": [
       "['acc', 'loss', 'val_acc', 'val_loss']"
      ]
     },
     "execution_count": 66,
     "metadata": {},
     "output_type": "execute_result"
    }
   ],
   "source": [
    "# The history object keeps all the training information\n",
    "history_dict = history.history\n",
    "history_dict.keys()"
   ]
  },
  {
   "cell_type": "code",
   "execution_count": 83,
   "metadata": {},
   "outputs": [
    {
     "data": {
      "text/plain": [
       "<matplotlib.legend.Legend at 0x132a481d0>"
      ]
     },
     "execution_count": 83,
     "metadata": {},
     "output_type": "execute_result"
    },
    {
     "data": {
      "image/png": "[encoded data removed]",
      "text/plain": [
       "<Figure size 432x288 with 1 Axes>"
      ]
     },
     "metadata": {
      "needs_background": "light"
     },
     "output_type": "display_data"
    }
   ],
   "source": [
    "# Plot the training and validation loss curves (note that we overfit the training data)\n",
    "\n",
    "history_dict = history.history\n",
    "loss_values = history_dict['loss']\n",
    "val_loss_values = history_dict['val_loss']\n",
    "epochs = range(1, len(loss_values) + 1)\n",
    "\n",
    "plt.plot(epochs, loss_values, 'b', label='Training loss')\n",
    "plt.plot(epochs, val_loss_values, 'r', label='Validation loss')\n",
    "plt.title('Training and validation loss')\n",
    "plt.xlabel('Epochs')\n",
    "plt.ylabel('Loss')\n",
    "plt.legend()\n",
    "\n",
    "\n"
   ]
  },
  {
   "cell_type": "code",
   "execution_count": 84,
   "metadata": {},
   "outputs": [
    {
     "data": {
      "image/png": "[encoded data removed]",
      "text/plain": [
       "<Figure size 432x288 with 1 Axes>"
      ]
     },
     "metadata": {
      "needs_background": "light"
     },
     "output_type": "display_data"
    }
   ],
   "source": [
    "# Plot the training and validation accuracy curves (note that we overfit the training data)\n",
    "\n",
    "plt.clf()\n",
    "acc_values = history_dict['acc'] \n",
    "val_acc_values = history_dict['val_acc']\n",
    "plt.plot(epochs, acc_values, 'b', label='Training acc')\n",
    "plt.plot(epochs, val_acc_values, 'r', label='Validation acc')\n",
    "plt.title('Training and validation accuracy')\n",
    "plt.xlabel('Epochs')\n",
    "plt.ylabel('Loss')\n",
    "plt.legend()\n",
    "plt.show()\n"
   ]
  },
  {
   "cell_type": "code",
   "execution_count": 89,
   "metadata": {},
   "outputs": [
    {
     "name": "stdout",
     "output_type": "stream",
     "text": [
      "25000/25000 [==============================] - 1s 28us/step\n",
      "[0.6970028579521179, 0.82416]\n"
     ]
    }
   ],
   "source": [
    "# Apply the trained model on the test data (we get an accuracy of 82%)\n",
    "results = model.evaluate(x_test, y_test)\n",
    "print results"
   ]
  },
  {
   "cell_type": "code",
   "execution_count": 93,
   "metadata": {},
   "outputs": [
    {
     "data": {
      "text/plain": [
       "array([[0.47024083],\n",
       "       [0.99996495],\n",
       "       [0.18939587],\n",
       "       ...,\n",
       "       [0.02172613],\n",
       "       [0.00404838],\n",
       "       [0.09561685]], dtype=float32)"
      ]
     },
     "execution_count": 93,
     "metadata": {},
     "output_type": "execute_result"
    }
   ],
   "source": [
    "# Use the trained model to predict the labels of test data (the output is the probability of\n",
    "# the review being positive)\n",
    "model.predict(x_test)"
   ]
  },
  {
   "cell_type": "code",
   "execution_count": null,
   "metadata": {},
   "outputs": [],
   "source": []
  },
  {
   "cell_type": "code",
   "execution_count": null,
   "metadata": {},
   "outputs": [],
   "source": []
  },
  {
   "cell_type": "code",
   "execution_count": null,
   "metadata": {},
   "outputs": [],
   "source": []
  },
  {
   "cell_type": "code",
   "execution_count": null,
   "metadata": {},
   "outputs": [],
   "source": []
  },
  {
   "cell_type": "code",
   "execution_count": null,
   "metadata": {},
   "outputs": [],
   "source": []
  },
  {
   "cell_type": "code",
   "execution_count": null,
   "metadata": {},
   "outputs": [],
   "source": []
  },
  {
   "cell_type": "code",
   "execution_count": null,
   "metadata": {},
   "outputs": [],
   "source": []
  },
  {
   "cell_type": "code",
   "execution_count": null,
   "metadata": {},
   "outputs": [],
   "source": []
  }
 ],
 "metadata": {
  "kernelspec": {
   "display_name": "Python 2",
   "language": "python",
   "name": "python2"
  },
  "language_info": {
   "codemirror_mode": {
    "name": "ipython",
    "version": 2
   },
   "file_extension": ".py",
   "mimetype": "text/x-python",
   "name": "python",
   "nbconvert_exporter": "python",
   "pygments_lexer": "ipython2",
   "version": "2.7.10"
  }
 },
 "nbformat": 4,
 "nbformat_minor": 2
}
