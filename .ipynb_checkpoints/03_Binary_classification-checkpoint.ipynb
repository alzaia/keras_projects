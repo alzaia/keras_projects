{
 "cells": [
  {
   "cell_type": "markdown",
   "metadata": {},
   "source": [
    "### How to train a simple neural network for the MNIST dataset (digit classification)"
   ]
  },
  {
   "cell_type": "code",
   "execution_count": 35,
   "metadata": {},
   "outputs": [],
   "source": [
    "from keras import models\n",
    "from keras import layers\n",
    "import numpy as np"
   ]
  },
  {
   "cell_type": "code",
   "execution_count": null,
   "metadata": {},
   "outputs": [],
   "source": []
  },
  {
   "cell_type": "code",
   "execution_count": 9,
   "metadata": {},
   "outputs": [],
   "source": [
    "# Define a dense (fully connected) layer than takes an input of 15 features and outputs 32 units\n",
    "layer1 = layers.Dense(32, input_shape=(15,))"
   ]
  },
  {
   "cell_type": "code",
   "execution_count": null,
   "metadata": {},
   "outputs": [],
   "source": []
  },
  {
   "cell_type": "code",
   "execution_count": 5,
   "metadata": {},
   "outputs": [],
   "source": [
    "# A network defined with Sequential\n",
    "\n",
    "model = models.Sequential()\n",
    "model.add(layers.Dense(32, activation='relu', input_shape=(784,)))\n",
    "model.add(layers.Dense(10, activation='softmax'))\n"
   ]
  },
  {
   "cell_type": "code",
   "execution_count": 6,
   "metadata": {},
   "outputs": [],
   "source": [
    "# The same model using the functional API\n",
    "\n",
    "input_tensor = layers.Input(shape=(784,))\n",
    "x = layers.Dense(32, activation='relu')(input_tensor)\n",
    "output_tensor = layers.Dense(10, activation='softmax')(x)\n",
    "model = models.Model(inputs=input_tensor, outputs=output_tensor)"
   ]
  },
  {
   "cell_type": "code",
   "execution_count": null,
   "metadata": {},
   "outputs": [],
   "source": []
  },
  {
   "cell_type": "code",
   "execution_count": 10,
   "metadata": {},
   "outputs": [],
   "source": [
    "# IMDB dataset\n",
    "\n",
    "from keras.datasets import imdb\n",
    "(train_data, train_labels), (test_data, test_labels) = imdb.load_data(num_words=1000)"
   ]
  },
  {
   "cell_type": "code",
   "execution_count": 17,
   "metadata": {},
   "outputs": [
    {
     "name": "stdout",
     "output_type": "stream",
     "text": [
      "[1, 13, 244, 6, 87, 337, 7, 628, 2, 5, 28, 285, 15, 240, 93, 23, 288, 549, 18, 2, 673, 4, 241, 534, 2, 2, 20, 38, 54, 13, 258, 46, 44, 14, 13, 2, 2, 12, 5, 5, 51, 9, 14, 45, 6, 762, 7, 2, 2, 328, 5, 428, 2, 15, 26, 2, 5, 2, 2, 5, 2, 279, 13, 92, 124, 803, 52, 21, 279, 14, 9, 43, 6, 762, 7, 595, 15, 16, 2, 23, 4, 2, 467, 4, 403, 7, 628, 2, 8, 97, 6, 171, 2, 99, 387, 72, 97, 12, 788, 15, 13, 161, 459, 44, 4, 2, 2, 173, 21, 69, 8, 401, 2, 4, 481, 88, 61, 2, 238, 28, 32, 11, 32, 14, 9, 6, 545, 2, 766, 5, 203, 73, 28, 43, 77, 317, 11, 4, 2, 953, 270, 17, 6, 2, 13, 545, 386, 25, 92, 2, 129, 278, 23, 14, 241, 46, 7, 158]\n",
      "0\n"
     ]
    }
   ],
   "source": [
    "# Integers of train sample #100\n",
    "print train_data[100]\n",
    "\n",
    "# Classification of train sample #100\n",
    "print train_labels[100]\n"
   ]
  },
  {
   "cell_type": "code",
   "execution_count": 18,
   "metadata": {},
   "outputs": [
    {
     "name": "stdout",
     "output_type": "stream",
     "text": [
      "Downloading data from https://s3.amazonaws.com/text-datasets/imdb_word_index.json\n",
      "1646592/1641221 [==============================] - 27s 17us/step\n",
      "1654784/1641221 [==============================] - 27s 16us/step\n"
     ]
    }
   ],
   "source": [
    "# How to decode the words lists\n",
    "word_index = imdb.get_word_index()"
   ]
  },
  {
   "cell_type": "code",
   "execution_count": 38,
   "metadata": {},
   "outputs": [],
   "source": [
    "reverse_word_index = dict([(value, key) for (key, value) in word_index.items()])\n",
    "decoded_review = ' '.join([reverse_word_index.get(i - 3, '?') for i in train_data[100]])"
   ]
  },
  {
   "cell_type": "code",
   "execution_count": 39,
   "metadata": {},
   "outputs": [
    {
     "name": "stdout",
     "output_type": "stream",
     "text": [
      "? i am a great fan of david ? and have everything that he's made on dvd except for ? room the 2 hour ? ? movie so when i found out about this i ? ? it and and what is this it's a bunch of ? ? black and white ? that are ? and ? ? and ? maybe i don't know what's good but maybe this is just a bunch of crap that was ? on the ? under the name of david ? to make a few ? too let me make it clear that i didn't care about the ? ? part but had to keep ? the sound because my ? might have all in all this is a highly ? release and may well have just been left in the ? box set as a ? i highly recommend you don't ? your money on this 2 out of 10\n"
     ]
    }
   ],
   "source": [
    "# The words in data sample 10\n",
    "print decoded_review"
   ]
  },
  {
   "cell_type": "code",
   "execution_count": 44,
   "metadata": {},
   "outputs": [],
   "source": [
    "def vectorize_sequences(sequences, dimension=1000):\n",
    "    results = np.zeros((len(sequences), dimension))\n",
    "    for i, sequence in enumerate(sequences):\n",
    "        results[i, sequence] = 1\n",
    "    return results"
   ]
  },
  {
   "cell_type": "code",
   "execution_count": 48,
   "metadata": {},
   "outputs": [],
   "source": [
    "x_train = vectorize_sequences(train_data)\n",
    "x_test = vectorize_sequences(test_data)\n",
    "\n",
    "\n",
    "y_train = np.asarray(train_labels).astype('float32')\n",
    "y_test = np.asarray(test_labels).astype('float32')"
   ]
  },
  {
   "cell_type": "code",
   "execution_count": 46,
   "metadata": {},
   "outputs": [
    {
     "name": "stdout",
     "output_type": "stream",
     "text": [
      "[1, 13, 244, 6, 87, 337, 7, 628, 2, 5, 28, 285, 15, 240, 93, 23, 288, 549, 18, 2, 673, 4, 241, 534, 2, 2, 20, 38, 54, 13, 258, 46, 44, 14, 13, 2, 2, 12, 5, 5, 51, 9, 14, 45, 6, 762, 7, 2, 2, 328, 5, 428, 2, 15, 26, 2, 5, 2, 2, 5, 2, 279, 13, 92, 124, 803, 52, 21, 279, 14, 9, 43, 6, 762, 7, 595, 15, 16, 2, 23, 4, 2, 467, 4, 403, 7, 628, 2, 8, 97, 6, 171, 2, 99, 387, 72, 97, 12, 788, 15, 13, 161, 459, 44, 4, 2, 2, 173, 21, 69, 8, 401, 2, 4, 481, 88, 61, 2, 238, 28, 32, 11, 32, 14, 9, 6, 545, 2, 766, 5, 203, 73, 28, 43, 77, 317, 11, 4, 2, 953, 270, 17, 6, 2, 13, 545, 386, 25, 92, 2, 129, 278, 23, 14, 241, 46, 7, 158]\n"
     ]
    }
   ],
   "source": [
    "print train_data[100]"
   ]
  },
  {
   "cell_type": "code",
   "execution_count": 47,
   "metadata": {},
   "outputs": [
    {
     "name": "stdout",
     "output_type": "stream",
     "text": [
      "[0. 1. 1. 0. 1. 1. 1. 1. 1. 1. 0. 1. 1. 1. 1. 1. 1. 1. 1. 0. 1. 1. 0. 1.\n",
      " 0. 1. 1. 0. 1. 0. 0. 0. 1. 0. 0. 0. 0. 0. 1. 0. 0. 0. 0. 1. 1. 1. 1. 0.\n",
      " 0. 0. 0. 1. 1. 0. 1. 0. 0. 0. 0. 0. 0. 1. 0. 0. 0. 0. 0. 0. 0. 1. 0. 0.\n",
      " 1. 1. 0. 0. 0. 1. 0. 0. 0. 0. 0. 0. 0. 0. 0. 1. 1. 0. 0. 0. 1. 1. 0. 0.\n",
      " 0. 1. 0. 1. 0. 0. 0. 0. 0. 0. 0. 0. 0. 0. 0. 0. 0. 0. 0. 0. 0. 0. 0. 0.\n",
      " 0. 0. 0. 0. 1. 0. 0. 0. 0. 1. 0. 0. 0. 0. 0. 0. 0. 0. 0. 0. 0. 0. 0. 0.\n",
      " 0. 0. 0. 0. 0. 0. 0. 0. 0. 0. 0. 0. 0. 0. 1. 0. 0. 1. 0. 0. 0. 0. 0. 0.\n",
      " 0. 0. 0. 1. 0. 1. 0. 0. 0. 0. 0. 0. 0. 0. 0. 0. 0. 0. 0. 0. 0. 0. 0. 0.\n",
      " 0. 0. 0. 0. 0. 0. 0. 0. 0. 0. 0. 1. 0. 0. 0. 0. 0. 0. 0. 0. 0. 0. 0. 0.\n",
      " 0. 0. 0. 0. 0. 0. 0. 0. 0. 0. 0. 0. 0. 0. 0. 0. 0. 0. 0. 0. 0. 0. 1. 0.\n",
      " 1. 1. 0. 0. 1. 0. 0. 0. 0. 0. 0. 0. 0. 0. 0. 0. 0. 0. 1. 0. 0. 0. 0. 0.\n",
      " 0. 0. 0. 0. 0. 0. 1. 0. 0. 0. 0. 0. 0. 0. 1. 1. 0. 0. 0. 0. 0. 1. 0. 0.\n",
      " 1. 0. 0. 0. 0. 0. 0. 0. 0. 0. 0. 0. 0. 0. 0. 0. 0. 0. 0. 0. 0. 0. 0. 0.\n",
      " 0. 0. 0. 0. 0. 1. 0. 0. 0. 0. 0. 0. 0. 0. 0. 0. 1. 0. 0. 0. 0. 0. 0. 0.\n",
      " 0. 1. 0. 0. 0. 0. 0. 0. 0. 0. 0. 0. 0. 0. 0. 0. 0. 0. 0. 0. 0. 0. 0. 0.\n",
      " 0. 0. 0. 0. 0. 0. 0. 0. 0. 0. 0. 0. 0. 0. 0. 0. 0. 0. 0. 0. 0. 0. 0. 0.\n",
      " 0. 0. 1. 1. 0. 0. 0. 0. 0. 0. 0. 0. 0. 0. 0. 0. 0. 1. 0. 1. 0. 0. 0. 0.\n",
      " 0. 0. 0. 0. 0. 0. 0. 0. 0. 0. 0. 0. 0. 0. 0. 0. 0. 0. 0. 0. 1. 0. 0. 0.\n",
      " 0. 0. 0. 0. 0. 0. 0. 0. 0. 0. 0. 0. 0. 0. 0. 0. 0. 0. 0. 0. 0. 0. 0. 0.\n",
      " 0. 0. 0. 1. 0. 0. 0. 0. 0. 0. 0. 1. 0. 0. 0. 0. 0. 0. 0. 0. 0. 0. 0. 0.\n",
      " 0. 1. 0. 0. 0. 0. 0. 0. 0. 0. 0. 0. 0. 0. 0. 0. 0. 0. 0. 0. 0. 0. 0. 0.\n",
      " 0. 0. 0. 0. 0. 0. 0. 0. 0. 0. 0. 0. 0. 0. 0. 0. 0. 0. 0. 0. 0. 0. 0. 0.\n",
      " 0. 0. 0. 0. 0. 0. 1. 0. 0. 0. 0. 0. 0. 0. 0. 0. 0. 1. 0. 0. 0. 1. 0. 0.\n",
      " 0. 0. 0. 0. 0. 0. 0. 0. 0. 0. 0. 0. 0. 0. 0. 0. 0. 0. 0. 0. 0. 0. 0. 0.\n",
      " 0. 0. 0. 0. 0. 0. 0. 0. 0. 0. 0. 0. 0. 0. 0. 0. 0. 0. 0. 1. 0. 0. 0. 0.\n",
      " 0. 0. 0. 0. 0. 0. 0. 0. 0. 0. 0. 0. 0. 0. 0. 0. 0. 0. 0. 0. 0. 0. 0. 0.\n",
      " 0. 0. 0. 0. 1. 0. 0. 0. 0. 0. 0. 0. 0. 0. 0. 0. 0. 0. 0. 0. 0. 0. 0. 0.\n",
      " 0. 0. 0. 0. 0. 0. 0. 0. 0. 0. 0. 0. 0. 0. 0. 0. 0. 0. 0. 0. 0. 0. 0. 0.\n",
      " 0. 1. 0. 0. 0. 0. 0. 0. 0. 0. 0. 0. 0. 0. 0. 0. 0. 0. 0. 0. 0. 0. 0. 0.\n",
      " 0. 0. 0. 0. 0. 0. 0. 0. 0. 0. 0. 0. 0. 0. 0. 0. 0. 0. 0. 0. 0. 0. 0. 0.\n",
      " 0. 0. 0. 0. 0. 0. 0. 0. 0. 0. 0. 0. 0. 0. 0. 0. 0. 0. 0. 0. 0. 0. 0. 0.\n",
      " 0. 0. 0. 0. 0. 0. 0. 0. 0. 0. 0. 0. 0. 0. 0. 0. 0. 0. 1. 0. 0. 0. 1. 0.\n",
      " 0. 0. 0. 0. 0. 0. 0. 0. 0. 0. 0. 0. 0. 0. 0. 0. 0. 0. 0. 0. 1. 0. 0. 0.\n",
      " 0. 0. 0. 0. 0. 0. 0. 0. 0. 0. 0. 1. 0. 0. 0. 0. 0. 0. 0. 0. 0. 0. 0. 0.\n",
      " 0. 0. 0. 0. 0. 0. 0. 0. 0. 0. 0. 0. 0. 0. 0. 0. 0. 0. 0. 0. 0. 0. 0. 0.\n",
      " 0. 0. 0. 0. 0. 0. 0. 0. 0. 0. 0. 0. 0. 0. 0. 0. 0. 0. 0. 0. 0. 0. 0. 0.\n",
      " 0. 0. 0. 0. 0. 0. 0. 0. 0. 0. 0. 0. 0. 0. 0. 0. 0. 0. 0. 0. 0. 0. 0. 0.\n",
      " 0. 0. 0. 0. 0. 0. 0. 0. 0. 0. 0. 0. 0. 0. 0. 0. 0. 0. 0. 0. 0. 0. 0. 0.\n",
      " 0. 0. 0. 0. 0. 0. 0. 0. 0. 0. 0. 0. 0. 0. 0. 0. 0. 0. 0. 0. 0. 0. 0. 0.\n",
      " 0. 0. 0. 0. 0. 0. 0. 0. 0. 0. 0. 0. 0. 0. 0. 0. 0. 1. 0. 0. 0. 0. 0. 0.\n",
      " 0. 0. 0. 0. 0. 0. 0. 0. 0. 0. 0. 0. 0. 0. 0. 0. 0. 0. 0. 0. 0. 0. 0. 0.\n",
      " 0. 0. 0. 0. 0. 0. 0. 0. 0. 0. 0. 0. 0. 0. 0. 0.]\n"
     ]
    }
   ],
   "source": [
    "print x_train[100]"
   ]
  },
  {
   "cell_type": "code",
   "execution_count": 51,
   "metadata": {},
   "outputs": [],
   "source": [
    "\n",
    "model = models.Sequential()\n",
    "model.add(layers.Dense(16, activation='relu', input_shape=(1000,)))\n",
    "model.add(layers.Dense(16, activation='relu'))\n",
    "model.add(layers.Dense(1, activation='sigmoid'))\n",
    "\n",
    "model.compile(optimizer='rmsprop',loss='binary_crossentropy',metrics=['accuracy'])"
   ]
  },
  {
   "cell_type": "code",
   "execution_count": 63,
   "metadata": {},
   "outputs": [],
   "source": [
    "x_val = x_train[:5000]\n",
    "partial_x_train = x_train[5000:]\n",
    "\n",
    "y_val = y_train[:5000]\n",
    "partial_y_train = y_train[5000:]"
   ]
  },
  {
   "cell_type": "code",
   "execution_count": 65,
   "metadata": {},
   "outputs": [
    {
     "name": "stdout",
     "output_type": "stream",
     "text": [
      "Train on 20000 samples, validate on 5000 samples\n",
      "Epoch 1/50\n",
      "20000/20000 [==============================] - 0s 15us/step - loss: 0.0716 - acc: 0.9787 - val_loss: 0.6711 - val_acc: 0.8334\n",
      "Epoch 2/50\n",
      "20000/20000 [==============================] - 0s 14us/step - loss: 0.0650 - acc: 0.9832 - val_loss: 0.7443 - val_acc: 0.8298\n",
      "Epoch 3/50\n",
      "20000/20000 [==============================] - 0s 15us/step - loss: 0.0651 - acc: 0.9810 - val_loss: 0.6984 - val_acc: 0.8220\n",
      "Epoch 4/50\n",
      "20000/20000 [==============================] - 0s 15us/step - loss: 0.0585 - acc: 0.9849 - val_loss: 0.7043 - val_acc: 0.8328\n",
      "Epoch 5/50\n",
      "20000/20000 [==============================] - 0s 15us/step - loss: 0.0571 - acc: 0.9858 - val_loss: 0.7013 - val_acc: 0.8312\n",
      "Epoch 6/50\n",
      "20000/20000 [==============================] - 0s 15us/step - loss: 0.0568 - acc: 0.9849 - val_loss: 0.7246 - val_acc: 0.8276\n",
      "Epoch 7/50\n",
      "20000/20000 [==============================] - 0s 16us/step - loss: 0.0581 - acc: 0.9840 - val_loss: 0.7303 - val_acc: 0.8318\n",
      "Epoch 8/50\n",
      "20000/20000 [==============================] - 0s 15us/step - loss: 0.0512 - acc: 0.9878 - val_loss: 0.7378 - val_acc: 0.8308\n",
      "Epoch 9/50\n",
      "20000/20000 [==============================] - 0s 15us/step - loss: 0.0538 - acc: 0.9859 - val_loss: 0.7497 - val_acc: 0.8304\n",
      "Epoch 10/50\n",
      "20000/20000 [==============================] - 0s 15us/step - loss: 0.0458 - acc: 0.9896 - val_loss: 0.7615 - val_acc: 0.8300\n",
      "Epoch 11/50\n",
      "20000/20000 [==============================] - 0s 15us/step - loss: 0.0496 - acc: 0.9865 - val_loss: 0.7641 - val_acc: 0.8310\n",
      "Epoch 12/50\n",
      "20000/20000 [==============================] - 0s 15us/step - loss: 0.0402 - acc: 0.9922 - val_loss: 0.7928 - val_acc: 0.8296\n",
      "Epoch 13/50\n",
      "20000/20000 [==============================] - 0s 15us/step - loss: 0.0442 - acc: 0.9888 - val_loss: 0.7846 - val_acc: 0.8296\n",
      "Epoch 14/50\n",
      "20000/20000 [==============================] - 0s 15us/step - loss: 0.0431 - acc: 0.9889 - val_loss: 0.8228 - val_acc: 0.8316\n",
      "Epoch 15/50\n",
      "20000/20000 [==============================] - 0s 15us/step - loss: 0.0366 - acc: 0.9923 - val_loss: 0.8314 - val_acc: 0.8334\n",
      "Epoch 16/50\n",
      "20000/20000 [==============================] - 0s 15us/step - loss: 0.0368 - acc: 0.9921 - val_loss: 0.8166 - val_acc: 0.8292\n",
      "Epoch 17/50\n",
      "20000/20000 [==============================] - 0s 15us/step - loss: 0.0360 - acc: 0.9918 - val_loss: 0.8467 - val_acc: 0.8322\n",
      "Epoch 18/50\n",
      "20000/20000 [==============================] - 0s 15us/step - loss: 0.0385 - acc: 0.9899 - val_loss: 0.8441 - val_acc: 0.8302\n",
      "Epoch 19/50\n",
      "20000/20000 [==============================] - 0s 15us/step - loss: 0.0284 - acc: 0.9953 - val_loss: 0.8507 - val_acc: 0.8304\n",
      "Epoch 20/50\n",
      "20000/20000 [==============================] - 0s 15us/step - loss: 0.0321 - acc: 0.9930 - val_loss: 0.8727 - val_acc: 0.8310\n",
      "Epoch 21/50\n",
      "20000/20000 [==============================] - 0s 15us/step - loss: 0.0307 - acc: 0.9937 - val_loss: 0.9495 - val_acc: 0.8100\n",
      "Epoch 22/50\n",
      "20000/20000 [==============================] - 0s 16us/step - loss: 0.0309 - acc: 0.9929 - val_loss: 0.9041 - val_acc: 0.8184\n",
      "Epoch 23/50\n",
      "20000/20000 [==============================] - 0s 19us/step - loss: 0.0264 - acc: 0.9953 - val_loss: 0.9059 - val_acc: 0.8322\n",
      "Epoch 24/50\n",
      "20000/20000 [==============================] - 0s 19us/step - loss: 0.0286 - acc: 0.9935 - val_loss: 0.9400 - val_acc: 0.8320\n",
      "Epoch 25/50\n",
      "20000/20000 [==============================] - 0s 19us/step - loss: 0.0246 - acc: 0.9960 - val_loss: 0.9289 - val_acc: 0.8326\n",
      "Epoch 26/50\n",
      "20000/20000 [==============================] - 0s 20us/step - loss: 0.0263 - acc: 0.9941 - val_loss: 0.9359 - val_acc: 0.8278\n",
      "Epoch 27/50\n",
      "20000/20000 [==============================] - 0s 19us/step - loss: 0.0203 - acc: 0.9970 - val_loss: 0.9419 - val_acc: 0.8314\n",
      "Epoch 28/50\n",
      "20000/20000 [==============================] - 0s 18us/step - loss: 0.0239 - acc: 0.9949 - val_loss: 0.9564 - val_acc: 0.8332\n",
      "Epoch 29/50\n",
      "20000/20000 [==============================] - 0s 15us/step - loss: 0.0230 - acc: 0.9949 - val_loss: 0.9611 - val_acc: 0.8282\n",
      "Epoch 30/50\n",
      "20000/20000 [==============================] - 0s 15us/step - loss: 0.0251 - acc: 0.9939 - val_loss: 0.9888 - val_acc: 0.8308\n",
      "Epoch 31/50\n",
      "20000/20000 [==============================] - 0s 15us/step - loss: 0.0214 - acc: 0.9955 - val_loss: 0.9820 - val_acc: 0.8310\n",
      "Epoch 32/50\n",
      "20000/20000 [==============================] - 0s 15us/step - loss: 0.0198 - acc: 0.9947 - val_loss: 0.9791 - val_acc: 0.8312\n",
      "Epoch 33/50\n",
      "20000/20000 [==============================] - 0s 15us/step - loss: 0.0220 - acc: 0.9947 - val_loss: 1.0020 - val_acc: 0.8330\n",
      "Epoch 34/50\n",
      "20000/20000 [==============================] - 0s 15us/step - loss: 0.0194 - acc: 0.9954 - val_loss: 0.9991 - val_acc: 0.8316\n",
      "Epoch 35/50\n",
      "20000/20000 [==============================] - 0s 15us/step - loss: 0.0195 - acc: 0.9951 - val_loss: 1.0054 - val_acc: 0.8312\n",
      "Epoch 36/50\n",
      "20000/20000 [==============================] - 0s 15us/step - loss: 0.0165 - acc: 0.9966 - val_loss: 1.0118 - val_acc: 0.8318\n",
      "Epoch 37/50\n",
      "20000/20000 [==============================] - 0s 14us/step - loss: 0.0183 - acc: 0.9956 - val_loss: 1.0259 - val_acc: 0.8306\n",
      "Epoch 38/50\n",
      "20000/20000 [==============================] - 0s 14us/step - loss: 0.0165 - acc: 0.9960 - val_loss: 1.0333 - val_acc: 0.8288\n",
      "Epoch 39/50\n",
      "20000/20000 [==============================] - 0s 14us/step - loss: 0.0185 - acc: 0.9954 - val_loss: 1.0393 - val_acc: 0.8306\n",
      "Epoch 40/50\n",
      "20000/20000 [==============================] - 0s 14us/step - loss: 0.0188 - acc: 0.9957 - val_loss: 1.0460 - val_acc: 0.8306\n",
      "Epoch 41/50\n",
      "20000/20000 [==============================] - 0s 14us/step - loss: 0.0157 - acc: 0.9967 - val_loss: 1.0486 - val_acc: 0.8294\n",
      "Epoch 42/50\n",
      "20000/20000 [==============================] - 0s 14us/step - loss: 0.0193 - acc: 0.9955 - val_loss: 1.0593 - val_acc: 0.8294\n",
      "Epoch 43/50\n",
      "20000/20000 [==============================] - 0s 14us/step - loss: 0.0203 - acc: 0.9953 - val_loss: 1.0942 - val_acc: 0.8214\n",
      "Epoch 44/50\n",
      "20000/20000 [==============================] - 0s 15us/step - loss: 0.0064 - acc: 0.9997 - val_loss: 1.0958 - val_acc: 0.8286\n",
      "Epoch 45/50\n",
      "20000/20000 [==============================] - 0s 14us/step - loss: 0.0184 - acc: 0.9953 - val_loss: 1.0844 - val_acc: 0.8300\n",
      "Epoch 46/50\n",
      "20000/20000 [==============================] - 0s 14us/step - loss: 0.0167 - acc: 0.9957 - val_loss: 1.0977 - val_acc: 0.8310\n",
      "Epoch 47/50\n",
      "20000/20000 [==============================] - 0s 14us/step - loss: 0.0178 - acc: 0.9958 - val_loss: 1.1000 - val_acc: 0.8290\n",
      "Epoch 48/50\n",
      "20000/20000 [==============================] - 0s 14us/step - loss: 0.0052 - acc: 0.9999 - val_loss: 1.1179 - val_acc: 0.8290\n",
      "Epoch 49/50\n",
      "20000/20000 [==============================] - 0s 14us/step - loss: 0.0156 - acc: 0.9961 - val_loss: 1.1176 - val_acc: 0.8292\n",
      "Epoch 50/50\n",
      "20000/20000 [==============================] - 0s 15us/step - loss: 0.0175 - acc: 0.9951 - val_loss: 1.1248 - val_acc: 0.8284\n"
     ]
    }
   ],
   "source": [
    "\n",
    "history = model.fit(partial_x_train, partial_y_train, epochs=50, batch_size=512, validation_data=(x_val, y_val))"
   ]
  },
  {
   "cell_type": "code",
   "execution_count": 66,
   "metadata": {},
   "outputs": [
    {
     "data": {
      "text/plain": [
       "['acc', 'loss', 'val_acc', 'val_loss']"
      ]
     },
     "execution_count": 66,
     "metadata": {},
     "output_type": "execute_result"
    }
   ],
   "source": [
    "history_dict = history.history\n",
    "history_dict.keys()"
   ]
  },
  {
   "cell_type": "code",
   "execution_count": 67,
   "metadata": {},
   "outputs": [
    {
     "data": {
      "text/plain": [
       "<matplotlib.legend.Legend at 0x141586bd0>"
      ]
     },
     "execution_count": 67,
     "metadata": {},
     "output_type": "execute_result"
    },
    {
     "data": {
      "image/png": "[encoded data removed]",
      "text/plain": [
       "<Figure size 432x288 with 1 Axes>"
      ]
     },
     "metadata": {
      "needs_background": "light"
     },
     "output_type": "display_data"
    }
   ],
   "source": [
    "import matplotlib.pyplot as plt\n",
    "history_dict = history.history\n",
    "loss_values = history_dict['loss']\n",
    "val_loss_values = history_dict['val_loss']\n",
    "epochs = range(1, len(loss_values) + 1)\n",
    "\n",
    "plt.plot(epochs, loss_values, 'b', label='Training loss')\n",
    "plt.plot(epochs, val_loss_values, 'r', label='Validation loss')\n",
    "plt.title('Training and validation loss')\n",
    "plt.xlabel('Epochs')\n",
    "plt.ylabel('Loss')\n",
    "plt.legend()\n",
    "\n",
    "\n"
   ]
  },
  {
   "cell_type": "code",
   "execution_count": 69,
   "metadata": {},
   "outputs": [
    {
     "data": {
      "image/png": "[encoded data removed]",
      "text/plain": [
       "<Figure size 432x288 with 1 Axes>"
      ]
     },
     "metadata": {
      "needs_background": "light"
     },
     "output_type": "display_data"
    }
   ],
   "source": [
    "plt.clf()\n",
    "acc_values = history_dict['acc'] \n",
    "val_acc_values = history_dict['val_acc']\n",
    "plt.plot(epochs, acc_values, 'b', label='Training acc')\n",
    "plt.plot(epochs, val_acc_values, 'r', label='Validation acc')\n",
    "plt.title('Training and validation accuracy')\n",
    "plt.xlabel('Epochs')\n",
    "plt.ylabel('Loss')\n",
    "plt.legend()\n",
    "plt.show()\n"
   ]
  },
  {
   "cell_type": "code",
   "execution_count": 70,
   "metadata": {},
   "outputs": [
    {
     "name": "stdout",
     "output_type": "stream",
     "text": [
      "Epoch 1/4\n",
      "25000/25000 [==============================] - 1s 26us/step - loss: 0.5612 - acc: 0.7244\n",
      "Epoch 2/4\n",
      "25000/25000 [==============================] - 0s 15us/step - loss: 0.3844 - acc: 0.8444\n",
      "Epoch 3/4\n",
      "25000/25000 [==============================] - 0s 15us/step - loss: 0.3347 - acc: 0.8635\n",
      "Epoch 4/4\n",
      "25000/25000 [==============================] - 0s 18us/step - loss: 0.3158 - acc: 0.8679\n",
      "25000/25000 [==============================] - 1s 47us/step\n"
     ]
    }
   ],
   "source": [
    "model = models.Sequential()\n",
    "model.add(layers.Dense(16, activation='relu', input_shape=(1000,)))\n",
    "model.add(layers.Dense(16, activation='relu'))\n",
    "model.add(layers.Dense(1, activation='sigmoid'))\n",
    "model.compile(optimizer='rmsprop', loss='binary_crossentropy', metrics=['accuracy'])\n",
    "model.fit(x_train, y_train, epochs=4, batch_size=512)\n",
    "results = model.evaluate(x_test, y_test)"
   ]
  },
  {
   "cell_type": "code",
   "execution_count": 71,
   "metadata": {},
   "outputs": [
    {
     "name": "stdout",
     "output_type": "stream",
     "text": [
      "[0.32838202759742735, 0.86272]\n"
     ]
    }
   ],
   "source": [
    "print results"
   ]
  },
  {
   "cell_type": "code",
   "execution_count": 72,
   "metadata": {},
   "outputs": [
    {
     "data": {
      "text/plain": [
       "array([[0.36576694],\n",
       "       [0.98961806],\n",
       "       [0.46336436],\n",
       "       ...,\n",
       "       [0.0672411 ],\n",
       "       [0.07479736],\n",
       "       [0.33314312]], dtype=float32)"
      ]
     },
     "execution_count": 72,
     "metadata": {},
     "output_type": "execute_result"
    }
   ],
   "source": [
    "model.predict(x_test)"
   ]
  },
  {
   "cell_type": "code",
   "execution_count": null,
   "metadata": {},
   "outputs": [],
   "source": []
  },
  {
   "cell_type": "code",
   "execution_count": null,
   "metadata": {},
   "outputs": [],
   "source": []
  },
  {
   "cell_type": "code",
   "execution_count": null,
   "metadata": {},
   "outputs": [],
   "source": []
  },
  {
   "cell_type": "code",
   "execution_count": null,
   "metadata": {},
   "outputs": [],
   "source": []
  },
  {
   "cell_type": "code",
   "execution_count": null,
   "metadata": {},
   "outputs": [],
   "source": []
  },
  {
   "cell_type": "code",
   "execution_count": null,
   "metadata": {},
   "outputs": [],
   "source": []
  },
  {
   "cell_type": "code",
   "execution_count": null,
   "metadata": {},
   "outputs": [],
   "source": []
  },
  {
   "cell_type": "code",
   "execution_count": null,
   "metadata": {},
   "outputs": [],
   "source": []
  }
 ],
 "metadata": {
  "kernelspec": {
   "display_name": "Python 2",
   "language": "python",
   "name": "python2"
  },
  "language_info": {
   "codemirror_mode": {
    "name": "ipython",
    "version": 2
   },
   "file_extension": ".py",
   "mimetype": "text/x-python",
   "name": "python",
   "nbconvert_exporter": "python",
   "pygments_lexer": "ipython2",
   "version": "2.7.10"
  }
 },
 "nbformat": 4,
 "nbformat_minor": 2
}
