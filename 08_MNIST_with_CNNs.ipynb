{
 "cells": [
  {
   "cell_type": "markdown",
   "metadata": {},
   "source": [
    "### mmm "
   ]
  },
  {
   "cell_type": "code",
   "execution_count": 1,
   "metadata": {},
   "outputs": [
    {
     "name": "stderr",
     "output_type": "stream",
     "text": [
      "Using TensorFlow backend.\n"
     ]
    }
   ],
   "source": [
    "import numpy as np\n",
    "\n",
    "from keras.datasets import mnist\n",
    "from keras import models\n",
    "from keras import layers\n",
    "from keras.utils import to_categorical\n",
    "import matplotlib.pyplot as plt"
   ]
  },
  {
   "cell_type": "code",
   "execution_count": 55,
   "metadata": {},
   "outputs": [
    {
     "name": "stdout",
     "output_type": "stream",
     "text": [
      "_________________________________________________________________\n",
      "Layer (type)                 Output Shape              Param #   \n",
      "=================================================================\n",
      "conv2d_67 (Conv2D)           (None, 24, 24, 4)         104       \n",
      "_________________________________________________________________\n",
      "max_pooling2d_45 (MaxPooling (None, 12, 12, 4)         0         \n",
      "_________________________________________________________________\n",
      "conv2d_68 (Conv2D)           (None, 10, 10, 8)         296       \n",
      "_________________________________________________________________\n",
      "max_pooling2d_46 (MaxPooling (None, 5, 5, 8)           0         \n",
      "_________________________________________________________________\n",
      "conv2d_69 (Conv2D)           (None, 3, 3, 16)          1168      \n",
      "_________________________________________________________________\n",
      "flatten_14 (Flatten)         (None, 144)               0         \n",
      "_________________________________________________________________\n",
      "dense_27 (Dense)             (None, 16)                2320      \n",
      "_________________________________________________________________\n",
      "dense_28 (Dense)             (None, 10)                170       \n",
      "=================================================================\n",
      "Total params: 4,058\n",
      "Trainable params: 4,058\n",
      "Non-trainable params: 0\n",
      "_________________________________________________________________\n"
     ]
    }
   ],
   "source": [
    "\n",
    "model = models.Sequential()\n",
    "model.add(layers.Conv2D(4, (5, 5), activation='relu', input_shape=(28, 28, 1))) \n",
    "model.add(layers.MaxPooling2D((2, 2)))\n",
    "model.add(layers.Conv2D(8, (3, 3), activation='relu')) \n",
    "model.add(layers.MaxPooling2D((2, 2)))\n",
    "model.add(layers.Conv2D(16, (3, 3), activation='relu'))\n",
    "model.add(layers.Flatten())\n",
    "model.add(layers.Dense(16, activation='relu'))\n",
    "model.add(layers.Dense(10, activation='softmax'))\n",
    "\n",
    "model.summary()"
   ]
  },
  {
   "cell_type": "code",
   "execution_count": 56,
   "metadata": {},
   "outputs": [
    {
     "name": "stdout",
     "output_type": "stream",
     "text": [
      "(45000, 28, 28, 1)\n",
      "(15000, 28, 28, 1)\n",
      "(45000, 10)\n",
      "(15000, 10)\n"
     ]
    }
   ],
   "source": [
    "# Download the MNIST dataset\n",
    "(train_images, train_labels), (test_images, test_labels) = mnist.load_data()\n",
    "\n",
    "train_images = train_images.reshape((60000, 28, 28, 1))\n",
    "train_images = train_images.astype('float32') / 255\n",
    "\n",
    "test_images = test_images.reshape((10000, 28, 28, 1))\n",
    "test_images = test_images.astype('float32') / 255\n",
    "\n",
    "train_labels = to_categorical(train_labels)\n",
    "test_labels = to_categorical(test_labels)\n",
    "\n",
    "val_images = train_images[:15000]\n",
    "val_labels = train_labels[:15000]\n",
    "\n",
    "train_images = train_images[15000:]\n",
    "train_labels = train_labels[15000:]\n",
    "\n",
    "\n",
    "\n",
    "print train_images.shape\n",
    "print val_images.shape\n",
    "print train_labels.shape\n",
    "print val_labels.shape\n"
   ]
  },
  {
   "cell_type": "code",
   "execution_count": 57,
   "metadata": {},
   "outputs": [
    {
     "name": "stdout",
     "output_type": "stream",
     "text": [
      "Train on 45000 samples, validate on 15000 samples\n",
      "Epoch 1/15\n",
      "45000/45000 [==============================] - 24s 540us/step - loss: 0.4084 - acc: 0.8760 - val_loss: 0.4883 - val_acc: 0.8509\n",
      "Epoch 2/15\n",
      "45000/45000 [==============================] - 26s 582us/step - loss: 0.1347 - acc: 0.9578 - val_loss: 0.1462 - val_acc: 0.9561\n",
      "Epoch 3/15\n",
      "45000/45000 [==============================] - 23s 515us/step - loss: 0.1000 - acc: 0.9696 - val_loss: 0.0910 - val_acc: 0.9721\n",
      "Epoch 4/15\n",
      "45000/45000 [==============================] - 24s 541us/step - loss: 0.0855 - acc: 0.9738 - val_loss: 0.0899 - val_acc: 0.9741\n",
      "Epoch 5/15\n",
      "45000/45000 [==============================] - 25s 557us/step - loss: 0.0751 - acc: 0.9769 - val_loss: 0.0774 - val_acc: 0.9775\n",
      "Epoch 6/15\n",
      "45000/45000 [==============================] - 25s 546us/step - loss: 0.0667 - acc: 0.9795 - val_loss: 0.0756 - val_acc: 0.9773\n",
      "Epoch 7/15\n",
      "45000/45000 [==============================] - 24s 525us/step - loss: 0.0595 - acc: 0.9810 - val_loss: 0.0728 - val_acc: 0.9795\n",
      "Epoch 8/15\n",
      "45000/45000 [==============================] - 24s 536us/step - loss: 0.0551 - acc: 0.9826 - val_loss: 0.0608 - val_acc: 0.9825\n",
      "Epoch 9/15\n",
      "45000/45000 [==============================] - 26s 572us/step - loss: 0.0515 - acc: 0.9838 - val_loss: 0.0622 - val_acc: 0.9825\n",
      "Epoch 10/15\n",
      "45000/45000 [==============================] - 23s 507us/step - loss: 0.0476 - acc: 0.9846 - val_loss: 0.0708 - val_acc: 0.9793\n",
      "Epoch 11/15\n",
      "45000/45000 [==============================] - 24s 524us/step - loss: 0.0456 - acc: 0.9857 - val_loss: 0.0918 - val_acc: 0.9753\n",
      "Epoch 12/15\n",
      "45000/45000 [==============================] - 24s 533us/step - loss: 0.0415 - acc: 0.9872 - val_loss: 0.0632 - val_acc: 0.9823\n",
      "Epoch 13/15\n",
      "45000/45000 [==============================] - 25s 557us/step - loss: 0.0409 - acc: 0.9871 - val_loss: 0.0856 - val_acc: 0.9777\n",
      "Epoch 14/15\n",
      "45000/45000 [==============================] - 28s 611us/step - loss: 0.0416 - acc: 0.9878 - val_loss: 0.0668 - val_acc: 0.9824\n",
      "Epoch 15/15\n",
      "45000/45000 [==============================] - 24s 543us/step - loss: 0.0379 - acc: 0.9886 - val_loss: 0.0726 - val_acc: 0.9810\n"
     ]
    }
   ],
   "source": [
    "model.compile(optimizer='rmsprop',loss='categorical_crossentropy',metrics=['accuracy'])\n",
    "history = model.fit(train_images, train_labels, epochs=15, batch_size=32,validation_data=(val_images, val_labels))"
   ]
  },
  {
   "cell_type": "code",
   "execution_count": 59,
   "metadata": {},
   "outputs": [
    {
     "data": {
      "text/plain": [
       "<matplotlib.legend.Legend at 0x12c1a9050>"
      ]
     },
     "execution_count": 59,
     "metadata": {},
     "output_type": "execute_result"
    },
    {
     "data": {
      "image/png": "[encoded data removed]",
      "text/plain": [
       "<Figure size 432x288 with 1 Axes>"
      ]
     },
     "metadata": {
      "needs_background": "light"
     },
     "output_type": "display_data"
    }
   ],
   "source": [
    "epochs = range(1, len(history.history['acc']) + 1)\n",
    "\n",
    "plt.plot(epochs, history.history['loss'], 'b', linestyle='-', label='Training loss')\n",
    "plt.plot(epochs, history.history['val_loss'], 'b', linestyle='--', label='Validation loss')\n",
    "\n",
    "plt.title('Loss')\n",
    "plt.xlabel('Epochs')\n",
    "plt.ylabel('Loss')\n",
    "plt.legend()"
   ]
  },
  {
   "cell_type": "code",
   "execution_count": null,
   "metadata": {},
   "outputs": [],
   "source": [
    "model.add(layers.Dropout(dropout_list[0]))"
   ]
  },
  {
   "cell_type": "code",
   "execution_count": null,
   "metadata": {},
   "outputs": [],
   "source": []
  },
  {
   "cell_type": "code",
   "execution_count": null,
   "metadata": {},
   "outputs": [],
   "source": []
  },
  {
   "cell_type": "code",
   "execution_count": null,
   "metadata": {},
   "outputs": [],
   "source": []
  },
  {
   "cell_type": "code",
   "execution_count": null,
   "metadata": {},
   "outputs": [],
   "source": []
  },
  {
   "cell_type": "code",
   "execution_count": null,
   "metadata": {},
   "outputs": [],
   "source": []
  },
  {
   "cell_type": "code",
   "execution_count": null,
   "metadata": {},
   "outputs": [],
   "source": []
  },
  {
   "cell_type": "code",
   "execution_count": null,
   "metadata": {},
   "outputs": [],
   "source": []
  }
 ],
 "metadata": {
  "kernelspec": {
   "display_name": "Python 2",
   "language": "python",
   "name": "python2"
  },
  "language_info": {
   "codemirror_mode": {
    "name": "ipython",
    "version": 2
   },
   "file_extension": ".py",
   "mimetype": "text/x-python",
   "name": "python",
   "nbconvert_exporter": "python",
   "pygments_lexer": "ipython2",
   "version": "2.7.10"
  }
 },
 "nbformat": 4,
 "nbformat_minor": 2
}
